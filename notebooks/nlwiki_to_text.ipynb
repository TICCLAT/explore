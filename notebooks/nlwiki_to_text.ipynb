{
 "cells": [
  {
   "cell_type": "code",
   "execution_count": null,
   "metadata": {},
   "outputs": [],
   "source": [
    "%load_ext autoreload\n",
    "%autoreload 2"
   ]
  },
  {
   "cell_type": "code",
   "execution_count": null,
   "metadata": {},
   "outputs": [],
   "source": [
    "%%time\n",
    "\n",
    "\"\"\"\n",
    "Creates a corpus from Wikipedia dump file.\n",
    "Inspired by:\n",
    "https://github.com/panyang/Wikipedia_Word2vec/blob/master/v1/process_wiki.py\n",
    "\"\"\"\n",
    "\n",
    "import sys\n",
    "from gensim.corpora import WikiCorpus\n",
    "\n",
    "def make_corpus(in_f, out_f):\n",
    "    \"\"\"Convert Wikipedia xml dump file to text corpus\"\"\"\n",
    "\n",
    "    output = open(out_f, 'w')\n",
    "    wiki = WikiCorpus(in_f)\n",
    "\n",
    "    i = 0\n",
    "    for text in wiki.get_texts():\n",
    "        output.write(bytes(' '.join(text), 'utf-8').decode('utf-8') + '\\n')\n",
    "        i = i + 1\n",
    "        if (i % 10000 == 0):\n",
    "            print('Processed ' + str(i) + ' articles')\n",
    "    output.close()\n",
    "    print('Processing complete!')\n",
    "\n",
    "wiki_file = '/home/jvdzwaan/Downloads/nlwiki-20190201-pages-articles.xml.bz2'\n",
    "out_file = '/home/jvdzwaan/data/tmp/nlwiki'\n",
    "\n",
    "make_corpus(wiki_file, out_file)"
   ]
  },
  {
   "cell_type": "code",
   "execution_count": null,
   "metadata": {},
   "outputs": [],
   "source": [
    "%%time\n",
    "\n",
    "import spacy\n",
    "\n",
    "from collections import Counter\n",
    "\n",
    "from nlppln.utils import get_files\n",
    "\n",
    "in_dir = '/home/jvdzwaan/data/nlwiki-text-1000'\n",
    "\n",
    "for in_file in get_files(in_dir):\n",
    "    print(in_file)\n",
    "\n",
    "\n",
    "nlp = spacy.load('nl')\n",
    "\n",
    "wiki_file = '/home/jvdzwaan/Downloads/nlwiki-20190201-pages-articles.xml.bz2'\n",
    "\n",
    "wiki = WikiCorpus(wiki_file)\n",
    "\n",
    "i = 0\n",
    "for text in wiki.get_texts():\n",
    "    #doc = nlp(text)\n",
    "    i += 1\n",
    "    if (i % 10000 == 0):\n",
    "        print('Processed ' + str(i) + ' articles')\n"
   ]
  }
 ],
 "metadata": {
  "language_info": {
   "name": "python",
   "pygments_lexer": "ipython3"
  }
 },
 "nbformat": 4,
 "nbformat_minor": 2
}
