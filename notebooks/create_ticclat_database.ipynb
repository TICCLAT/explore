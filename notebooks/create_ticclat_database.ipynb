{
 "cells": [
  {
   "cell_type": "code",
   "execution_count": null,
   "metadata": {},
   "outputs": [],
   "source": [
    "%load_ext autoreload\n",
    "%autoreload 2"
   ]
  },
  {
   "cell_type": "code",
   "execution_count": null,
   "metadata": {},
   "outputs": [],
   "source": [
    "# %matplotlib inline\n",
    "\n",
    "# import numpy as np\n",
    "# import pandas as pd\n",
    "# import matplotlib.pyplot as plt"
   ]
  },
  {
   "cell_type": "code",
   "execution_count": null,
   "metadata": {},
   "outputs": [],
   "source": [
    "# Read information to connect to the database and put it in environment variables\n",
    "import os\n",
    "with open('ticclat_db_ingestion/ENVVARS.txt') as f:\n",
    "    for line in f:\n",
    "        parts = line.split('=')\n",
    "        if len(parts) == 2:\n",
    "            os.environ[parts[0]] = parts[1].strip()"
   ]
  },
  {
   "cell_type": "code",
   "execution_count": null,
   "metadata": {},
   "outputs": [],
   "source": [
    "db_name = 'ticclat'\n",
    "os.environ['dbname'] = db_name"
   ]
  },
  {
   "cell_type": "code",
   "execution_count": null,
   "metadata": {},
   "outputs": [],
   "source": [
    "# from sqlalchemy import create_engine\n",
    "# from sqlalchemy.orm import sessionmaker\n",
    "# from sqlalchemy_utils import database_exists, create_database"
   ]
  },
  {
   "cell_type": "code",
   "execution_count": null,
   "metadata": {},
   "outputs": [],
   "source": [
    "# import MySQLdb"
   ]
  },
  {
   "cell_type": "code",
   "execution_count": null,
   "metadata": {},
   "outputs": [],
   "source": [
    "# db = MySQLdb.connect(\n",
    "#     user=os.environ['user'],\n",
    "#     passwd=os.environ['password']\n",
    "# )"
   ]
  },
  {
   "cell_type": "code",
   "execution_count": null,
   "metadata": {},
   "outputs": [],
   "source": [
    "# with db.cursor() as cursor:\n",
    "#     try:\n",
    "#         cursor.execute(\"CREATE DATABASE ticclat CHARACTER SET utf8mb4 COLLATE utf8mb4_bin;\")\n",
    "#         result = cursor.fetchall()\n",
    "#     except MySQLdb.ProgrammingError as e:\n",
    "#         engine = create_engine(\"mysql://{}:{}@localhost/{}?charset=utf8mb4\".format(os.environ['user'], \n",
    "#                                                            os.environ['password'], \n",
    "#                                                            os.environ['dbname']))\n",
    "#         if database_exists(engine.url):\n",
    "#             print(\"Database `ticclat` already exists, delete it first before recreating.\")\n",
    "#         else:\n",
    "#             raise e"
   ]
  },
  {
   "cell_type": "code",
   "execution_count": null,
   "metadata": {},
   "outputs": [],
   "source": [
    "# engine = create_engine(\"mysql://{}:{}@localhost/{}?charset=utf8mb4\".format(os.environ['user'], \n",
    "#                                                            os.environ['password'], \n",
    "#                                                            os.environ['dbname']))\n",
    "\n",
    "# print(database_exists(engine.url))\n",
    "\n",
    "# Session = sessionmaker(bind=engine)"
   ]
  },
  {
   "cell_type": "code",
   "execution_count": null,
   "metadata": {},
   "outputs": [],
   "source": [
    "# from ticclat.ticclat_schema import Base\n",
    "\n",
    "# # create tables\n",
    "# Base.metadata.create_all(engine)"
   ]
  },
  {
   "cell_type": "code",
   "execution_count": null,
   "metadata": {},
   "outputs": [],
   "source": [
    "# from sqlalchemy import inspect\n",
    "\n",
    "# inspector = inspect(engine)\n",
    "\n",
    "# # Get table information\n",
    "# print(inspector.get_table_names())"
   ]
  },
  {
   "cell_type": "code",
   "execution_count": null,
   "metadata": {},
   "outputs": [],
   "source": [
    "# # PAS OP\n",
    "# # PAS OP\n",
    "# # PAS OP\n",
    "# # PAS OP\n",
    "# # PAS OP\n",
    "# # PAS OP\n",
    "# # DELETE DATABASE (BE CAREFUL!)\n",
    "\n",
    "# from sqlalchemy_utils.functions import drop_database\n",
    "\n",
    "# drop_database(engine.url)\n",
    "\n",
    "# # PAS OP\n",
    "# # PAS OP\n",
    "# # PAS OP\n",
    "# # PAS OP\n",
    "# # PAS OP\n",
    "# # PAS OP"
   ]
  },
  {
   "cell_type": "code",
   "execution_count": null,
   "metadata": {},
   "outputs": [],
   "source": [
    "import ticclat.dbutils"
   ]
  },
  {
   "cell_type": "code",
   "execution_count": null,
   "metadata": {},
   "outputs": [],
   "source": [
    "ticclat.dbutils.create_ticclat_database(True, user=os.environ['user'], passwd=os.environ['password'])"
   ]
  },
  {
   "cell_type": "code",
   "execution_count": null,
   "metadata": {},
   "outputs": [],
   "source": []
  }
 ],
 "metadata": {
  "language_info": {
   "name": "python",
   "pygments_lexer": "ipython3"
  }
 },
 "nbformat": 4,
 "nbformat_minor": 2
}
