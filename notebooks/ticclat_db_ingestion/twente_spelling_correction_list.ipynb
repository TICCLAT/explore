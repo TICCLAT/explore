{
 "cells": [
  {
   "cell_type": "code",
   "execution_count": null,
   "metadata": {},
   "outputs": [],
   "source": [
    "%load_ext autoreload\n",
    "%autoreload 2"
   ]
  },
  {
   "cell_type": "code",
   "execution_count": null,
   "metadata": {},
   "outputs": [],
   "source": [
    "import logging\n",
    "\n",
    "logging.basicConfig(format=\"%(asctime)s [%(process)d] %(levelname)-8s \"\n",
    "                    \"%(name)s,%(lineno)s\\t%(message)s\")\n",
    "logging.getLogger().setLevel('INFO')"
   ]
  },
  {
   "cell_type": "code",
   "execution_count": null,
   "metadata": {},
   "outputs": [],
   "source": [
    "%matplotlib inline\n",
    "\n",
    "import numpy as np\n",
    "import pandas as pd\n",
    "import matplotlib.pyplot as plt\n",
    "\n",
    "from tqdm import tqdm_notebook as tqdm"
   ]
  },
  {
   "cell_type": "code",
   "execution_count": null,
   "metadata": {},
   "outputs": [],
   "source": [
    "# Read information to connect to the database and put it in environment variables\n",
    "import os\n",
    "with open('../ENVVARS.txt') as f:\n",
    "    for line in f:\n",
    "        parts = line.split('=')\n",
    "        if len(parts) == 2:\n",
    "            os.environ[parts[0]] = parts[1].strip()"
   ]
  },
  {
   "cell_type": "code",
   "execution_count": null,
   "metadata": {},
   "outputs": [],
   "source": [
    "%%time\n",
    "# read error data\n",
    "import re\n",
    "\n",
    "def parse_line(line):\n",
    "    # the wordform starts with *\n",
    "    # corrections start with # (there can be multiple) and end with whitspace or ~\n",
    "    # example text start with ~\n",
    "    # 'rules' start with <space>[\n",
    "    \n",
    "    # get the wordform\n",
    "    wf_regex = r'^\\*(?P<wf>.+?)[\\t#]'\n",
    "    m = re.match(wf_regex, line)\n",
    "    wf = m.group('wf')\n",
    "    # Wordforms need to be stripped! \n",
    "    # Whitespace before or after wordforms also leads to duplicate entries in the database.\n",
    "    wf = wf.strip()\n",
    "\n",
    "    # get example text (and remove it)\n",
    "    ex_regex = r'~.+~?'\n",
    "    line = re.sub(ex_regex, '', line)\n",
    "    \n",
    "    # remove 'rule'\n",
    "    rule_regex = r'\\[EA?XAMPL: .+\\]'\n",
    "    line = re.sub(rule_regex, '', line)\n",
    "        \n",
    "    # get the corrections\n",
    "    corrections = []\n",
    "    corr_regex = r'#(?P<corr>.+)'\n",
    "    m = re.search(corr_regex, line)\n",
    "    if m:\n",
    "        # Wordforms need to be stripped! \n",
    "        # Whitespace before or after wordforms also leads to duplicate entries in the database.\n",
    "        corrections = [c.strip().replace('\\t', '') for c in m.group('corr').split('#') if c != '' and len(c) < 100] \n",
    "\n",
    "    return wf, corrections\n",
    "\n",
    "corrections = []\n",
    "\n",
    "# File is in windows-1252 encoding and needs to be converted to utf-8\n",
    "in_file = '/home/jvdzwaan/Downloads/TWENTE.noxml.2002.sq.clean.norm.tok.sortu.unifrq.LC.noapekrol.allasterisk.12.withcorrections.12186.txt'\n",
    "\n",
    "num_lines = 0\n",
    "with open(in_file) as f:\n",
    "    for line in f:\n",
    "        num_lines += 1\n",
    "        #print(repr(line))\n",
    "        wf, corr = parse_line(line)\n",
    "        if wf is not None:\n",
    "            for c in corr:\n",
    "                corrections.append({'wf': wf, 'corr': c})\n",
    "        #else:\n",
    "        #    print(line)\n",
    "        \n",
    "data = pd.DataFrame(corrections)\n",
    "print(num_lines)"
   ]
  },
  {
   "cell_type": "code",
   "execution_count": null,
   "metadata": {},
   "outputs": [],
   "source": [
    "parse_line('*variëiten\t1#1#variëteiten\\n')"
   ]
  },
  {
   "cell_type": "code",
   "execution_count": null,
   "metadata": {},
   "outputs": [],
   "source": [
    "parse_line('*toestemmignbesluit#toestemmingenbesluit\t1\\n')"
   ]
  },
  {
   "cell_type": "code",
   "execution_count": null,
   "metadata": {},
   "outputs": [],
   "source": [
    "data.head()"
   ]
  },
  {
   "cell_type": "code",
   "execution_count": null,
   "metadata": {},
   "outputs": [],
   "source": [
    "db_name = 'ticclat'\n",
    "os.environ['dbname'] = db_name"
   ]
  },
  {
   "cell_type": "code",
   "execution_count": null,
   "metadata": {},
   "outputs": [],
   "source": [
    "from ticclat.ticclat_schema import Lexicon, Wordform, Anahash, WordformLink, WordformLinkSource\n",
    "\n",
    "from ticclat.dbutils import get_session, session_scope\n",
    "\n",
    "Session = get_session(os.environ['user'], os.environ['password'], os.environ['dbname'])"
   ]
  },
  {
   "cell_type": "code",
   "execution_count": null,
   "metadata": {},
   "outputs": [],
   "source": [
    "%%time\n",
    "from ticclat.dbutils import add_lexicon_with_links\n",
    "\n",
    "with session_scope(Session) as session:\n",
    "    add_lexicon_with_links(session, 'TWENTE.noxml.2002.sq.clean.norm.tok.sortu.unifrq.LC.noapekrol.allasterisk.12.withcorrections.12186', \n",
    "                           False, data, 'wf', 'corr', False, True)"
   ]
  }
 ],
 "metadata": {
  "language_info": {
   "name": "python",
   "pygments_lexer": "ipython3"
  }
 },
 "nbformat": 4,
 "nbformat_minor": 2
}
