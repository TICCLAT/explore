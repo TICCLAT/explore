{
 "cells": [
  {
   "cell_type": "markdown",
   "metadata": {},
   "source": [
    "# Groene boekje part 2: wordform links\n",
    "\n",
    "In [the first Groene Boekje notebook](groene_boekje.ipynb) we cleaned just for wordforms. Now we will extend that with wordform links based on the relations in the rows. For this we will probably also need to modify dbutils."
   ]
  },
  {
   "cell_type": "code",
   "execution_count": 1,
   "metadata": {},
   "outputs": [],
   "source": [
    "%load_ext autoreload"
   ]
  },
  {
   "cell_type": "code",
   "execution_count": 284,
   "metadata": {},
   "outputs": [],
   "source": [
    "%autoreload"
   ]
  },
  {
   "cell_type": "code",
   "execution_count": 3,
   "metadata": {},
   "outputs": [],
   "source": [
    "import ticclat.dbutils\n",
    "import pandas as pd\n",
    "import numpy as np"
   ]
  },
  {
   "cell_type": "code",
   "execution_count": 4,
   "metadata": {},
   "outputs": [],
   "source": [
    "# Read information to connect to the database and put it in environment variables\n",
    "import os\n",
    "with open('ENVVARS.txt') as f:\n",
    "    for line in f:\n",
    "        parts = line.split('=')\n",
    "        if len(parts) == 2:\n",
    "            os.environ[parts[0]] = parts[1].strip()"
   ]
  },
  {
   "cell_type": "code",
   "execution_count": 5,
   "metadata": {},
   "outputs": [],
   "source": [
    "db_name = 'ticclat'\n",
    "os.environ['dbname'] = db_name"
   ]
  },
  {
   "cell_type": "code",
   "execution_count": 6,
   "metadata": {},
   "outputs": [
    {
     "name": "stdout",
     "output_type": "stream",
     "text": [
      "True\n"
     ]
    }
   ],
   "source": [
    "from sqlalchemy import create_engine\n",
    "from sqlalchemy.orm import sessionmaker\n",
    "from sqlalchemy_utils import database_exists, create_database\n",
    "\n",
    "engine = create_engine(\"mysql://{}:{}@localhost/{}\".format(os.environ['user'], \n",
    "                                                           os.environ['password'], \n",
    "                                                           os.environ['dbname']))\n",
    "if not database_exists(engine.url):\n",
    "    create_database(engine.url)\n",
    "\n",
    "print(database_exists(engine.url))\n",
    "\n",
    "Session = sessionmaker(bind=engine)"
   ]
  },
  {
   "cell_type": "code",
   "execution_count": null,
   "metadata": {},
   "outputs": [],
   "source": []
  },
  {
   "cell_type": "code",
   "execution_count": 7,
   "metadata": {},
   "outputs": [],
   "source": [
    "from sqlalchemy import inspect\n",
    "\n",
    "inspector = inspect(engine)"
   ]
  },
  {
   "cell_type": "code",
   "execution_count": 8,
   "metadata": {},
   "outputs": [
    {
     "name": "stdout",
     "output_type": "stream",
     "text": [
      "['anahashes', 'corpora', 'corpusId_x_documentId', 'documents', 'lexica', 'lexical_source_wordform', 'source_x_wordform_link', 'text_attestations', 'wordform_links', 'wordforms']\n"
     ]
    }
   ],
   "source": [
    "# Get table information\n",
    "print(inspector.get_table_names())"
   ]
  },
  {
   "cell_type": "markdown",
   "metadata": {},
   "source": [
    "# Load Groene Boekje data into Pandas"
   ]
  },
  {
   "cell_type": "code",
   "execution_count": 9,
   "metadata": {},
   "outputs": [],
   "source": [
    "GB_basepath = \"/Users/pbos/projects/ticclat/data/GB/\""
   ]
  },
  {
   "cell_type": "code",
   "execution_count": 10,
   "metadata": {},
   "outputs": [],
   "source": [
    "GB1914_path = GB_basepath + \"1914/22722-8.txt\"\n",
    "GB1995_path = GB_basepath + \"1995-2005/1995/GB95_002.csv\"\n",
    "GB2005_path = GB_basepath + \"1995-2005/2005/GB05_002.csv\""
   ]
  },
  {
   "cell_type": "code",
   "execution_count": 11,
   "metadata": {},
   "outputs": [],
   "source": [
    "df_GB1995 = pd.read_csv(GB1995_path, sep=';', names=[\"word\", \"syllables\", \"see also\", \"disambiguation\",\n",
    "                                                     \"grammatical tag\", \"article\",\n",
    "                                                     \"plural/past/attrib\", \"plural/past/attrib syllables\",\n",
    "                                                     \"diminu/compara/past plural\", \"diminu/compara/past plural syllables\",\n",
    "                                                     \"past perfect/superla\", \"past perfect/superla syllables\"],\n",
    "                        encoding='utf8') # encoding necessary for later loading into sqlalchemy!"
   ]
  },
  {
   "cell_type": "code",
   "execution_count": 43,
   "metadata": {},
   "outputs": [
    {
     "data": {
      "text/html": [
       "<div>\n",
       "<style scoped>\n",
       "    .dataframe tbody tr th:only-of-type {\n",
       "        vertical-align: middle;\n",
       "    }\n",
       "\n",
       "    .dataframe tbody tr th {\n",
       "        vertical-align: top;\n",
       "    }\n",
       "\n",
       "    .dataframe thead th {\n",
       "        text-align: right;\n",
       "    }\n",
       "</style>\n",
       "<table border=\"1\" class=\"dataframe\">\n",
       "  <thead>\n",
       "    <tr style=\"text-align: right;\">\n",
       "      <th></th>\n",
       "      <th>word</th>\n",
       "      <th>syllables</th>\n",
       "      <th>see also</th>\n",
       "      <th>disambiguation</th>\n",
       "      <th>grammatical tag</th>\n",
       "      <th>article</th>\n",
       "      <th>plural/past/attrib</th>\n",
       "      <th>plural/past/attrib syllables</th>\n",
       "      <th>diminu/compara/past plural</th>\n",
       "      <th>diminu/compara/past plural syllables</th>\n",
       "      <th>past perfect/superla</th>\n",
       "      <th>past perfect/superla syllables</th>\n",
       "    </tr>\n",
       "  </thead>\n",
       "  <tbody>\n",
       "    <tr>\n",
       "      <th>102500</th>\n",
       "      <td>vorst2</td>\n",
       "      <td>vorst</td>\n",
       "      <td>NaN</td>\n",
       "      <td>(andere bett.)</td>\n",
       "      <td>znw.</td>\n",
       "      <td>de[m.]</td>\n",
       "      <td>vorsten</td>\n",
       "      <td>vor/sten</td>\n",
       "      <td>NaN</td>\n",
       "      <td>NaN</td>\n",
       "      <td>NaN</td>\n",
       "      <td>NaN</td>\n",
       "    </tr>\n",
       "    <tr>\n",
       "      <th>63764</th>\n",
       "      <td>oor</td>\n",
       "      <td>oor</td>\n",
       "      <td>NaN</td>\n",
       "      <td>(andere bett. dan afstammeling)</td>\n",
       "      <td>znw.</td>\n",
       "      <td>het</td>\n",
       "      <td>oren</td>\n",
       "      <td>oren</td>\n",
       "      <td>oortje</td>\n",
       "      <td>oor/tje</td>\n",
       "      <td>NaN</td>\n",
       "      <td>NaN</td>\n",
       "    </tr>\n",
       "    <tr>\n",
       "      <th>85589</th>\n",
       "      <td>stand2</td>\n",
       "      <td>stand</td>\n",
       "      <td>NaN</td>\n",
       "      <td>(andere bett.)</td>\n",
       "      <td>znw.</td>\n",
       "      <td>de[m.]</td>\n",
       "      <td>standen</td>\n",
       "      <td>stan/den</td>\n",
       "      <td>NaN</td>\n",
       "      <td>NaN</td>\n",
       "      <td>NaN</td>\n",
       "      <td>NaN</td>\n",
       "    </tr>\n",
       "    <tr>\n",
       "      <th>36423</th>\n",
       "      <td>hol3</td>\n",
       "      <td>hol</td>\n",
       "      <td>NaN</td>\n",
       "      <td>(andere bett.)</td>\n",
       "      <td>znw.</td>\n",
       "      <td>het</td>\n",
       "      <td>holen</td>\n",
       "      <td>ho/len</td>\n",
       "      <td>holletje</td>\n",
       "      <td>hol/le/tje</td>\n",
       "      <td>NaN</td>\n",
       "      <td>NaN</td>\n",
       "    </tr>\n",
       "    <tr>\n",
       "      <th>79581</th>\n",
       "      <td>schoffel1</td>\n",
       "      <td>schof/fel</td>\n",
       "      <td>NaN</td>\n",
       "      <td>(het schoffelen)</td>\n",
       "      <td>znw.</td>\n",
       "      <td>de[m.]</td>\n",
       "      <td>NaN</td>\n",
       "      <td>NaN</td>\n",
       "      <td>NaN</td>\n",
       "      <td>NaN</td>\n",
       "      <td>NaN</td>\n",
       "      <td>NaN</td>\n",
       "    </tr>\n",
       "    <tr>\n",
       "      <th>47535</th>\n",
       "      <td>kuch2</td>\n",
       "      <td>kuch</td>\n",
       "      <td>NaN</td>\n",
       "      <td>(andere bett.)</td>\n",
       "      <td>znw.</td>\n",
       "      <td>de[m.]</td>\n",
       "      <td>kuchen</td>\n",
       "      <td>ku/chen</td>\n",
       "      <td>NaN</td>\n",
       "      <td>NaN</td>\n",
       "      <td>NaN</td>\n",
       "      <td>NaN</td>\n",
       "    </tr>\n",
       "    <tr>\n",
       "      <th>75138</th>\n",
       "      <td>rek1</td>\n",
       "      <td>rek</td>\n",
       "      <td>NaN</td>\n",
       "      <td>(het rekken, veerkracht)</td>\n",
       "      <td>znw.</td>\n",
       "      <td>de[m.]</td>\n",
       "      <td>NaN</td>\n",
       "      <td>NaN</td>\n",
       "      <td>NaN</td>\n",
       "      <td>NaN</td>\n",
       "      <td>NaN</td>\n",
       "      <td>NaN</td>\n",
       "    </tr>\n",
       "    <tr>\n",
       "      <th>104863</th>\n",
       "      <td>weer2</td>\n",
       "      <td>weer</td>\n",
       "      <td>zie ook weder2</td>\n",
       "      <td>(luchtgestelheid, bederf)</td>\n",
       "      <td>znw.</td>\n",
       "      <td>het</td>\n",
       "      <td>NaN</td>\n",
       "      <td>NaN</td>\n",
       "      <td>weertje</td>\n",
       "      <td>weer/tje</td>\n",
       "      <td>NaN</td>\n",
       "      <td>NaN</td>\n",
       "    </tr>\n",
       "    <tr>\n",
       "      <th>66995</th>\n",
       "      <td>pand2</td>\n",
       "      <td>pand</td>\n",
       "      <td>NaN</td>\n",
       "      <td>(andere bett.)</td>\n",
       "      <td>znw.</td>\n",
       "      <td>het</td>\n",
       "      <td>panden</td>\n",
       "      <td>pan/den</td>\n",
       "      <td>NaN</td>\n",
       "      <td>NaN</td>\n",
       "      <td>NaN</td>\n",
       "      <td>NaN</td>\n",
       "    </tr>\n",
       "    <tr>\n",
       "      <th>13794</th>\n",
       "      <td>brik1</td>\n",
       "      <td>brik</td>\n",
       "      <td>NaN</td>\n",
       "      <td>(steen, voorwerpsnaam)</td>\n",
       "      <td>znw.</td>\n",
       "      <td>de[m.]</td>\n",
       "      <td>brikken</td>\n",
       "      <td>brik/ken</td>\n",
       "      <td>NaN</td>\n",
       "      <td>NaN</td>\n",
       "      <td>NaN</td>\n",
       "      <td>NaN</td>\n",
       "    </tr>\n",
       "  </tbody>\n",
       "</table>\n",
       "</div>"
      ],
      "text/plain": [
       "             word  syllables        see also                   disambiguation  \\\n",
       "102500     vorst2      vorst             NaN                   (andere bett.)   \n",
       "63764         oor        oor             NaN  (andere bett. dan afstammeling)   \n",
       "85589      stand2      stand             NaN                   (andere bett.)   \n",
       "36423        hol3        hol             NaN                   (andere bett.)   \n",
       "79581   schoffel1  schof/fel             NaN                 (het schoffelen)   \n",
       "47535       kuch2       kuch             NaN                   (andere bett.)   \n",
       "75138        rek1        rek             NaN         (het rekken, veerkracht)   \n",
       "104863      weer2       weer  zie ook weder2        (luchtgestelheid, bederf)   \n",
       "66995       pand2       pand             NaN                   (andere bett.)   \n",
       "13794       brik1       brik             NaN           (steen, voorwerpsnaam)   \n",
       "\n",
       "       grammatical tag article plural/past/attrib  \\\n",
       "102500            znw.  de[m.]            vorsten   \n",
       "63764             znw.     het               oren   \n",
       "85589             znw.  de[m.]            standen   \n",
       "36423             znw.     het              holen   \n",
       "79581             znw.  de[m.]                NaN   \n",
       "47535             znw.  de[m.]             kuchen   \n",
       "75138             znw.  de[m.]                NaN   \n",
       "104863            znw.     het                NaN   \n",
       "66995             znw.     het             panden   \n",
       "13794             znw.  de[m.]            brikken   \n",
       "\n",
       "       plural/past/attrib syllables diminu/compara/past plural  \\\n",
       "102500                     vor/sten                        NaN   \n",
       "63764                          oren                     oortje   \n",
       "85589                      stan/den                        NaN   \n",
       "36423                        ho/len                   holletje   \n",
       "79581                           NaN                        NaN   \n",
       "47535                       ku/chen                        NaN   \n",
       "75138                           NaN                        NaN   \n",
       "104863                          NaN                    weertje   \n",
       "66995                       pan/den                        NaN   \n",
       "13794                      brik/ken                        NaN   \n",
       "\n",
       "       diminu/compara/past plural syllables past perfect/superla  \\\n",
       "102500                                  NaN                  NaN   \n",
       "63764                               oor/tje                  NaN   \n",
       "85589                                   NaN                  NaN   \n",
       "36423                            hol/le/tje                  NaN   \n",
       "79581                                   NaN                  NaN   \n",
       "47535                                   NaN                  NaN   \n",
       "75138                                   NaN                  NaN   \n",
       "104863                             weer/tje                  NaN   \n",
       "66995                                   NaN                  NaN   \n",
       "13794                                   NaN                  NaN   \n",
       "\n",
       "       past perfect/superla syllables  \n",
       "102500                            NaN  \n",
       "63764                             NaN  \n",
       "85589                             NaN  \n",
       "36423                             NaN  \n",
       "79581                             NaN  \n",
       "47535                             NaN  \n",
       "75138                             NaN  \n",
       "104863                            NaN  \n",
       "66995                             NaN  \n",
       "13794                             NaN  "
      ]
     },
     "execution_count": 43,
     "metadata": {},
     "output_type": "execute_result"
    }
   ],
   "source": [
    "# df_GB1995[~df_GB1995[\"see also\"].isnull()].sample(10)\n",
    "# df_GB1995[~df_GB1995[\"disambiguation\"].isnull()].sample(10)\n",
    "df_GB1995[~df_GB1995[\"disambiguation\"].isnull() & df_GB1995[\"disambiguation\"].str.contains(' ')].sample(10)"
   ]
  },
  {
   "cell_type": "markdown",
   "metadata": {},
   "source": [
    "## Clean-up\n",
    "Clean up will be different now that we also need links.\n",
    "- At first we need to retain the columns while cleaning them, because we'll need the rows to define links.\n",
    "- The cleaning of the wordform columns will be the same as before, but now per column instead of all in one go.\n",
    "- However, because we must retain rows, things like splitting on commas will now mean the entire row must be duplicated.\n",
    "\n",
    "Some notes picked up from random sample checking:\n",
    "- The disambiguation words can also have a duplicate word numbers! These are irrelevant to us, since we only deal with word forms, not semantics, so we have to remove them there as well.\n",
    "\n",
    "### Links\n",
    "The different types of links we could extract from this table are:\n",
    "\n",
    "- \"see also\" (column 3): this is usually an **spelling variant**, so very relevant in our case. Both are **correct** words.\n",
    "- \"disambiguation (column 4):\n",
    "    + This column is always between parentheses.\n",
    "    + Usually it is a semantically very similar word.\n",
    "    + Sometimes the disambiguation is in multiple words. In this case (as opposed to the multiple words in wordform columns) multiple words are more often really separate words, like `slechte waar` (for `kamelot2`) or `het slopen` (for `sloop1`), which are really two separate wordforms, not a \"multi-word wordform\". We probably can't count on this, but we could do a lookup of the separate words. Even if we did that, this column entry is really almost more like a sentence, an explanation of the word, so the separate words cannot be entered into the database as wordforms, nor can they be entered separately, because their combination makes up their meaning, which it will lose when taken apart.\n",
    "    + There are even entries that have multiple disambiguating words, separated by a comma. These can easily be used separately.\n",
    "    + A lot of them have `(andere bett.)` or (more rarely) `(andere bet.)` which I guess means \"other meaning(s)\", not sure though.\n",
    "    + So to sum up, what we can do with this column:\n",
    "        * Remove `(andere bett.)`\n",
    "        * Strip parentheses\n",
    "        * Split by comma\n",
    "        * **First approximation**: remove multi-word entries\n",
    "        * *Use remaining words as **semantic** links*\n",
    "        * Again, both are **correct** words.\n",
    "- Columns 7, 9 and 11 give us **morphological links** of different types. Again, all **correct** words.\n",
    "    + We could in principle deduce the type from the grammatical tag of the word in column 5, but will no do so for now."
   ]
  },
  {
   "cell_type": "markdown",
   "metadata": {},
   "source": [
    "# Clean up links\n",
    "\n",
    "This time we clean up the dataframe as a table, not as a single row of wordforms.\n",
    "\n",
    "We can drop a few columns though."
   ]
  },
  {
   "cell_type": "code",
   "execution_count": 175,
   "metadata": {},
   "outputs": [],
   "source": [
    "link_data = df_GB1995.drop([\"syllables\", \"grammatical tag\", \"article\",\n",
    "                            \"plural/past/attrib syllables\", \"diminu/compara/past plural syllables\", \"past perfect/superla syllables\"], axis=1)"
   ]
  },
  {
   "cell_type": "code",
   "execution_count": 70,
   "metadata": {},
   "outputs": [
    {
     "data": {
      "text/html": [
       "<div>\n",
       "<style scoped>\n",
       "    .dataframe tbody tr th:only-of-type {\n",
       "        vertical-align: middle;\n",
       "    }\n",
       "\n",
       "    .dataframe tbody tr th {\n",
       "        vertical-align: top;\n",
       "    }\n",
       "\n",
       "    .dataframe thead th {\n",
       "        text-align: right;\n",
       "    }\n",
       "</style>\n",
       "<table border=\"1\" class=\"dataframe\">\n",
       "  <thead>\n",
       "    <tr style=\"text-align: right;\">\n",
       "      <th></th>\n",
       "      <th>word</th>\n",
       "      <th>see also</th>\n",
       "      <th>disambiguation</th>\n",
       "      <th>plural/past/attrib</th>\n",
       "      <th>diminu/compara/past plural</th>\n",
       "      <th>past perfect/superla</th>\n",
       "    </tr>\n",
       "  </thead>\n",
       "  <tbody>\n",
       "    <tr>\n",
       "      <th>78325</th>\n",
       "      <td>satelliettelevisie</td>\n",
       "      <td>NaN</td>\n",
       "      <td>NaN</td>\n",
       "      <td>NaN</td>\n",
       "      <td>NaN</td>\n",
       "      <td>NaN</td>\n",
       "    </tr>\n",
       "    <tr>\n",
       "      <th>91214</th>\n",
       "      <td>tijdsruimte</td>\n",
       "      <td>zie ook tijdruimte</td>\n",
       "      <td>NaN</td>\n",
       "      <td>tijdsruimten, tijdsruimtes</td>\n",
       "      <td>NaN</td>\n",
       "      <td>NaN</td>\n",
       "    </tr>\n",
       "    <tr>\n",
       "      <th>50372</th>\n",
       "      <td>lias</td>\n",
       "      <td>NaN</td>\n",
       "      <td>(veter, bundel)</td>\n",
       "      <td>liassen</td>\n",
       "      <td>NaN</td>\n",
       "      <td>NaN</td>\n",
       "    </tr>\n",
       "    <tr>\n",
       "      <th>90644</th>\n",
       "      <td>testen</td>\n",
       "      <td>NaN</td>\n",
       "      <td>NaN</td>\n",
       "      <td>testte</td>\n",
       "      <td>NaN</td>\n",
       "      <td>getest</td>\n",
       "    </tr>\n",
       "    <tr>\n",
       "      <th>30515</th>\n",
       "      <td>gespuug</td>\n",
       "      <td>NaN</td>\n",
       "      <td>NaN</td>\n",
       "      <td>NaN</td>\n",
       "      <td>NaN</td>\n",
       "      <td>NaN</td>\n",
       "    </tr>\n",
       "    <tr>\n",
       "      <th>58775</th>\n",
       "      <td>neteldier</td>\n",
       "      <td>NaN</td>\n",
       "      <td>NaN</td>\n",
       "      <td>neteldieren</td>\n",
       "      <td>NaN</td>\n",
       "      <td>NaN</td>\n",
       "    </tr>\n",
       "    <tr>\n",
       "      <th>105984</th>\n",
       "      <td>werkploeg</td>\n",
       "      <td>NaN</td>\n",
       "      <td>NaN</td>\n",
       "      <td>werkploegen</td>\n",
       "      <td>NaN</td>\n",
       "      <td>NaN</td>\n",
       "    </tr>\n",
       "    <tr>\n",
       "      <th>57526</th>\n",
       "      <td>muziekfestival</td>\n",
       "      <td>NaN</td>\n",
       "      <td>NaN</td>\n",
       "      <td>muziekfestivals</td>\n",
       "      <td>NaN</td>\n",
       "      <td>NaN</td>\n",
       "    </tr>\n",
       "    <tr>\n",
       "      <th>70663</th>\n",
       "      <td>popstation</td>\n",
       "      <td>NaN</td>\n",
       "      <td>NaN</td>\n",
       "      <td>popstations</td>\n",
       "      <td>NaN</td>\n",
       "      <td>NaN</td>\n",
       "    </tr>\n",
       "    <tr>\n",
       "      <th>22424</th>\n",
       "      <td>dropping</td>\n",
       "      <td>NaN</td>\n",
       "      <td>NaN</td>\n",
       "      <td>droppings</td>\n",
       "      <td>NaN</td>\n",
       "      <td>NaN</td>\n",
       "    </tr>\n",
       "  </tbody>\n",
       "</table>\n",
       "</div>"
      ],
      "text/plain": [
       "                      word            see also   disambiguation  \\\n",
       "78325   satelliettelevisie                 NaN              NaN   \n",
       "91214          tijdsruimte  zie ook tijdruimte              NaN   \n",
       "50372                 lias                 NaN  (veter, bundel)   \n",
       "90644               testen                 NaN              NaN   \n",
       "30515              gespuug                 NaN              NaN   \n",
       "58775            neteldier                 NaN              NaN   \n",
       "105984           werkploeg                 NaN              NaN   \n",
       "57526       muziekfestival                 NaN              NaN   \n",
       "70663           popstation                 NaN              NaN   \n",
       "22424             dropping                 NaN              NaN   \n",
       "\n",
       "                plural/past/attrib diminu/compara/past plural  \\\n",
       "78325                          NaN                        NaN   \n",
       "91214   tijdsruimten, tijdsruimtes                        NaN   \n",
       "50372                      liassen                        NaN   \n",
       "90644                       testte                        NaN   \n",
       "30515                          NaN                        NaN   \n",
       "58775                  neteldieren                        NaN   \n",
       "105984                 werkploegen                        NaN   \n",
       "57526              muziekfestivals                        NaN   \n",
       "70663                  popstations                        NaN   \n",
       "22424                    droppings                        NaN   \n",
       "\n",
       "       past perfect/superla  \n",
       "78325                   NaN  \n",
       "91214                   NaN  \n",
       "50372                   NaN  \n",
       "90644                getest  \n",
       "30515                   NaN  \n",
       "58775                   NaN  \n",
       "105984                  NaN  \n",
       "57526                   NaN  \n",
       "70663                   NaN  \n",
       "22424                   NaN  "
      ]
     },
     "execution_count": 70,
     "metadata": {},
     "output_type": "execute_result"
    }
   ],
   "source": [
    "link_data.sample(10)"
   ]
  },
  {
   "cell_type": "markdown",
   "metadata": {},
   "source": [
    "## Clean columns 2 and 3\n",
    "\n",
    "We have to remove `zie ook ` (see also ) from column 2.\n",
    "\n",
    "For column 3 we will:\n",
    "- strip the parentheses\n",
    "- remove multi-word entries (including especially `andere bett.`)."
   ]
  },
  {
   "cell_type": "markdown",
   "metadata": {},
   "source": [
    "### Clean \"see also\" (column 2)"
   ]
  },
  {
   "cell_type": "code",
   "execution_count": 176,
   "metadata": {},
   "outputs": [],
   "source": [
    "link_data['see also'] = link_data['see also'].str.replace('zie ook ', '')"
   ]
  },
  {
   "cell_type": "code",
   "execution_count": 177,
   "metadata": {},
   "outputs": [
    {
     "data": {
      "text/html": [
       "<div>\n",
       "<style scoped>\n",
       "    .dataframe tbody tr th:only-of-type {\n",
       "        vertical-align: middle;\n",
       "    }\n",
       "\n",
       "    .dataframe tbody tr th {\n",
       "        vertical-align: top;\n",
       "    }\n",
       "\n",
       "    .dataframe thead th {\n",
       "        text-align: right;\n",
       "    }\n",
       "</style>\n",
       "<table border=\"1\" class=\"dataframe\">\n",
       "  <thead>\n",
       "    <tr style=\"text-align: right;\">\n",
       "      <th></th>\n",
       "      <th>word</th>\n",
       "      <th>see also</th>\n",
       "      <th>disambiguation</th>\n",
       "      <th>plural/past/attrib</th>\n",
       "      <th>diminu/compara/past plural</th>\n",
       "      <th>past perfect/superla</th>\n",
       "    </tr>\n",
       "  </thead>\n",
       "  <tbody>\n",
       "    <tr>\n",
       "      <th>81109</th>\n",
       "      <td>@@s-Hertogenbosch</td>\n",
       "      <td>Den Bosch</td>\n",
       "      <td>NaN</td>\n",
       "      <td>NaN</td>\n",
       "      <td>NaN</td>\n",
       "      <td>NaN</td>\n",
       "    </tr>\n",
       "    <tr>\n",
       "      <th>53909</th>\n",
       "      <td>medewerken</td>\n",
       "      <td>meewerken</td>\n",
       "      <td>NaN</td>\n",
       "      <td>werkte mede</td>\n",
       "      <td>NaN</td>\n",
       "      <td>medegewerkt</td>\n",
       "    </tr>\n",
       "    <tr>\n",
       "      <th>32725</th>\n",
       "      <td>grief</td>\n",
       "      <td>grieve</td>\n",
       "      <td>NaN</td>\n",
       "      <td>grieven</td>\n",
       "      <td>NaN</td>\n",
       "      <td>NaN</td>\n",
       "    </tr>\n",
       "    <tr>\n",
       "      <th>56058</th>\n",
       "      <td>minstreel</td>\n",
       "      <td>meistreel, menestreel</td>\n",
       "      <td>NaN</td>\n",
       "      <td>minstrelen</td>\n",
       "      <td>NaN</td>\n",
       "      <td>NaN</td>\n",
       "    </tr>\n",
       "    <tr>\n",
       "      <th>68205</th>\n",
       "      <td>pensioenaanvraag, pensioenaanvrage</td>\n",
       "      <td>pensioensaanvraag</td>\n",
       "      <td>NaN</td>\n",
       "      <td>pensioenaanvragen</td>\n",
       "      <td>NaN</td>\n",
       "      <td>NaN</td>\n",
       "    </tr>\n",
       "  </tbody>\n",
       "</table>\n",
       "</div>"
      ],
      "text/plain": [
       "                                     word               see also  \\\n",
       "81109                   @@s-Hertogenbosch              Den Bosch   \n",
       "53909                          medewerken              meewerken   \n",
       "32725                               grief                 grieve   \n",
       "56058                           minstreel  meistreel, menestreel   \n",
       "68205  pensioenaanvraag, pensioenaanvrage      pensioensaanvraag   \n",
       "\n",
       "      disambiguation plural/past/attrib diminu/compara/past plural  \\\n",
       "81109            NaN                NaN                        NaN   \n",
       "53909            NaN        werkte mede                        NaN   \n",
       "32725            NaN            grieven                        NaN   \n",
       "56058            NaN         minstrelen                        NaN   \n",
       "68205            NaN  pensioenaanvragen                        NaN   \n",
       "\n",
       "      past perfect/superla  \n",
       "81109                  NaN  \n",
       "53909          medegewerkt  \n",
       "32725                  NaN  \n",
       "56058                  NaN  \n",
       "68205                  NaN  "
      ]
     },
     "execution_count": 177,
     "metadata": {},
     "output_type": "execute_result"
    }
   ],
   "source": [
    "link_data[~link_data['see also'].isnull()].sample(5)"
   ]
  },
  {
   "cell_type": "markdown",
   "metadata": {},
   "source": [
    "### Clean \"disambiguation\" (column 3)"
   ]
  },
  {
   "cell_type": "code",
   "execution_count": 178,
   "metadata": {},
   "outputs": [],
   "source": [
    "link_data['disambiguation'] = link_data['disambiguation'].str.strip('()')"
   ]
  },
  {
   "cell_type": "code",
   "execution_count": 179,
   "metadata": {},
   "outputs": [],
   "source": [
    "link_data['disambiguation'][link_data['disambiguation'] == 'andere bett.'] = None\n",
    "link_data['disambiguation'][link_data['disambiguation'] == 'andere bet.'] = None"
   ]
  },
  {
   "cell_type": "code",
   "execution_count": 180,
   "metadata": {},
   "outputs": [
    {
     "data": {
      "text/html": [
       "<div>\n",
       "<style scoped>\n",
       "    .dataframe tbody tr th:only-of-type {\n",
       "        vertical-align: middle;\n",
       "    }\n",
       "\n",
       "    .dataframe tbody tr th {\n",
       "        vertical-align: top;\n",
       "    }\n",
       "\n",
       "    .dataframe thead th {\n",
       "        text-align: right;\n",
       "    }\n",
       "</style>\n",
       "<table border=\"1\" class=\"dataframe\">\n",
       "  <thead>\n",
       "    <tr style=\"text-align: right;\">\n",
       "      <th></th>\n",
       "      <th>word</th>\n",
       "      <th>see also</th>\n",
       "      <th>disambiguation</th>\n",
       "      <th>plural/past/attrib</th>\n",
       "      <th>diminu/compara/past plural</th>\n",
       "      <th>past perfect/superla</th>\n",
       "    </tr>\n",
       "  </thead>\n",
       "  <tbody>\n",
       "    <tr>\n",
       "      <th>48139</th>\n",
       "      <td>kweek1</td>\n",
       "      <td>NaN</td>\n",
       "      <td>het kweken, het gekweekte</td>\n",
       "      <td>NaN</td>\n",
       "      <td>NaN</td>\n",
       "      <td>NaN</td>\n",
       "    </tr>\n",
       "    <tr>\n",
       "      <th>55092</th>\n",
       "      <td>metselsteen2</td>\n",
       "      <td>NaN</td>\n",
       "      <td>stofnaam</td>\n",
       "      <td>NaN</td>\n",
       "      <td>NaN</td>\n",
       "      <td>NaN</td>\n",
       "    </tr>\n",
       "    <tr>\n",
       "      <th>70092</th>\n",
       "      <td>pof2</td>\n",
       "      <td>NaN</td>\n",
       "      <td>slag</td>\n",
       "      <td>poffen</td>\n",
       "      <td>NaN</td>\n",
       "      <td>NaN</td>\n",
       "    </tr>\n",
       "    <tr>\n",
       "      <th>31316</th>\n",
       "      <td>gier1</td>\n",
       "      <td>NaN</td>\n",
       "      <td>mestvocht</td>\n",
       "      <td>NaN</td>\n",
       "      <td>NaN</td>\n",
       "      <td>NaN</td>\n",
       "    </tr>\n",
       "    <tr>\n",
       "      <th>96229</th>\n",
       "      <td>veer3</td>\n",
       "      <td>NaN</td>\n",
       "      <td>overvaart, beurtvaart</td>\n",
       "      <td>veren</td>\n",
       "      <td>NaN</td>\n",
       "      <td>NaN</td>\n",
       "    </tr>\n",
       "  </tbody>\n",
       "</table>\n",
       "</div>"
      ],
      "text/plain": [
       "               word see also             disambiguation plural/past/attrib  \\\n",
       "48139        kweek1      NaN  het kweken, het gekweekte                NaN   \n",
       "55092  metselsteen2      NaN                   stofnaam                NaN   \n",
       "70092          pof2      NaN                       slag             poffen   \n",
       "31316         gier1      NaN                  mestvocht                NaN   \n",
       "96229         veer3      NaN      overvaart, beurtvaart              veren   \n",
       "\n",
       "      diminu/compara/past plural past perfect/superla  \n",
       "48139                        NaN                  NaN  \n",
       "55092                        NaN                  NaN  \n",
       "70092                        NaN                  NaN  \n",
       "31316                        NaN                  NaN  \n",
       "96229                        NaN                  NaN  "
      ]
     },
     "execution_count": 180,
     "metadata": {},
     "output_type": "execute_result"
    }
   ],
   "source": [
    "link_data[~link_data['disambiguation'].isnull()].sample(5)"
   ]
  },
  {
   "cell_type": "markdown",
   "metadata": {},
   "source": [
    "1. First remove the isolated multi-words, i.e. the ones without commas.\n",
    "2. Then, if necessary (turns out, it's only 20-30 rows left), let's make a nice regex to replace multi-words, both isolated ones and ones in comma separated lists."
   ]
  },
  {
   "cell_type": "code",
   "execution_count": 181,
   "metadata": {},
   "outputs": [],
   "source": [
    "link_data['disambiguation'][link_data['disambiguation'].str.contains(\" \", na=False)\n",
    "                            & ~link_data['disambiguation'].str.contains(\",\", na=False)] = None"
   ]
  },
  {
   "cell_type": "code",
   "execution_count": 182,
   "metadata": {},
   "outputs": [],
   "source": [
    "link_data['disambiguation'][link_data['disambiguation'].str.contains(\"[^,] \", na=False)] = (\n",
    "    link_data['disambiguation']\n",
    "     [link_data['disambiguation'].str.contains(\"[^,] \", na=False)]\n",
    "     .str.split(', ')\n",
    "     .map(lambda x: [i for i in x if not ' ' in i])\n",
    "     .map(lambda x: None if len(x) == 0 else ', '.join(x))\n",
    ")"
   ]
  },
  {
   "cell_type": "code",
   "execution_count": 183,
   "metadata": {},
   "outputs": [
    {
     "data": {
      "text/plain": [
       "Series([], Name: disambiguation, dtype: object)"
      ]
     },
     "execution_count": 183,
     "metadata": {},
     "output_type": "execute_result"
    }
   ],
   "source": [
    "link_data['disambiguation'][link_data['disambiguation'].str.contains(\"[^,] \", na=False)]"
   ]
  },
  {
   "cell_type": "code",
   "execution_count": 184,
   "metadata": {},
   "outputs": [
    {
     "data": {
      "text/plain": [
       "20970         vermomming, persoon\n",
       "106291                spel, drank\n",
       "94052        katoengaren, weefsel\n",
       "104863    luchtgestelheid, bederf\n",
       "77875                 bont, zwart\n",
       "Name: disambiguation, dtype: object"
      ]
     },
     "execution_count": 184,
     "metadata": {},
     "output_type": "execute_result"
    }
   ],
   "source": [
    "link_data['disambiguation'][link_data['disambiguation'].str.contains(\" \", na=False)].sample(5)"
   ]
  },
  {
   "cell_type": "markdown",
   "metadata": {},
   "source": [
    "One remaining pesky thing: `kippenloop, -korf`. Is this a pattern?"
   ]
  },
  {
   "cell_type": "code",
   "execution_count": 185,
   "metadata": {},
   "outputs": [
    {
     "data": {
      "text/plain": [
       "75359    kippenloop, -korf\n",
       "Name: disambiguation, dtype: object"
      ]
     },
     "execution_count": 185,
     "metadata": {},
     "output_type": "execute_result"
    }
   ],
   "source": [
    "link_data['disambiguation'][link_data['disambiguation'].str.contains(\", -\", na=False)]"
   ]
  },
  {
   "cell_type": "markdown",
   "metadata": {},
   "source": [
    "Nope, so let's just get rid of it here and now."
   ]
  },
  {
   "cell_type": "code",
   "execution_count": 186,
   "metadata": {},
   "outputs": [],
   "source": [
    "link_data['disambiguation'][link_data['disambiguation'].str.contains(\", -\", na=False)] = None"
   ]
  },
  {
   "cell_type": "code",
   "execution_count": 187,
   "metadata": {},
   "outputs": [
    {
     "data": {
      "text/html": [
       "<div>\n",
       "<style scoped>\n",
       "    .dataframe tbody tr th:only-of-type {\n",
       "        vertical-align: middle;\n",
       "    }\n",
       "\n",
       "    .dataframe tbody tr th {\n",
       "        vertical-align: top;\n",
       "    }\n",
       "\n",
       "    .dataframe thead th {\n",
       "        text-align: right;\n",
       "    }\n",
       "</style>\n",
       "<table border=\"1\" class=\"dataframe\">\n",
       "  <thead>\n",
       "    <tr style=\"text-align: right;\">\n",
       "      <th></th>\n",
       "      <th>word</th>\n",
       "      <th>see also</th>\n",
       "      <th>disambiguation</th>\n",
       "      <th>plural/past/attrib</th>\n",
       "      <th>diminu/compara/past plural</th>\n",
       "      <th>past perfect/superla</th>\n",
       "    </tr>\n",
       "  </thead>\n",
       "  <tbody>\n",
       "    <tr>\n",
       "      <th>15094</th>\n",
       "      <td>carrier</td>\n",
       "      <td>NaN</td>\n",
       "      <td>NaN</td>\n",
       "      <td>carriers</td>\n",
       "      <td>NaN</td>\n",
       "      <td>NaN</td>\n",
       "    </tr>\n",
       "    <tr>\n",
       "      <th>72602</th>\n",
       "      <td>pruik</td>\n",
       "      <td>NaN</td>\n",
       "      <td>NaN</td>\n",
       "      <td>pruiken</td>\n",
       "      <td>NaN</td>\n",
       "      <td>NaN</td>\n",
       "    </tr>\n",
       "    <tr>\n",
       "      <th>13315</th>\n",
       "      <td>bovenkledingmarkt</td>\n",
       "      <td>NaN</td>\n",
       "      <td>NaN</td>\n",
       "      <td>NaN</td>\n",
       "      <td>NaN</td>\n",
       "      <td>NaN</td>\n",
       "    </tr>\n",
       "    <tr>\n",
       "      <th>56523</th>\n",
       "      <td>moedertaal</td>\n",
       "      <td>NaN</td>\n",
       "      <td>NaN</td>\n",
       "      <td>moedertalen</td>\n",
       "      <td>NaN</td>\n",
       "      <td>NaN</td>\n",
       "    </tr>\n",
       "    <tr>\n",
       "      <th>80965</th>\n",
       "      <td>serie</td>\n",
       "      <td>NaN</td>\n",
       "      <td>NaN</td>\n",
       "      <td>series, serie@\\n\"</td>\n",
       "      <td>NaN</td>\n",
       "      <td>NaN</td>\n",
       "    </tr>\n",
       "    <tr>\n",
       "      <th>83456</th>\n",
       "      <td>spaarduit</td>\n",
       "      <td>NaN</td>\n",
       "      <td>NaN</td>\n",
       "      <td>spaarduiten</td>\n",
       "      <td>NaN</td>\n",
       "      <td>NaN</td>\n",
       "    </tr>\n",
       "    <tr>\n",
       "      <th>5382</th>\n",
       "      <td>attaque</td>\n",
       "      <td>NaN</td>\n",
       "      <td>NaN</td>\n",
       "      <td>attaques</td>\n",
       "      <td>NaN</td>\n",
       "      <td>NaN</td>\n",
       "    </tr>\n",
       "    <tr>\n",
       "      <th>18358</th>\n",
       "      <td>dagsucces</td>\n",
       "      <td>NaN</td>\n",
       "      <td>NaN</td>\n",
       "      <td>dagsuccessen</td>\n",
       "      <td>NaN</td>\n",
       "      <td>NaN</td>\n",
       "    </tr>\n",
       "    <tr>\n",
       "      <th>98621</th>\n",
       "      <td>verstandhouding</td>\n",
       "      <td>NaN</td>\n",
       "      <td>NaN</td>\n",
       "      <td>NaN</td>\n",
       "      <td>NaN</td>\n",
       "      <td>NaN</td>\n",
       "    </tr>\n",
       "    <tr>\n",
       "      <th>10544</th>\n",
       "      <td>bie@\\nnale\"</td>\n",
       "      <td>NaN</td>\n",
       "      <td>NaN</td>\n",
       "      <td>NaN</td>\n",
       "      <td>NaN</td>\n",
       "      <td>NaN</td>\n",
       "    </tr>\n",
       "  </tbody>\n",
       "</table>\n",
       "</div>"
      ],
      "text/plain": [
       "                    word see also disambiguation plural/past/attrib  \\\n",
       "15094            carrier      NaN            NaN           carriers   \n",
       "72602              pruik      NaN            NaN            pruiken   \n",
       "13315  bovenkledingmarkt      NaN            NaN                NaN   \n",
       "56523         moedertaal      NaN            NaN        moedertalen   \n",
       "80965              serie      NaN            NaN  series, serie@\\n\"   \n",
       "83456          spaarduit      NaN            NaN        spaarduiten   \n",
       "5382             attaque      NaN            NaN           attaques   \n",
       "18358          dagsucces      NaN            NaN       dagsuccessen   \n",
       "98621    verstandhouding      NaN            NaN                NaN   \n",
       "10544        bie@\\nnale\"      NaN            NaN                NaN   \n",
       "\n",
       "      diminu/compara/past plural past perfect/superla  \n",
       "15094                        NaN                  NaN  \n",
       "72602                        NaN                  NaN  \n",
       "13315                        NaN                  NaN  \n",
       "56523                        NaN                  NaN  \n",
       "80965                        NaN                  NaN  \n",
       "83456                        NaN                  NaN  \n",
       "5382                         NaN                  NaN  \n",
       "18358                        NaN                  NaN  \n",
       "98621                        NaN                  NaN  \n",
       "10544                        NaN                  NaN  "
      ]
     },
     "execution_count": 187,
     "metadata": {},
     "output_type": "execute_result"
    }
   ],
   "source": [
    "link_data.sample(10)"
   ]
  },
  {
   "cell_type": "markdown",
   "metadata": {},
   "source": [
    "## Remove empty lines\n",
    "\n",
    "For links, we don't need the rows that only have a `word` entry, since these by definition have no links in that row. They may be linked to another word through the `see also` column, but then the word will also be in the row of the word where it is in the `see also` column, so the word's row itself can safely be removed."
   ]
  },
  {
   "cell_type": "code",
   "execution_count": 188,
   "metadata": {},
   "outputs": [],
   "source": [
    "link_data = link_data.dropna(how='all', subset=[\"see also\", \"disambiguation\", \"plural/past/attrib\", \"diminu/compara/past plural\", \"past perfect/superla\"])"
   ]
  },
  {
   "cell_type": "markdown",
   "metadata": {},
   "source": [
    "# Convert to links!\n",
    "\n",
    "Actually, for now, we can keep this rather simple: we just make a table with two columns, where the first column has the wordforms in the `word` column and the second has the wordforms in the other columns.\n",
    "\n",
    "We will then split comma separated words in a second pass to keep things simple."
   ]
  },
  {
   "cell_type": "code",
   "execution_count": 193,
   "metadata": {},
   "outputs": [],
   "source": [
    "link_df = (link_data.set_index('word').stack().reset_index().drop('level_1', axis=1)\n",
    "                    .rename({'word': 'wordform_1', 0: 'wordform_2'}, axis=1))"
   ]
  },
  {
   "cell_type": "code",
   "execution_count": 195,
   "metadata": {},
   "outputs": [
    {
     "data": {
      "text/html": [
       "<div>\n",
       "<style scoped>\n",
       "    .dataframe tbody tr th:only-of-type {\n",
       "        vertical-align: middle;\n",
       "    }\n",
       "\n",
       "    .dataframe tbody tr th {\n",
       "        vertical-align: top;\n",
       "    }\n",
       "\n",
       "    .dataframe thead th {\n",
       "        text-align: right;\n",
       "    }\n",
       "</style>\n",
       "<table border=\"1\" class=\"dataframe\">\n",
       "  <thead>\n",
       "    <tr style=\"text-align: right;\">\n",
       "      <th></th>\n",
       "      <th>wordform_1</th>\n",
       "      <th>wordform_2</th>\n",
       "    </tr>\n",
       "  </thead>\n",
       "  <tbody>\n",
       "    <tr>\n",
       "      <th>0</th>\n",
       "      <td>a</td>\n",
       "      <td>a@@s</td>\n",
       "    </tr>\n",
       "    <tr>\n",
       "      <th>1</th>\n",
       "      <td>a</td>\n",
       "      <td>a@@tje</td>\n",
       "    </tr>\n",
       "    <tr>\n",
       "      <th>2</th>\n",
       "      <td>aagt</td>\n",
       "      <td>aagten</td>\n",
       "    </tr>\n",
       "    <tr>\n",
       "      <th>3</th>\n",
       "      <td>aai</td>\n",
       "      <td>aaien</td>\n",
       "    </tr>\n",
       "    <tr>\n",
       "      <th>4</th>\n",
       "      <td>aai</td>\n",
       "      <td>aaitje</td>\n",
       "    </tr>\n",
       "  </tbody>\n",
       "</table>\n",
       "</div>"
      ],
      "text/plain": [
       "  wordform_1 wordform_2\n",
       "0          a       a@@s\n",
       "1          a     a@@tje\n",
       "2       aagt     aagten\n",
       "3        aai      aaien\n",
       "4        aai     aaitje"
      ]
     },
     "execution_count": 195,
     "metadata": {},
     "output_type": "execute_result"
    }
   ],
   "source": [
    "link_df.head()"
   ]
  },
  {
   "cell_type": "code",
   "execution_count": 197,
   "metadata": {},
   "outputs": [],
   "source": [
    "has_comma1 = link_df['wordform_1'].str.contains(',')\n",
    "link_df = pd.concat((link_df[~has_comma1],) + tuple(pd.DataFrame({'wordform_1': row['wordform_1'].split(', '),\n",
    "                                                                  'wordform_2': (row['wordform_2'],) * len(row['wordform_1'].split(', '))})\n",
    "                                                     for ix, row in link_df[has_comma1].iterrows()))\n",
    "\n",
    "has_comma2 = link_df['wordform_2'].str.contains(',')\n",
    "link_df = pd.concat((link_df[~has_comma2],) + tuple(pd.DataFrame({'wordform_1': (row['wordform_1'],) * len(row['wordform_2'].split(', ')),\n",
    "                                                                  'wordform_2': row['wordform_2'].split(', ')})\n",
    "                                                     for ix, row in link_df[has_comma2].iterrows()))"
   ]
  },
  {
   "cell_type": "code",
   "execution_count": 207,
   "metadata": {},
   "outputs": [
    {
     "data": {
      "text/html": [
       "<div>\n",
       "<style scoped>\n",
       "    .dataframe tbody tr th:only-of-type {\n",
       "        vertical-align: middle;\n",
       "    }\n",
       "\n",
       "    .dataframe tbody tr th {\n",
       "        vertical-align: top;\n",
       "    }\n",
       "\n",
       "    .dataframe thead th {\n",
       "        text-align: right;\n",
       "    }\n",
       "</style>\n",
       "<table border=\"1\" class=\"dataframe\">\n",
       "  <thead>\n",
       "    <tr style=\"text-align: right;\">\n",
       "      <th></th>\n",
       "      <th>wordform_1</th>\n",
       "      <th>wordform_2</th>\n",
       "    </tr>\n",
       "  </thead>\n",
       "  <tbody>\n",
       "    <tr>\n",
       "      <th>0</th>\n",
       "      <td>zuiveringschap</td>\n",
       "      <td>zuiveringschappen</td>\n",
       "    </tr>\n",
       "    <tr>\n",
       "      <th>1</th>\n",
       "      <td>zuiveringschap</td>\n",
       "      <td>zuiveringsschappen</td>\n",
       "    </tr>\n",
       "    <tr>\n",
       "      <th>0</th>\n",
       "      <td>zuiveringsschap</td>\n",
       "      <td>zuiveringschappen</td>\n",
       "    </tr>\n",
       "    <tr>\n",
       "      <th>1</th>\n",
       "      <td>zuiveringsschap</td>\n",
       "      <td>zuiveringsschappen</td>\n",
       "    </tr>\n",
       "    <tr>\n",
       "      <th>0</th>\n",
       "      <td>zweetpoeder2</td>\n",
       "      <td>zweetpoeders</td>\n",
       "    </tr>\n",
       "    <tr>\n",
       "      <th>1</th>\n",
       "      <td>zweetpoeder2</td>\n",
       "      <td>zweetpoeiers</td>\n",
       "    </tr>\n",
       "    <tr>\n",
       "      <th>0</th>\n",
       "      <td>zweetpoeier</td>\n",
       "      <td>zweetpoeders</td>\n",
       "    </tr>\n",
       "    <tr>\n",
       "      <th>1</th>\n",
       "      <td>zweetpoeier</td>\n",
       "      <td>zweetpoeiers</td>\n",
       "    </tr>\n",
       "    <tr>\n",
       "      <th>0</th>\n",
       "      <td>zwoerd</td>\n",
       "      <td>zwoerden</td>\n",
       "    </tr>\n",
       "    <tr>\n",
       "      <th>1</th>\n",
       "      <td>zwoerd</td>\n",
       "      <td>zwoorden</td>\n",
       "    </tr>\n",
       "    <tr>\n",
       "      <th>0</th>\n",
       "      <td>zwoord</td>\n",
       "      <td>zwoerden</td>\n",
       "    </tr>\n",
       "    <tr>\n",
       "      <th>1</th>\n",
       "      <td>zwoord</td>\n",
       "      <td>zwoorden</td>\n",
       "    </tr>\n",
       "  </tbody>\n",
       "</table>\n",
       "</div>"
      ],
      "text/plain": [
       "        wordform_1          wordform_2\n",
       "0   zuiveringschap   zuiveringschappen\n",
       "1   zuiveringschap  zuiveringsschappen\n",
       "0  zuiveringsschap   zuiveringschappen\n",
       "1  zuiveringsschap  zuiveringsschappen\n",
       "0     zweetpoeder2        zweetpoeders\n",
       "1     zweetpoeder2        zweetpoeiers\n",
       "0      zweetpoeier        zweetpoeders\n",
       "1      zweetpoeier        zweetpoeiers\n",
       "0           zwoerd            zwoerden\n",
       "1           zwoerd            zwoorden\n",
       "0           zwoord            zwoerden\n",
       "1           zwoord            zwoorden"
      ]
     },
     "execution_count": 207,
     "metadata": {},
     "output_type": "execute_result"
    }
   ],
   "source": [
    "link_df.tail(12)"
   ]
  },
  {
   "cell_type": "markdown",
   "metadata": {},
   "source": [
    "# Clean wordforms\n",
    "\n",
    "Almost like in [the first Groene Boekje notebook](groene_boekje.ipynb), but now per column. The main changes are:\n",
    "- We do it per column\n",
    "- We must not do `.unique()` at the end, because duplicate words in a column may be linked to different words in the other column! Unique should be row-based.\n",
    "\n",
    "We also redo the above in one go in the next cell."
   ]
  },
  {
   "cell_type": "code",
   "execution_count": 218,
   "metadata": {},
   "outputs": [],
   "source": [
    "link_data = df_GB1995.drop([\"syllables\", \"grammatical tag\", \"article\",\n",
    "                            \"plural/past/attrib syllables\", \"diminu/compara/past plural syllables\", \"past perfect/superla syllables\"], axis=1)\n",
    "\n",
    "# clean link_data\n",
    "link_data['see also'] = link_data['see also'].str.replace('zie ook ', '')\n",
    "link_data['disambiguation'] = link_data['disambiguation'].str.strip('()')\n",
    "link_data['disambiguation'][link_data['disambiguation'] == 'andere bett.'] = None\n",
    "link_data['disambiguation'][link_data['disambiguation'] == 'andere bet.'] = None\n",
    "link_data['disambiguation'][link_data['disambiguation'].str.contains(\" \", na=False)\n",
    "                            & ~link_data['disambiguation'].str.contains(\",\", na=False)] = None\n",
    "link_data['disambiguation'][link_data['disambiguation'].str.contains(\"[^,] \", na=False)] = (\n",
    "    link_data['disambiguation']\n",
    "     [link_data['disambiguation'].str.contains(\"[^,] \", na=False)]\n",
    "     .str.split(', ')\n",
    "     .map(lambda x: [i for i in x if not ' ' in i])\n",
    "     .map(lambda x: None if len(x) == 0 else ', '.join(x))\n",
    ")\n",
    "link_data['disambiguation'][link_data['disambiguation'].str.contains(\", -\", na=False)] = None\n",
    "link_data = link_data.dropna(how='all', subset=[\"see also\", \"disambiguation\", \"plural/past/attrib\", \"diminu/compara/past plural\", \"past perfect/superla\"])\n",
    "\n",
    "# convert to link_df\n",
    "link_df = (link_data.set_index('word').stack().reset_index().drop('level_1', axis=1)\n",
    "                    .rename({'word': 'wordform_1', 0: 'wordform_2'}, axis=1))\n",
    "has_comma1 = link_df['wordform_1'].str.contains(',')\n",
    "link_df = pd.concat((link_df[~has_comma1],) + tuple(pd.DataFrame({'wordform_1': row['wordform_1'].split(', '),\n",
    "                                                                  'wordform_2': (row['wordform_2'],) * len(row['wordform_1'].split(', '))})\n",
    "                                                     for ix, row in link_df[has_comma1].iterrows()))\n",
    "\n",
    "has_comma2 = link_df['wordform_2'].str.contains(',')\n",
    "link_df = pd.concat((link_df[~has_comma2],) + tuple(pd.DataFrame({'wordform_1': (row['wordform_1'],) * len(row['wordform_2'].split(', ')),\n",
    "                                                                  'wordform_2': row['wordform_2'].split(', ')})\n",
    "                                                     for ix, row in link_df[has_comma2].iterrows()))\n",
    "\n",
    "link_df = link_df.reset_index(drop=True)"
   ]
  },
  {
   "cell_type": "code",
   "execution_count": 228,
   "metadata": {},
   "outputs": [],
   "source": [
    "def clean_wordform_series(wordform_series, remove_duplicates=False):\n",
    "    # remove colons\n",
    "    wordform_series = wordform_series.str.replace(':', '')\n",
    "    # strip whitespace\n",
    "    wordform_series = wordform_series.str.strip()\n",
    "    # remove duplicate word footnote numbers\n",
    "    duplicates = wordform_series.str.contains('[0-9]$', regex=True)\n",
    "    wordform_series = pd.concat((wordform_series[~duplicates], wordform_series[duplicates].str.replace('[0-9]$', '', regex=True)))\n",
    "    # remove parentheses around some words\n",
    "    wordform_series = wordform_series.sort_values().str.strip(\"()\")\n",
    "    # remove abbreviations\n",
    "    abbreviation = wordform_series.str.contains('\\.$')\n",
    "    wordform_series = wordform_series[~abbreviation]\n",
    "    \n",
    "    if remove_duplicates:\n",
    "        wordform_series = pd.Series(wordform_series.unique())\n",
    "    return wordform_series"
   ]
  },
  {
   "cell_type": "code",
   "execution_count": 245,
   "metadata": {},
   "outputs": [],
   "source": [
    "link_clean_df = link_df.copy()\n",
    "link_clean_df['wordform_1'] = clean_wordform_series(link_clean_df['wordform_1'])\n",
    "link_clean_df['wordform_2'] = clean_wordform_series(link_clean_df['wordform_2'])\n",
    "# some links will be removed (abbreviations), so drop those rows\n",
    "link_clean_df = link_clean_df.dropna()"
   ]
  },
  {
   "cell_type": "code",
   "execution_count": 248,
   "metadata": {},
   "outputs": [
    {
     "data": {
      "text/plain": [
       "10"
      ]
     },
     "execution_count": 248,
     "metadata": {},
     "output_type": "execute_result"
    }
   ],
   "source": [
    "len(link_df) - len(link_clean_df)"
   ]
  },
  {
   "cell_type": "code",
   "execution_count": 230,
   "metadata": {},
   "outputs": [],
   "source": [
    "def check_cleanliness_wordform_series(wordform_series, head=5):\n",
    "    print(\"Random sample:\")\n",
    "    display(wordform_series.sample(10))\n",
    "    print(\"Colons, periods:\")\n",
    "    display(wordform_series[wordform_series.str.contains(':')].head(head))\n",
    "    display(wordform_series[wordform_series.str.contains('.', regex=False)].head(head))\n",
    "    print(\"White space padding:\")\n",
    "    display(wordform_series[wordform_series.str.contains('^ | $')].head(head))\n",
    "    print(\"Trailing numbers:\")\n",
    "    display(wordform_series[wordform_series.str.contains('[0-9]$', regex=True)].head(head))\n",
    "    print(\"Parentheses:\")\n",
    "    display(wordform_series[wordform_series.str.contains('\\(|\\)', regex=True)].head(head))\n",
    "    print(\"Abbreviations:\")\n",
    "    display(wordform_series[wordform_series.str.contains('\\.$')].head(head))\n",
    "    \n",
    "    print(\"Finally, just the first entries of sorted df:\")\n",
    "    display(wordform_series.sort_values().head(head))\n",
    "    display(wordform_series.sort_values().tail(head))"
   ]
  },
  {
   "cell_type": "code",
   "execution_count": 231,
   "metadata": {},
   "outputs": [
    {
     "name": "stdout",
     "output_type": "stream",
     "text": [
      "Random sample:\n"
     ]
    },
    {
     "data": {
      "text/plain": [
       "93818                  hormon\n",
       "5345                 balsport\n",
       "50832             opensnijden\n",
       "32118                 isobaar\n",
       "28796               holocaust\n",
       "46475    niet-gouvernementeel\n",
       "62240               scalperen\n",
       "6160              bee@\\digen\"\n",
       "31141                inlossen\n",
       "9440         bioscoopbezoeker\n",
       "Name: wordform_1, dtype: object"
      ]
     },
     "metadata": {},
     "output_type": "display_data"
    },
    {
     "name": "stdout",
     "output_type": "stream",
     "text": [
      "Colons, periods:\n"
     ]
    },
    {
     "data": {
      "text/plain": [
       "3940         AOW@@er:\n",
       "12875    chocolaatje:\n",
       "13305    collegaatje:\n",
       "19322       EHBO@@er:\n",
       "20633      extraatje:\n",
       "Name: wordform_1, dtype: object"
      ]
     },
     "metadata": {},
     "output_type": "display_data"
    },
    {
     "data": {
      "text/plain": [
       "4960                   B.\n",
       "5801                  bc.\n",
       "41423                  M.\n",
       "68778    st.-jakobsschelp\n",
       "Name: wordform_1, dtype: object"
      ]
     },
     "metadata": {},
     "output_type": "display_data"
    },
    {
     "name": "stdout",
     "output_type": "stream",
     "text": [
      "White space padding:\n"
     ]
    },
    {
     "data": {
      "text/plain": [
       "Series([], Name: wordform_1, dtype: object)"
      ]
     },
     "metadata": {},
     "output_type": "display_data"
    },
    {
     "name": "stdout",
     "output_type": "stream",
     "text": [
      "Trailing numbers:\n"
     ]
    },
    {
     "data": {
      "text/plain": [
       "8     aak1\n",
       "9     aak1\n",
       "10    aak2\n",
       "11    aak2\n",
       "12    aal1\n",
       "Name: wordform_1, dtype: object"
      ]
     },
     "metadata": {},
     "output_type": "display_data"
    },
    {
     "name": "stdout",
     "output_type": "stream",
     "text": [
      "Parentheses:\n"
     ]
    },
    {
     "data": {
      "text/plain": [
       "76330    van zijn positieve(n) zijn\n",
       "84759                      (werken)\n",
       "84760                      (werken)\n",
       "86155                      (werken)\n",
       "86156                      (werken)\n",
       "Name: wordform_1, dtype: object"
      ]
     },
     "metadata": {},
     "output_type": "display_data"
    },
    {
     "name": "stdout",
     "output_type": "stream",
     "text": [
      "Abbreviations:\n"
     ]
    },
    {
     "data": {
      "text/plain": [
       "4960      B.\n",
       "5801     bc.\n",
       "41423     M.\n",
       "Name: wordform_1, dtype: object"
      ]
     },
     "metadata": {},
     "output_type": "display_data"
    },
    {
     "name": "stdout",
     "output_type": "stream",
     "text": [
      "Finally, just the first entries of sorted df:\n"
     ]
    },
    {
     "data": {
      "text/plain": [
       "84759          (werken)\n",
       "86155          (werken)\n",
       "86156          (werken)\n",
       "84760          (werken)\n",
       "64468    @@s-Gravenhage\n",
       "Name: wordform_1, dtype: object"
      ]
     },
     "metadata": {},
     "output_type": "display_data"
    },
    {
     "data": {
      "text/plain": [
       "88280     zwoel\n",
       "94873    zwoerd\n",
       "94874    zwoerd\n",
       "94875    zwoord\n",
       "94876    zwoord\n",
       "Name: wordform_1, dtype: object"
      ]
     },
     "metadata": {},
     "output_type": "display_data"
    },
    {
     "name": "stdout",
     "output_type": "stream",
     "text": [
      "Random sample:\n"
     ]
    },
    {
     "data": {
      "text/plain": [
       "60944          rolwisselingen\n",
       "18119              drijfassen\n",
       "76422            vastgegroeid\n",
       "52705            overschoenen\n",
       "43518        middagmaaltijden\n",
       "77231             verdoemenis\n",
       "12118            burgerhuizen\n",
       "59344         regeringszetels\n",
       "74614               uitgebijt\n",
       "13634    computerprogramma@@s\n",
       "Name: wordform_2, dtype: object"
      ]
     },
     "metadata": {},
     "output_type": "display_data"
    },
    {
     "name": "stdout",
     "output_type": "stream",
     "text": [
      "Colons, periods:\n"
     ]
    },
    {
     "data": {
      "text/plain": [
       "1115      abc@@tje:\n",
       "1205    acaciaatje:\n",
       "1275      accuutje:\n",
       "3095    agendaatje:\n",
       "3561    amforaatje:\n",
       "Name: wordform_2, dtype: object"
      ]
     },
     "metadata": {},
     "output_type": "display_data"
    },
    {
     "data": {
      "text/plain": [
       "3386        znw.\n",
       "7060     eigenn.\n",
       "7271        znw.\n",
       "20249       znw.\n",
       "30231       znw.\n",
       "Name: wordform_2, dtype: object"
      ]
     },
     "metadata": {},
     "output_type": "display_data"
    },
    {
     "name": "stdout",
     "output_type": "stream",
     "text": [
      "White space padding:\n"
     ]
    },
    {
     "data": {
      "text/plain": [
       "93553    ganzenvederen \n",
       "93556    ganzenvederen \n",
       "Name: wordform_2, dtype: object"
      ]
     },
     "metadata": {},
     "output_type": "display_data"
    },
    {
     "name": "stdout",
     "output_type": "stream",
     "text": [
      "Trailing numbers:\n"
     ]
    },
    {
     "data": {
      "text/plain": [
       "29       aal1\n",
       "7609    best3\n",
       "7844     bes2\n",
       "8064    beet1\n",
       "8796    beet1\n",
       "Name: wordform_2, dtype: object"
      ]
     },
     "metadata": {},
     "output_type": "display_data"
    },
    {
     "name": "stdout",
     "output_type": "stream",
     "text": [
      "Parentheses:\n"
     ]
    },
    {
     "data": {
      "text/plain": [
       "57881                       spits);\n",
       "59415                     koor(zang\n",
       "76330    bij zijn positieve(n) zijn\n",
       "Name: wordform_2, dtype: object"
      ]
     },
     "metadata": {},
     "output_type": "display_data"
    },
    {
     "name": "stdout",
     "output_type": "stream",
     "text": [
      "Abbreviations:\n"
     ]
    },
    {
     "data": {
      "text/plain": [
       "3386        znw.\n",
       "7060     eigenn.\n",
       "7271        znw.\n",
       "20249       znw.\n",
       "30231       znw.\n",
       "Name: wordform_2, dtype: object"
      ]
     },
     "metadata": {},
     "output_type": "display_data"
    },
    {
     "name": "stdout",
     "output_type": "stream",
     "text": [
      "Finally, just the first entries of sorted df:\n"
     ]
    },
    {
     "data": {
      "text/plain": [
       "15478       @@s-Gravenhage\n",
       "15473    @@s-Hertogenbosch\n",
       "1135           A-biljetten\n",
       "1142              A-bommen\n",
       "3938            A-omroepen\n",
       "Name: wordform_2, dtype: object"
      ]
     },
     "metadata": {},
     "output_type": "display_data"
    },
    {
     "data": {
      "text/plain": [
       "94874                   zwoorden\n",
       "94876                   zwoorden\n",
       "3085       zworen af zweerden af\n",
       "75776    zworen uit zweerden uit\n",
       "88194            zworen zweerden\n",
       "Name: wordform_2, dtype: object"
      ]
     },
     "metadata": {},
     "output_type": "display_data"
    }
   ],
   "source": [
    "check_cleanliness_wordform_series(link_df['wordform_1'])\n",
    "check_cleanliness_wordform_series(link_df['wordform_2'])"
   ]
  },
  {
   "cell_type": "code",
   "execution_count": 246,
   "metadata": {},
   "outputs": [
    {
     "name": "stdout",
     "output_type": "stream",
     "text": [
      "Random sample:\n"
     ]
    },
    {
     "data": {
      "text/plain": [
       "28268     hersenspoelen\n",
       "15526           dentaal\n",
       "65340        sloopwagen\n",
       "28673              hoep\n",
       "49180    onheilsprofeet\n",
       "74344            tutten\n",
       "72940        toneellamp\n",
       "44803            mormel\n",
       "88856           ballade\n",
       "16953       doodernstig\n",
       "Name: wordform_1, dtype: object"
      ]
     },
     "metadata": {},
     "output_type": "display_data"
    },
    {
     "name": "stdout",
     "output_type": "stream",
     "text": [
      "Colons, periods:\n"
     ]
    },
    {
     "data": {
      "text/plain": [
       "Series([], Name: wordform_1, dtype: object)"
      ]
     },
     "metadata": {},
     "output_type": "display_data"
    },
    {
     "data": {
      "text/plain": [
       "68778    st.-jakobsschelp\n",
       "Name: wordform_1, dtype: object"
      ]
     },
     "metadata": {},
     "output_type": "display_data"
    },
    {
     "name": "stdout",
     "output_type": "stream",
     "text": [
      "White space padding:\n"
     ]
    },
    {
     "data": {
      "text/plain": [
       "Series([], Name: wordform_1, dtype: object)"
      ]
     },
     "metadata": {},
     "output_type": "display_data"
    },
    {
     "name": "stdout",
     "output_type": "stream",
     "text": [
      "Trailing numbers:\n"
     ]
    },
    {
     "data": {
      "text/plain": [
       "Series([], Name: wordform_1, dtype: object)"
      ]
     },
     "metadata": {},
     "output_type": "display_data"
    },
    {
     "name": "stdout",
     "output_type": "stream",
     "text": [
      "Parentheses:\n"
     ]
    },
    {
     "data": {
      "text/plain": [
       "76330    van zijn positieve(n) zijn\n",
       "Name: wordform_1, dtype: object"
      ]
     },
     "metadata": {},
     "output_type": "display_data"
    },
    {
     "name": "stdout",
     "output_type": "stream",
     "text": [
      "Abbreviations:\n"
     ]
    },
    {
     "data": {
      "text/plain": [
       "Series([], Name: wordform_1, dtype: object)"
      ]
     },
     "metadata": {},
     "output_type": "display_data"
    },
    {
     "name": "stdout",
     "output_type": "stream",
     "text": [
      "Finally, just the first entries of sorted df:\n"
     ]
    },
    {
     "data": {
      "text/plain": [
       "64468       @@s-Gravenhage\n",
       "64489    @@s-Hertogenbosch\n",
       "1135              A-biljet\n",
       "1142                 A-bom\n",
       "3938              A-omroep\n",
       "Name: wordform_1, dtype: object"
      ]
     },
     "metadata": {},
     "output_type": "display_data"
    },
    {
     "data": {
      "text/plain": [
       "88280     zwoel\n",
       "94873    zwoerd\n",
       "94874    zwoerd\n",
       "94875    zwoord\n",
       "94876    zwoord\n",
       "Name: wordform_1, dtype: object"
      ]
     },
     "metadata": {},
     "output_type": "display_data"
    },
    {
     "name": "stdout",
     "output_type": "stream",
     "text": [
      "Random sample:\n"
     ]
    },
    {
     "data": {
      "text/plain": [
       "84983           West-Indische\n",
       "12350    camouflagetechnieken\n",
       "15054              decimeerde\n",
       "67865           stageplaatsen\n",
       "38975                laterale\n",
       "77380                verengde\n",
       "83007       waarnemingsvelden\n",
       "83840                weegbare\n",
       "40470             liquidaties\n",
       "74139              tuinbedden\n",
       "Name: wordform_2, dtype: object"
      ]
     },
     "metadata": {},
     "output_type": "display_data"
    },
    {
     "name": "stdout",
     "output_type": "stream",
     "text": [
      "Colons, periods:\n"
     ]
    },
    {
     "data": {
      "text/plain": [
       "Series([], Name: wordform_2, dtype: object)"
      ]
     },
     "metadata": {},
     "output_type": "display_data"
    },
    {
     "data": {
      "text/plain": [
       "68778    st.-jakobsschelpen\n",
       "76051       vademen. vadems\n",
       "Name: wordform_2, dtype: object"
      ]
     },
     "metadata": {},
     "output_type": "display_data"
    },
    {
     "name": "stdout",
     "output_type": "stream",
     "text": [
      "White space padding:\n"
     ]
    },
    {
     "data": {
      "text/plain": [
       "Series([], Name: wordform_2, dtype: object)"
      ]
     },
     "metadata": {},
     "output_type": "display_data"
    },
    {
     "name": "stdout",
     "output_type": "stream",
     "text": [
      "Trailing numbers:\n"
     ]
    },
    {
     "data": {
      "text/plain": [
       "Series([], Name: wordform_2, dtype: object)"
      ]
     },
     "metadata": {},
     "output_type": "display_data"
    },
    {
     "name": "stdout",
     "output_type": "stream",
     "text": [
      "Parentheses:\n"
     ]
    },
    {
     "data": {
      "text/plain": [
       "57881                       spits);\n",
       "59415                     koor(zang\n",
       "76330    bij zijn positieve(n) zijn\n",
       "Name: wordform_2, dtype: object"
      ]
     },
     "metadata": {},
     "output_type": "display_data"
    },
    {
     "name": "stdout",
     "output_type": "stream",
     "text": [
      "Abbreviations:\n"
     ]
    },
    {
     "data": {
      "text/plain": [
       "Series([], Name: wordform_2, dtype: object)"
      ]
     },
     "metadata": {},
     "output_type": "display_data"
    },
    {
     "name": "stdout",
     "output_type": "stream",
     "text": [
      "Finally, just the first entries of sorted df:\n"
     ]
    },
    {
     "data": {
      "text/plain": [
       "15478       @@s-Gravenhage\n",
       "15473    @@s-Hertogenbosch\n",
       "1135           A-biljetten\n",
       "1142              A-bommen\n",
       "3938            A-omroepen\n",
       "Name: wordform_2, dtype: object"
      ]
     },
     "metadata": {},
     "output_type": "display_data"
    },
    {
     "data": {
      "text/plain": [
       "94874                   zwoorden\n",
       "94876                   zwoorden\n",
       "3085       zworen af zweerden af\n",
       "75776    zworen uit zweerden uit\n",
       "88194            zworen zweerden\n",
       "Name: wordform_2, dtype: object"
      ]
     },
     "metadata": {},
     "output_type": "display_data"
    }
   ],
   "source": [
    "check_cleanliness_wordform_series(link_clean_df['wordform_1'])\n",
    "check_cleanliness_wordform_series(link_clean_df['wordform_2'])"
   ]
  },
  {
   "cell_type": "markdown",
   "metadata": {},
   "source": [
    "### Normalizing diacritics"
   ]
  },
  {
   "cell_type": "code",
   "execution_count": 249,
   "metadata": {},
   "outputs": [],
   "source": [
    "# note that these are regex formatted, i.e. with special characters escaped\n",
    "diacritic_markers = {'@`': '\\u0300',    # accent grave\n",
    "                     \"@\\\\'\": '\\u0301',  # accent aigu\n",
    "                     '@\\\\\\\\': '\\u0308', # trema\n",
    "                     '@\\+': '\\u0327',   # cedilla\n",
    "                     '@\\^': '\\u0302',   # accent circumflex\n",
    "                     '@=': '\\u0303',    # tilde\n",
    "                     '@@': \"'\",         # apostrophe (not actually a diacritic)\n",
    "                     '@2': '\\u2082',    # subscript 2\n",
    "                     '@n': '\\u0308n'    # trema followed by n\n",
    "                    }"
   ]
  },
  {
   "cell_type": "code",
   "execution_count": 251,
   "metadata": {},
   "outputs": [],
   "source": [
    "for column in link_clean_df:\n",
    "    for marker, umarker in diacritic_markers.items():\n",
    "        link_clean_df[column] = link_clean_df[column].str.replace(marker, umarker)"
   ]
  },
  {
   "cell_type": "code",
   "execution_count": 271,
   "metadata": {},
   "outputs": [
    {
     "data": {
      "text/html": [
       "<div>\n",
       "<style scoped>\n",
       "    .dataframe tbody tr th:only-of-type {\n",
       "        vertical-align: middle;\n",
       "    }\n",
       "\n",
       "    .dataframe tbody tr th {\n",
       "        vertical-align: top;\n",
       "    }\n",
       "\n",
       "    .dataframe thead th {\n",
       "        text-align: right;\n",
       "    }\n",
       "</style>\n",
       "<table border=\"1\" class=\"dataframe\">\n",
       "  <thead>\n",
       "    <tr style=\"text-align: right;\">\n",
       "      <th></th>\n",
       "      <th>wordform_1</th>\n",
       "      <th>wordform_2</th>\n",
       "    </tr>\n",
       "  </thead>\n",
       "  <tbody>\n",
       "    <tr>\n",
       "      <th>25256</th>\n",
       "      <td>godheid</td>\n",
       "      <td>godheden</td>\n",
       "    </tr>\n",
       "    <tr>\n",
       "      <th>41597</th>\n",
       "      <td>maatstaf</td>\n",
       "      <td>maatstaven</td>\n",
       "    </tr>\n",
       "    <tr>\n",
       "      <th>44022</th>\n",
       "      <td>minnelijk</td>\n",
       "      <td>minnelijke</td>\n",
       "    </tr>\n",
       "    <tr>\n",
       "      <th>1641</th>\n",
       "      <td>adenoïde\"</td>\n",
       "      <td>adenoïden\"</td>\n",
       "    </tr>\n",
       "    <tr>\n",
       "      <th>44581</th>\n",
       "      <td>moloch</td>\n",
       "      <td>molochs</td>\n",
       "    </tr>\n",
       "    <tr>\n",
       "      <th>76935</th>\n",
       "      <td>verbaasd</td>\n",
       "      <td>verbaasde</td>\n",
       "    </tr>\n",
       "    <tr>\n",
       "      <th>6874</th>\n",
       "      <td>belastingopbrengst</td>\n",
       "      <td>belastingopbrengsten</td>\n",
       "    </tr>\n",
       "    <tr>\n",
       "      <th>86096</th>\n",
       "      <td>wriggelen</td>\n",
       "      <td>gewriggeld</td>\n",
       "    </tr>\n",
       "    <tr>\n",
       "      <th>42243</th>\n",
       "      <td>masker</td>\n",
       "      <td>maskers</td>\n",
       "    </tr>\n",
       "    <tr>\n",
       "      <th>26585</th>\n",
       "      <td>haageik</td>\n",
       "      <td>haageiken</td>\n",
       "    </tr>\n",
       "  </tbody>\n",
       "</table>\n",
       "</div>"
      ],
      "text/plain": [
       "               wordform_1            wordform_2\n",
       "25256             godheid              godheden\n",
       "41597            maatstaf            maatstaven\n",
       "44022           minnelijk            minnelijke\n",
       "1641           adenoïde\"           adenoïden\"\n",
       "44581              moloch               molochs\n",
       "76935            verbaasd             verbaasde\n",
       "6874   belastingopbrengst  belastingopbrengsten\n",
       "86096           wriggelen            gewriggeld\n",
       "42243              masker               maskers\n",
       "26585             haageik             haageiken"
      ]
     },
     "execution_count": 271,
     "metadata": {},
     "output_type": "execute_result"
    }
   ],
   "source": [
    "link_clean_df.sort_values(by=link_clean_df.columns.tolist()).sample(10)"
   ]
  },
  {
   "cell_type": "markdown",
   "metadata": {},
   "source": [
    "# Load Groene Boekje DataFrames into TICCLAT database"
   ]
  },
  {
   "cell_type": "code",
   "execution_count": 285,
   "metadata": {},
   "outputs": [
    {
     "ename": "InvalidRequestError",
     "evalue": "One or more mappers failed to initialize - can't proceed with initialization of other mappers. Triggering mapper: 'Mapper|WordformLink|wordform_links'. Original exception was: Could not determine join condition between parent/child tables on relationship WordformLink.wordform_1 - there are multiple foreign key paths linking the tables.  Specify the 'foreign_keys' argument, providing a list of those columns which should be counted as containing a foreign key reference to the parent table.",
     "output_type": "error",
     "traceback": [
      "\u001b[0;31m---------------------------------------------------------------------------\u001b[0m",
      "\u001b[0;31mInvalidRequestError\u001b[0m                       Traceback (most recent call last)",
      "\u001b[0;32m<ipython-input-285-a242fcaf1989>\u001b[0m in \u001b[0;36m<module>\u001b[0;34m\u001b[0m\n\u001b[1;32m      1\u001b[0m \u001b[0;32mwith\u001b[0m \u001b[0mticclat\u001b[0m\u001b[0;34m.\u001b[0m\u001b[0mdbutils\u001b[0m\u001b[0;34m.\u001b[0m\u001b[0msession_scope\u001b[0m\u001b[0;34m(\u001b[0m\u001b[0mSession\u001b[0m\u001b[0;34m)\u001b[0m \u001b[0;32mas\u001b[0m \u001b[0msession\u001b[0m\u001b[0;34m:\u001b[0m\u001b[0;34m\u001b[0m\u001b[0;34m\u001b[0m\u001b[0m\n\u001b[1;32m      2\u001b[0m     \u001b[0;32mfor\u001b[0m \u001b[0mix\u001b[0m\u001b[0;34m,\u001b[0m \u001b[0mrow\u001b[0m \u001b[0;32min\u001b[0m \u001b[0mlink_clean_df\u001b[0m\u001b[0;34m.\u001b[0m\u001b[0miterrows\u001b[0m\u001b[0;34m(\u001b[0m\u001b[0;34m)\u001b[0m\u001b[0;34m:\u001b[0m\u001b[0;34m\u001b[0m\u001b[0;34m\u001b[0m\u001b[0m\n\u001b[0;32m----> 3\u001b[0;31m         \u001b[0mw1\u001b[0m \u001b[0;34m=\u001b[0m \u001b[0msession\u001b[0m\u001b[0;34m.\u001b[0m\u001b[0mquery\u001b[0m\u001b[0;34m(\u001b[0m\u001b[0mticclat\u001b[0m\u001b[0;34m.\u001b[0m\u001b[0mticclat_schema\u001b[0m\u001b[0;34m.\u001b[0m\u001b[0mWordform\u001b[0m\u001b[0;34m)\u001b[0m\u001b[0;34m.\u001b[0m\u001b[0mfilter_by\u001b[0m\u001b[0;34m(\u001b[0m\u001b[0mwordform\u001b[0m\u001b[0;34m=\u001b[0m\u001b[0mrow\u001b[0m\u001b[0;34m[\u001b[0m\u001b[0;34m\"wordform_1\"\u001b[0m\u001b[0;34m]\u001b[0m\u001b[0;34m)\u001b[0m\u001b[0;34m.\u001b[0m\u001b[0mone\u001b[0m\u001b[0;34m(\u001b[0m\u001b[0;34m)\u001b[0m\u001b[0;34m\u001b[0m\u001b[0;34m\u001b[0m\u001b[0m\n\u001b[0m\u001b[1;32m      4\u001b[0m         \u001b[0mw2\u001b[0m \u001b[0;34m=\u001b[0m \u001b[0msession\u001b[0m\u001b[0;34m.\u001b[0m\u001b[0mquery\u001b[0m\u001b[0;34m(\u001b[0m\u001b[0mticclat\u001b[0m\u001b[0;34m.\u001b[0m\u001b[0mticclat_schema\u001b[0m\u001b[0;34m.\u001b[0m\u001b[0mWordform\u001b[0m\u001b[0;34m)\u001b[0m\u001b[0;34m.\u001b[0m\u001b[0mfilter_by\u001b[0m\u001b[0;34m(\u001b[0m\u001b[0mwordform\u001b[0m\u001b[0;34m=\u001b[0m\u001b[0mrow\u001b[0m\u001b[0;34m[\u001b[0m\u001b[0;34m\"wordform_2\"\u001b[0m\u001b[0;34m]\u001b[0m\u001b[0;34m)\u001b[0m\u001b[0;34m.\u001b[0m\u001b[0mone\u001b[0m\u001b[0;34m(\u001b[0m\u001b[0;34m)\u001b[0m\u001b[0;34m\u001b[0m\u001b[0;34m\u001b[0m\u001b[0m\n\u001b[1;32m      5\u001b[0m         \u001b[0mw1\u001b[0m\u001b[0;34m.\u001b[0m\u001b[0mlinks\u001b[0m\u001b[0;34m.\u001b[0m\u001b[0mappend\u001b[0m\u001b[0;34m(\u001b[0m\u001b[0mw2\u001b[0m\u001b[0;34m)\u001b[0m\u001b[0;34m\u001b[0m\u001b[0;34m\u001b[0m\u001b[0m\n",
      "\u001b[0;32m~/sw/miniconda3/envs/ticclat2/lib/python3.7/site-packages/sqlalchemy/orm/session.py\u001b[0m in \u001b[0;36mquery\u001b[0;34m(self, *entities, **kwargs)\u001b[0m\n\u001b[1;32m   1536\u001b[0m         :class:`.Session`.\"\"\"\n\u001b[1;32m   1537\u001b[0m \u001b[0;34m\u001b[0m\u001b[0m\n\u001b[0;32m-> 1538\u001b[0;31m         \u001b[0;32mreturn\u001b[0m \u001b[0mself\u001b[0m\u001b[0;34m.\u001b[0m\u001b[0m_query_cls\u001b[0m\u001b[0;34m(\u001b[0m\u001b[0mentities\u001b[0m\u001b[0;34m,\u001b[0m \u001b[0mself\u001b[0m\u001b[0;34m,\u001b[0m \u001b[0;34m**\u001b[0m\u001b[0mkwargs\u001b[0m\u001b[0;34m)\u001b[0m\u001b[0;34m\u001b[0m\u001b[0;34m\u001b[0m\u001b[0m\n\u001b[0m\u001b[1;32m   1539\u001b[0m \u001b[0;34m\u001b[0m\u001b[0m\n\u001b[1;32m   1540\u001b[0m     \u001b[0;34m@\u001b[0m\u001b[0mproperty\u001b[0m\u001b[0;34m\u001b[0m\u001b[0;34m\u001b[0m\u001b[0m\n",
      "\u001b[0;32m~/sw/miniconda3/envs/ticclat2/lib/python3.7/site-packages/sqlalchemy/orm/query.py\u001b[0m in \u001b[0;36m__init__\u001b[0;34m(self, entities, session)\u001b[0m\n\u001b[1;32m    165\u001b[0m         \u001b[0mself\u001b[0m\u001b[0;34m.\u001b[0m\u001b[0msession\u001b[0m \u001b[0;34m=\u001b[0m \u001b[0msession\u001b[0m\u001b[0;34m\u001b[0m\u001b[0;34m\u001b[0m\u001b[0m\n\u001b[1;32m    166\u001b[0m         \u001b[0mself\u001b[0m\u001b[0;34m.\u001b[0m\u001b[0m_polymorphic_adapters\u001b[0m \u001b[0;34m=\u001b[0m \u001b[0;34m{\u001b[0m\u001b[0;34m}\u001b[0m\u001b[0;34m\u001b[0m\u001b[0;34m\u001b[0m\u001b[0m\n\u001b[0;32m--> 167\u001b[0;31m         \u001b[0mself\u001b[0m\u001b[0;34m.\u001b[0m\u001b[0m_set_entities\u001b[0m\u001b[0;34m(\u001b[0m\u001b[0mentities\u001b[0m\u001b[0;34m)\u001b[0m\u001b[0;34m\u001b[0m\u001b[0;34m\u001b[0m\u001b[0m\n\u001b[0m\u001b[1;32m    168\u001b[0m \u001b[0;34m\u001b[0m\u001b[0m\n\u001b[1;32m    169\u001b[0m     \u001b[0;32mdef\u001b[0m \u001b[0m_set_entities\u001b[0m\u001b[0;34m(\u001b[0m\u001b[0mself\u001b[0m\u001b[0;34m,\u001b[0m \u001b[0mentities\u001b[0m\u001b[0;34m,\u001b[0m \u001b[0mentity_wrapper\u001b[0m\u001b[0;34m=\u001b[0m\u001b[0;32mNone\u001b[0m\u001b[0;34m)\u001b[0m\u001b[0;34m:\u001b[0m\u001b[0;34m\u001b[0m\u001b[0;34m\u001b[0m\u001b[0m\n",
      "\u001b[0;32m~/sw/miniconda3/envs/ticclat2/lib/python3.7/site-packages/sqlalchemy/orm/query.py\u001b[0m in \u001b[0;36m_set_entities\u001b[0;34m(self, entities, entity_wrapper)\u001b[0m\n\u001b[1;32m    197\u001b[0m                 \u001b[0mentity_wrapper\u001b[0m\u001b[0;34m(\u001b[0m\u001b[0mself\u001b[0m\u001b[0;34m,\u001b[0m \u001b[0ment\u001b[0m\u001b[0;34m)\u001b[0m\u001b[0;34m\u001b[0m\u001b[0;34m\u001b[0m\u001b[0m\n\u001b[1;32m    198\u001b[0m \u001b[0;34m\u001b[0m\u001b[0m\n\u001b[0;32m--> 199\u001b[0;31m             \u001b[0mself\u001b[0m\u001b[0;34m.\u001b[0m\u001b[0m_set_entity_selectables\u001b[0m\u001b[0;34m(\u001b[0m\u001b[0mself\u001b[0m\u001b[0;34m.\u001b[0m\u001b[0m_entities\u001b[0m\u001b[0;34m)\u001b[0m\u001b[0;34m\u001b[0m\u001b[0;34m\u001b[0m\u001b[0m\n\u001b[0m\u001b[1;32m    200\u001b[0m \u001b[0;34m\u001b[0m\u001b[0m\n\u001b[1;32m    201\u001b[0m     \u001b[0;32mdef\u001b[0m \u001b[0m_set_entity_selectables\u001b[0m\u001b[0;34m(\u001b[0m\u001b[0mself\u001b[0m\u001b[0;34m,\u001b[0m \u001b[0mentities\u001b[0m\u001b[0;34m)\u001b[0m\u001b[0;34m:\u001b[0m\u001b[0;34m\u001b[0m\u001b[0;34m\u001b[0m\u001b[0m\n",
      "\u001b[0;32m~/sw/miniconda3/envs/ticclat2/lib/python3.7/site-packages/sqlalchemy/orm/query.py\u001b[0m in \u001b[0;36m_set_entity_selectables\u001b[0;34m(self, entities)\u001b[0m\n\u001b[1;32m    228\u001b[0m \u001b[0;34m\u001b[0m\u001b[0m\n\u001b[1;32m    229\u001b[0m                     \u001b[0md\u001b[0m\u001b[0;34m[\u001b[0m\u001b[0mentity\u001b[0m\u001b[0;34m]\u001b[0m \u001b[0;34m=\u001b[0m \u001b[0;34m(\u001b[0m\u001b[0mext_info\u001b[0m\u001b[0;34m,\u001b[0m \u001b[0maliased_adapter\u001b[0m\u001b[0;34m)\u001b[0m\u001b[0;34m\u001b[0m\u001b[0;34m\u001b[0m\u001b[0m\n\u001b[0;32m--> 230\u001b[0;31m                 \u001b[0ment\u001b[0m\u001b[0;34m.\u001b[0m\u001b[0msetup_entity\u001b[0m\u001b[0;34m(\u001b[0m\u001b[0;34m*\u001b[0m\u001b[0md\u001b[0m\u001b[0;34m[\u001b[0m\u001b[0mentity\u001b[0m\u001b[0;34m]\u001b[0m\u001b[0;34m)\u001b[0m\u001b[0;34m\u001b[0m\u001b[0;34m\u001b[0m\u001b[0m\n\u001b[0m\u001b[1;32m    231\u001b[0m \u001b[0;34m\u001b[0m\u001b[0m\n\u001b[1;32m    232\u001b[0m     \u001b[0;32mdef\u001b[0m \u001b[0m_mapper_loads_polymorphically_with\u001b[0m\u001b[0;34m(\u001b[0m\u001b[0mself\u001b[0m\u001b[0;34m,\u001b[0m \u001b[0mmapper\u001b[0m\u001b[0;34m,\u001b[0m \u001b[0madapter\u001b[0m\u001b[0;34m)\u001b[0m\u001b[0;34m:\u001b[0m\u001b[0;34m\u001b[0m\u001b[0;34m\u001b[0m\u001b[0m\n",
      "\u001b[0;32m~/sw/miniconda3/envs/ticclat2/lib/python3.7/site-packages/sqlalchemy/orm/query.py\u001b[0m in \u001b[0;36msetup_entity\u001b[0;34m(self, ext_info, aliased_adapter)\u001b[0m\n\u001b[1;32m   3821\u001b[0m         \u001b[0mself\u001b[0m\u001b[0;34m.\u001b[0m\u001b[0mselectable\u001b[0m \u001b[0;34m=\u001b[0m \u001b[0mext_info\u001b[0m\u001b[0;34m.\u001b[0m\u001b[0mselectable\u001b[0m\u001b[0;34m\u001b[0m\u001b[0;34m\u001b[0m\u001b[0m\n\u001b[1;32m   3822\u001b[0m         \u001b[0mself\u001b[0m\u001b[0;34m.\u001b[0m\u001b[0mis_aliased_class\u001b[0m \u001b[0;34m=\u001b[0m \u001b[0mext_info\u001b[0m\u001b[0;34m.\u001b[0m\u001b[0mis_aliased_class\u001b[0m\u001b[0;34m\u001b[0m\u001b[0;34m\u001b[0m\u001b[0m\n\u001b[0;32m-> 3823\u001b[0;31m         \u001b[0mself\u001b[0m\u001b[0;34m.\u001b[0m\u001b[0m_with_polymorphic\u001b[0m \u001b[0;34m=\u001b[0m \u001b[0mext_info\u001b[0m\u001b[0;34m.\u001b[0m\u001b[0mwith_polymorphic_mappers\u001b[0m\u001b[0;34m\u001b[0m\u001b[0;34m\u001b[0m\u001b[0m\n\u001b[0m\u001b[1;32m   3824\u001b[0m         \u001b[0mself\u001b[0m\u001b[0;34m.\u001b[0m\u001b[0m_polymorphic_discriminator\u001b[0m \u001b[0;34m=\u001b[0m \u001b[0mext_info\u001b[0m\u001b[0;34m.\u001b[0m\u001b[0mpolymorphic_on\u001b[0m\u001b[0;34m\u001b[0m\u001b[0;34m\u001b[0m\u001b[0m\n\u001b[1;32m   3825\u001b[0m         \u001b[0mself\u001b[0m\u001b[0;34m.\u001b[0m\u001b[0mentity_zero\u001b[0m \u001b[0;34m=\u001b[0m \u001b[0mext_info\u001b[0m\u001b[0;34m\u001b[0m\u001b[0;34m\u001b[0m\u001b[0m\n",
      "\u001b[0;32m~/sw/miniconda3/envs/ticclat2/lib/python3.7/site-packages/sqlalchemy/util/langhelpers.py\u001b[0m in \u001b[0;36m__get__\u001b[0;34m(self, obj, cls)\u001b[0m\n\u001b[1;32m    837\u001b[0m         \u001b[0;32mif\u001b[0m \u001b[0mobj\u001b[0m \u001b[0;32mis\u001b[0m \u001b[0;32mNone\u001b[0m\u001b[0;34m:\u001b[0m\u001b[0;34m\u001b[0m\u001b[0;34m\u001b[0m\u001b[0m\n\u001b[1;32m    838\u001b[0m             \u001b[0;32mreturn\u001b[0m \u001b[0mself\u001b[0m\u001b[0;34m\u001b[0m\u001b[0;34m\u001b[0m\u001b[0m\n\u001b[0;32m--> 839\u001b[0;31m         \u001b[0mobj\u001b[0m\u001b[0;34m.\u001b[0m\u001b[0m__dict__\u001b[0m\u001b[0;34m[\u001b[0m\u001b[0mself\u001b[0m\u001b[0;34m.\u001b[0m\u001b[0m__name__\u001b[0m\u001b[0;34m]\u001b[0m \u001b[0;34m=\u001b[0m \u001b[0mresult\u001b[0m \u001b[0;34m=\u001b[0m \u001b[0mself\u001b[0m\u001b[0;34m.\u001b[0m\u001b[0mfget\u001b[0m\u001b[0;34m(\u001b[0m\u001b[0mobj\u001b[0m\u001b[0;34m)\u001b[0m\u001b[0;34m\u001b[0m\u001b[0;34m\u001b[0m\u001b[0m\n\u001b[0m\u001b[1;32m    840\u001b[0m         \u001b[0;32mreturn\u001b[0m \u001b[0mresult\u001b[0m\u001b[0;34m\u001b[0m\u001b[0;34m\u001b[0m\u001b[0m\n\u001b[1;32m    841\u001b[0m \u001b[0;34m\u001b[0m\u001b[0m\n",
      "\u001b[0;32m~/sw/miniconda3/envs/ticclat2/lib/python3.7/site-packages/sqlalchemy/orm/mapper.py\u001b[0m in \u001b[0;36m_with_polymorphic_mappers\u001b[0;34m(self)\u001b[0m\n\u001b[1;32m   2110\u001b[0m     \u001b[0;32mdef\u001b[0m \u001b[0m_with_polymorphic_mappers\u001b[0m\u001b[0;34m(\u001b[0m\u001b[0mself\u001b[0m\u001b[0;34m)\u001b[0m\u001b[0;34m:\u001b[0m\u001b[0;34m\u001b[0m\u001b[0;34m\u001b[0m\u001b[0m\n\u001b[1;32m   2111\u001b[0m         \u001b[0;32mif\u001b[0m \u001b[0mMapper\u001b[0m\u001b[0;34m.\u001b[0m\u001b[0m_new_mappers\u001b[0m\u001b[0;34m:\u001b[0m\u001b[0;34m\u001b[0m\u001b[0;34m\u001b[0m\u001b[0m\n\u001b[0;32m-> 2112\u001b[0;31m             \u001b[0mconfigure_mappers\u001b[0m\u001b[0;34m(\u001b[0m\u001b[0;34m)\u001b[0m\u001b[0;34m\u001b[0m\u001b[0;34m\u001b[0m\u001b[0m\n\u001b[0m\u001b[1;32m   2113\u001b[0m         \u001b[0;32mif\u001b[0m \u001b[0;32mnot\u001b[0m \u001b[0mself\u001b[0m\u001b[0;34m.\u001b[0m\u001b[0mwith_polymorphic\u001b[0m\u001b[0;34m:\u001b[0m\u001b[0;34m\u001b[0m\u001b[0;34m\u001b[0m\u001b[0m\n\u001b[1;32m   2114\u001b[0m             \u001b[0;32mreturn\u001b[0m \u001b[0;34m[\u001b[0m\u001b[0;34m]\u001b[0m\u001b[0;34m\u001b[0m\u001b[0;34m\u001b[0m\u001b[0m\n",
      "\u001b[0;32m~/sw/miniconda3/envs/ticclat2/lib/python3.7/site-packages/sqlalchemy/orm/mapper.py\u001b[0m in \u001b[0;36mconfigure_mappers\u001b[0;34m()\u001b[0m\n\u001b[1;32m   3189\u001b[0m                     )\n\u001b[1;32m   3190\u001b[0m                     \u001b[0me\u001b[0m\u001b[0;34m.\u001b[0m\u001b[0m_configure_failed\u001b[0m \u001b[0;34m=\u001b[0m \u001b[0mmapper\u001b[0m\u001b[0;34m.\u001b[0m\u001b[0m_configure_failed\u001b[0m\u001b[0;34m\u001b[0m\u001b[0;34m\u001b[0m\u001b[0m\n\u001b[0;32m-> 3191\u001b[0;31m                     \u001b[0;32mraise\u001b[0m \u001b[0me\u001b[0m\u001b[0;34m\u001b[0m\u001b[0;34m\u001b[0m\u001b[0m\n\u001b[0m\u001b[1;32m   3192\u001b[0m                 \u001b[0;32mif\u001b[0m \u001b[0;32mnot\u001b[0m \u001b[0mmapper\u001b[0m\u001b[0;34m.\u001b[0m\u001b[0mconfigured\u001b[0m\u001b[0;34m:\u001b[0m\u001b[0;34m\u001b[0m\u001b[0;34m\u001b[0m\u001b[0m\n\u001b[1;32m   3193\u001b[0m                     \u001b[0;32mtry\u001b[0m\u001b[0;34m:\u001b[0m\u001b[0;34m\u001b[0m\u001b[0;34m\u001b[0m\u001b[0m\n",
      "\u001b[0;31mInvalidRequestError\u001b[0m: One or more mappers failed to initialize - can't proceed with initialization of other mappers. Triggering mapper: 'Mapper|WordformLink|wordform_links'. Original exception was: Could not determine join condition between parent/child tables on relationship WordformLink.wordform_1 - there are multiple foreign key paths linking the tables.  Specify the 'foreign_keys' argument, providing a list of those columns which should be counted as containing a foreign key reference to the parent table."
     ]
    }
   ],
   "source": [
    "with ticclat.dbutils.session_scope(Session) as session:\n",
    "    for ix, row in link_clean_df.iterrows():\n",
    "        w1 = session.query(ticclat.ticclat_schema.Wordform).filter_by(wordform=row[\"wordform_1\"]).one()\n",
    "        w2 = session.query(ticclat.ticclat_schema.Wordform).filter_by(wordform=row[\"wordform_2\"]).one()\n",
    "        w1.links.append(w2)\n",
    "        print(w1.links)\n",
    "        if ix >= 10:\n",
    "            break"
   ]
  },
  {
   "cell_type": "code",
   "execution_count": 281,
   "metadata": {},
   "outputs": [
    {
     "ename": "AttributeError",
     "evalue": "'DataFrame' object has no attribute 'to_frame'",
     "output_type": "error",
     "traceback": [
      "\u001b[0;31m---------------------------------------------------------------------------\u001b[0m",
      "\u001b[0;31mAttributeError\u001b[0m                            Traceback (most recent call last)",
      "\u001b[0;32m<ipython-input-281-9047be2354b9>\u001b[0m in \u001b[0;36m<module>\u001b[0;34m\u001b[0m\n\u001b[1;32m      1\u001b[0m \u001b[0;32mwith\u001b[0m \u001b[0mticclat\u001b[0m\u001b[0;34m.\u001b[0m\u001b[0mdbutils\u001b[0m\u001b[0;34m.\u001b[0m\u001b[0msession_scope\u001b[0m\u001b[0;34m(\u001b[0m\u001b[0mSession\u001b[0m\u001b[0;34m)\u001b[0m \u001b[0;32mas\u001b[0m \u001b[0msession\u001b[0m\u001b[0;34m:\u001b[0m\u001b[0;34m\u001b[0m\u001b[0;34m\u001b[0m\u001b[0m\n\u001b[0;32m----> 2\u001b[0;31m     \u001b[0mticclat\u001b[0m\u001b[0;34m.\u001b[0m\u001b[0mdbutils\u001b[0m\u001b[0;34m.\u001b[0m\u001b[0madd_lexicon\u001b[0m\u001b[0;34m(\u001b[0m\u001b[0msession\u001b[0m\u001b[0;34m,\u001b[0m \u001b[0;34m\"Groene Boekje 1995\"\u001b[0m\u001b[0;34m,\u001b[0m \u001b[0mlink_clean_df\u001b[0m\u001b[0;34m.\u001b[0m\u001b[0mto_frame\u001b[0m\u001b[0;34m(\u001b[0m\u001b[0mname\u001b[0m\u001b[0;34m=\u001b[0m\u001b[0;34m'wordform'\u001b[0m\u001b[0;34m)\u001b[0m\u001b[0;34m)\u001b[0m\u001b[0;34m\u001b[0m\u001b[0;34m\u001b[0m\u001b[0m\n\u001b[0m",
      "\u001b[0;32m~/sw/miniconda3/envs/ticclat2/lib/python3.7/site-packages/pandas/core/generic.py\u001b[0m in \u001b[0;36m__getattr__\u001b[0;34m(self, name)\u001b[0m\n\u001b[1;32m   5065\u001b[0m             \u001b[0;32mif\u001b[0m \u001b[0mself\u001b[0m\u001b[0;34m.\u001b[0m\u001b[0m_info_axis\u001b[0m\u001b[0;34m.\u001b[0m\u001b[0m_can_hold_identifiers_and_holds_name\u001b[0m\u001b[0;34m(\u001b[0m\u001b[0mname\u001b[0m\u001b[0;34m)\u001b[0m\u001b[0;34m:\u001b[0m\u001b[0;34m\u001b[0m\u001b[0;34m\u001b[0m\u001b[0m\n\u001b[1;32m   5066\u001b[0m                 \u001b[0;32mreturn\u001b[0m \u001b[0mself\u001b[0m\u001b[0;34m[\u001b[0m\u001b[0mname\u001b[0m\u001b[0;34m]\u001b[0m\u001b[0;34m\u001b[0m\u001b[0;34m\u001b[0m\u001b[0m\n\u001b[0;32m-> 5067\u001b[0;31m             \u001b[0;32mreturn\u001b[0m \u001b[0mobject\u001b[0m\u001b[0;34m.\u001b[0m\u001b[0m__getattribute__\u001b[0m\u001b[0;34m(\u001b[0m\u001b[0mself\u001b[0m\u001b[0;34m,\u001b[0m \u001b[0mname\u001b[0m\u001b[0;34m)\u001b[0m\u001b[0;34m\u001b[0m\u001b[0;34m\u001b[0m\u001b[0m\n\u001b[0m\u001b[1;32m   5068\u001b[0m \u001b[0;34m\u001b[0m\u001b[0m\n\u001b[1;32m   5069\u001b[0m     \u001b[0;32mdef\u001b[0m \u001b[0m__setattr__\u001b[0m\u001b[0;34m(\u001b[0m\u001b[0mself\u001b[0m\u001b[0;34m,\u001b[0m \u001b[0mname\u001b[0m\u001b[0;34m,\u001b[0m \u001b[0mvalue\u001b[0m\u001b[0;34m)\u001b[0m\u001b[0;34m:\u001b[0m\u001b[0;34m\u001b[0m\u001b[0;34m\u001b[0m\u001b[0m\n",
      "\u001b[0;31mAttributeError\u001b[0m: 'DataFrame' object has no attribute 'to_frame'"
     ]
    }
   ],
   "source": [
    "with ticclat.dbutils.session_scope(Session) as session:\n",
    "    ticclat.dbutils.add_lexicon(session, \"Groene Boekje 1995\", link_clean_df.to_frame(name='wordform'))"
   ]
  },
  {
   "cell_type": "code",
   "execution_count": null,
   "metadata": {},
   "outputs": [],
   "source": []
  }
 ],
 "metadata": {
  "kernelspec": {
   "display_name": "Python 3",
   "language": "python",
   "name": "python3"
  },
  "language_info": {
   "codemirror_mode": {
    "name": "ipython",
    "version": 3
   },
   "file_extension": ".py",
   "mimetype": "text/x-python",
   "name": "python",
   "nbconvert_exporter": "python",
   "pygments_lexer": "ipython3",
   "version": "3.7.2"
  }
 },
 "nbformat": 4,
 "nbformat_minor": 2
}
