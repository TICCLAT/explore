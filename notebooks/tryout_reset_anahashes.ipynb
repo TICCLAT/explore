{
 "cells": [
  {
   "cell_type": "code",
   "execution_count": null,
   "metadata": {},
   "outputs": [],
   "source": [
    "from ticclat.ingest import run"
   ]
  },
  {
   "cell_type": "code",
   "execution_count": null,
   "metadata": {},
   "outputs": [],
   "source": [
    "import ticclat.ingest\n",
    "ticclat.ingest.__file__"
   ]
  },
  {
   "cell_type": "code",
   "execution_count": null,
   "metadata": {},
   "outputs": [],
   "source": [
    "run(ingest=False, reset_anahashes=True, tmpdir='/tmp',\n",
    "    alphabet_file='/Users/pbos/projects/ticclat/data/ponyland_mreynaert_TICCLAT/ALPH/nld.aspell.dict.clip20.lc.LD3.charconfus.clip20.lc.chars')"
   ]
  },
  {
   "cell_type": "markdown",
   "metadata": {},
   "source": [
    "```mysql\n",
    "mysql> select * from anahashes;\n",
    "+------------+-------------+\n",
    "| anahash_id | anahash     |\n",
    "+------------+-------------+\n",
    "|          4 | 67979407968 |\n",
    "+------------+-------------+\n",
    "1 row in set (0.00 sec)\n",
    "```"
   ]
  },
  {
   "cell_type": "code",
   "execution_count": null,
   "metadata": {},
   "outputs": [],
   "source": [
    "run(ingest=False, reset_anahashes=True, tmpdir='/tmp',\n",
    "    alphabet_file='/Users/pbos/projects/ticclat/data/nld.aspell.dict.lc.chars')"
   ]
  },
  {
   "cell_type": "markdown",
   "metadata": {},
   "source": [
    "```mysql\n",
    "mysql> select * from anahashes;\n",
    "+------------+-------------+\n",
    "| anahash_id | anahash     |\n",
    "+------------+-------------+\n",
    "|          5 | 65690238976 |\n",
    "+------------+-------------+\n",
    "1 row in set (0.00 sec)\n",
    "```"
   ]
  },
  {
   "cell_type": "code",
   "execution_count": null,
   "metadata": {},
   "outputs": [],
   "source": [
    "run(ingest=False, reset_anahashes=True, tmpdir='/tmp', anahash=False,\n",
    "    alphabet_file='/Users/pbos/projects/ticclat/data/ponyland_mreynaert_TICCLAT/ALPH/nld.aspell.dict.clip20.lc.LD3.charconfus.clip20.lc.chars')"
   ]
  },
  {
   "cell_type": "markdown",
   "metadata": {},
   "source": [
    "After that, you can check whether the delete step itself worked, e.g. it should be something like:\n",
    "\n",
    "```sql\n",
    "mysql> select * from anahashes;\n",
    "Empty set (0.00 sec)\n",
    "\n",
    "mysql> select * from wordforms;\n",
    "+-------------+----------+------------+--------------------+\n",
    "| wordform_id | wordform | anahash_id | wordform_lowercase |\n",
    "+-------------+----------+------------+--------------------+\n",
    "|           1 | wf1      |       NULL | wf1                |\n",
    "|           2 | wf2      |       NULL | wf2                |\n",
    "|           3 | wf3      |       NULL | wf3                |\n",
    "|           4 | wf4      |       NULL | wf4                |\n",
    "|           5 | wf5      |       NULL | wf5                |\n",
    "|           6 | wf6      |       NULL | wf6                |\n",
    "+-------------+----------+------------+--------------------+\n",
    "6 rows in set (0.00 sec)\n",
    "```"
   ]
  },
  {
   "cell_type": "code",
   "execution_count": null,
   "metadata": {},
   "outputs": [],
   "source": []
  }
 ],
 "metadata": {
  "language_info": {
   "name": "python",
   "pygments_lexer": "ipython3"
  }
 },
 "nbformat": 4,
 "nbformat_minor": 2
}
