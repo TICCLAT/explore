{
 "cells": [
  {
   "cell_type": "code",
   "execution_count": null,
   "metadata": {},
   "outputs": [],
   "source": [
    "%load_ext autoreload\n",
    "%autoreload 2"
   ]
  },
  {
   "cell_type": "code",
   "execution_count": null,
   "metadata": {},
   "outputs": [],
   "source": [
    "%matplotlib inline\n",
    "\n",
    "import numpy as np\n",
    "import pandas as pd\n",
    "import matplotlib.pyplot as plt\n",
    "\n",
    "from tqdm import tqdm_notebook as tqdm"
   ]
  },
  {
   "cell_type": "code",
   "execution_count": null,
   "metadata": {},
   "outputs": [],
   "source": [
    "import logging\n",
    "\n",
    "logging.basicConfig(format=\"%(asctime)s [%(process)d] %(levelname)-8s \"\n",
    "                    \"%(name)s,%(lineno)s\\t%(message)s\")\n",
    "logging.getLogger().setLevel('INFO')"
   ]
  },
  {
   "cell_type": "code",
   "execution_count": null,
   "metadata": {},
   "outputs": [],
   "source": [
    "# Read information to connect to the database and put it in environment variables\n",
    "import os\n",
    "with open('ENVVARS.txt') as f:\n",
    "    for line in f:\n",
    "        parts = line.split('=')\n",
    "        if len(parts) == 2:\n",
    "            os.environ[parts[0]] = parts[1].strip()\n",
    "            \n",
    "os.environ['lexicon_name'] = os.environ['dbname']"
   ]
  },
  {
   "cell_type": "code",
   "execution_count": null,
   "metadata": {},
   "outputs": [],
   "source": [
    "db_name = 'ticclat_test'\n",
    "os.environ['dbname'] = db_name"
   ]
  },
  {
   "cell_type": "code",
   "execution_count": null,
   "metadata": {},
   "outputs": [],
   "source": [
    "from ticclat.ticclat_schema import Lexicon, Wordform, Anahash\n",
    "\n",
    "from ticclat.dbutils import get_session, session_scope\n",
    "\n",
    "Session = get_session(os.environ['user'], os.environ['password'], os.environ['dbname'])"
   ]
  },
  {
   "cell_type": "code",
   "execution_count": null,
   "metadata": {},
   "outputs": [],
   "source": [
    "# get variants of input word\n",
    "from sqlalchemy import select, text\n",
    "from sqlalchemy.sql import func, distinct, and_, desc\n",
    "\n",
    "from ticclat.ticclat_schema import MorphologicalParadigm\n",
    "\n",
    "word = 'wenkbrauw'\n",
    "\n",
    "with session_scope(Session) as session:\n",
    "    q = select([Wordform.wordform_id, MorphologicalParadigm.Z, MorphologicalParadigm.Y, MorphologicalParadigm.X, MorphologicalParadigm.W]).select_from(MorphologicalParadigm.__table__.join(Wordform)).where(Wordform.wordform == word)\n",
    "    r = session.execute(q).fetchone()\n",
    "    print(r)\n",
    "    #wf_id = r[0]\n",
    "    q = select([Wordform, \n",
    "                MorphologicalParadigm]).select_from(MorphologicalParadigm.__table__.join(Wordform)).where(and_(MorphologicalParadigm.Z == r.Z,\n",
    "                                                                                                  MorphologicalParadigm.Y == r.Y,\n",
    "                                                                                                  MorphologicalParadigm.X == r.X,\n",
    "                                                                                                  MorphologicalParadigm.W == r.W))\n",
    "    r = session.execute(q).fetchall()\n",
    "    for row in r:\n",
    "        print(row)"
   ]
  },
  {
   "cell_type": "code",
   "execution_count": null,
   "metadata": {},
   "outputs": [],
   "source": [
    "# get time spans of corpora\n",
    "from ticclat.ticclat_schema import MorphologicalParadigm, corpusId_x_documentId, Corpus, Document\n",
    "\n",
    "with session_scope(Session) as session:\n",
    "    q = select([Corpus.name]).select_from(corpusId_x_documentId.join(Document).join(Corpus))\n",
    "    r = session.execute(q).fetchall()\n",
    "    for row in r:\n",
    "        print(row)"
   ]
  }
 ],
 "metadata": {
  "language_info": {
   "name": "python",
   "pygments_lexer": "ipython3"
  }
 },
 "nbformat": 4,
 "nbformat_minor": 2
}
