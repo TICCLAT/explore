{
 "cells": [
  {
   "cell_type": "code",
   "execution_count": null,
   "metadata": {},
   "outputs": [],
   "source": [
    "%load_ext autoreload\n",
    "%autoreload 2"
   ]
  },
  {
   "cell_type": "code",
   "execution_count": null,
   "metadata": {},
   "outputs": [],
   "source": [
    "import logging\n",
    "\n",
    "logging.basicConfig(format=\"%(asctime)s [%(process)d] %(levelname)-8s \"\n",
    "                    \"%(name)s,%(lineno)s\\t%(message)s\")\n",
    "logging.getLogger().setLevel('INFO')"
   ]
  },
  {
   "cell_type": "code",
   "execution_count": null,
   "metadata": {},
   "outputs": [],
   "source": [
    "%matplotlib inline\n",
    "\n",
    "import numpy as np\n",
    "import pandas as pd\n",
    "import matplotlib.pyplot as plt\n",
    "\n",
    "\n",
    "from tqdm import tqdm_notebook as tqdm"
   ]
  },
  {
   "cell_type": "code",
   "execution_count": null,
   "metadata": {},
   "outputs": [],
   "source": [
    "# Read information to connect to the database and put it in environment variables\n",
    "import os\n",
    "with open('ENVVARS.txt') as f:\n",
    "    for line in f:\n",
    "        parts = line.split('=')\n",
    "        if len(parts) == 2:\n",
    "            os.environ[parts[0]] = parts[1].strip()"
   ]
  },
  {
   "cell_type": "code",
   "execution_count": null,
   "metadata": {},
   "outputs": [],
   "source": [
    "db_name = 'ticclat'\n",
    "# db_name = 'ticclat_test'\n",
    "os.environ['dbname'] = db_name"
   ]
  },
  {
   "cell_type": "code",
   "execution_count": null,
   "metadata": {},
   "outputs": [],
   "source": [
    "from ticclat.ticclat_schema import Lexicon, Wordform, Anahash, Document, Corpus, WordformLink, WordformLinkSource, lexical_source_wordform, TextAttestation\n",
    "\n",
    "from ticclat.dbutils import get_session, session_scope\n",
    "\n",
    "Session = get_session(os.environ['user'], os.environ['password'], os.environ['dbname'])"
   ]
  },
  {
   "cell_type": "code",
   "execution_count": null,
   "metadata": {},
   "outputs": [],
   "source": [
    "with session_scope(Session) as session:\n",
    "    print(session.get_bind())"
   ]
  },
  {
   "cell_type": "code",
   "execution_count": null,
   "metadata": {},
   "outputs": [],
   "source": [
    "from sqlalchemy import Table, Column, BigInteger, Integer, Unicode\n",
    "from sqlalchemy import select\n",
    "from sqlalchemy import text\n",
    "from sqlalchemy.sql import func, desc, and_\n",
    "\n",
    "from sqlalchemy_views import CreateView\n",
    "\n",
    "from ticclat.ticclat_schema import Base\n",
    "\n",
    "class wordform_frequencies(Base):\n",
    "    __tablename__ = 'wordform_frequency'\n",
    "    \n",
    "    wf_id = Column(BigInteger().with_variant(Integer, 'sqlite'), primary_key=True)\n",
    "    wordform_id = Column(BigInteger().with_variant(Integer, 'sqlite'))\n",
    "    wordform = Column(Unicode(255, convert_unicode=False), index=True)\n",
    "    frequency = Column(BigInteger())\n",
    "\n",
    "with session_scope(Session) as session:\n",
    "    Base.metadata.create_all(session.get_bind())"
   ]
  },
  {
   "cell_type": "code",
   "execution_count": null,
   "metadata": {},
   "outputs": [],
   "source": [
    "%%time\n",
    "\n",
    "from ticclat.sacoreutils import sql_insert\n",
    "\n",
    "def iterate_results(result):\n",
    "    for row in tqdm(result.fetchall()):\n",
    "        yield {'wordform': row.wordform, 'wordform_id': row.wordform_id, 'frequency': row.freq}\n",
    "\n",
    "with session_scope(Session) as session:\n",
    "    q = select([Wordform, func.sum(TextAttestation.frequency).label('freq')]).select_from(Wordform.__table__.join(TextAttestation)).group_by(Wordform.wordform_id)\n",
    "    #q = select([Wordform, Lexicon.lexicon_name]).select_from(lexical_source_wordform.join(Wordform).join(Lexicon))\n",
    "    r = session.execute(q)\n",
    "    sql_insert(session, wordform_frequencies, iterate_results(r))"
   ]
  },
  {
   "cell_type": "code",
   "execution_count": null,
   "metadata": {},
   "outputs": [],
   "source": [
    "%%time\n",
    "\n",
    "from ticclat.dbutils import create_wf_frequencies_table\n",
    "\n",
    "with session_scope(Session) as session:\n",
    "    create_word_frequencies_table(session)"
   ]
  },
  {
   "cell_type": "code",
   "execution_count": null,
   "metadata": {},
   "outputs": [],
   "source": []
  }
 ],
 "metadata": {
  "language_info": {
   "name": "python",
   "pygments_lexer": "ipython3"
  }
 },
 "nbformat": 4,
 "nbformat_minor": 2
}
