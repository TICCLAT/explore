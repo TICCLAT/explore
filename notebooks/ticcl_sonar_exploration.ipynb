{
 "cells": [
  {
   "cell_type": "markdown",
   "metadata": {},
   "source": [
    "Let's see what we can do with my first TICCL runs! Done on 4 SoNaR subcorpora:\n",
    "\n",
    "1. Newspapers\n",
    "2. Periodicals/magazines\n",
    "3. Websites\n",
    "4. Wikipedia\n",
    "\n",
    "Using two pipelines: with indexer and with indexerNT.\n",
    "\n",
    "In this notebook we'll focus on the indexer (non-NT) data.\n",
    "\n",
    "First step: load the data and get it in a format we can work with. Let's do that with `pandas`."
   ]
  },
  {
   "cell_type": "code",
   "execution_count": 1,
   "metadata": {},
   "outputs": [],
   "source": [
    "%matplotlib inline"
   ]
  },
  {
   "cell_type": "code",
   "execution_count": 2,
   "metadata": {},
   "outputs": [
    {
     "name": "stderr",
     "output_type": "stream",
     "text": [
      "/Users/pbos/sw/miniconda3/envs/ticclat/lib/python3.6/importlib/_bootstrap.py:219: RuntimeWarning: numpy.dtype size changed, may indicate binary incompatibility. Expected 96, got 88\n",
      "  return f(*args, **kwds)\n"
     ]
    }
   ],
   "source": [
    "import pandas as pd\n",
    "import functools  # lru_cache\n",
    "import matplotlib.pyplot as plt\n",
    "import numpy as np\n",
    "import scipy.optimize as scop\n",
    "import csv\n",
    "import seaborn as sns\n",
    "import corner"
   ]
  },
  {
   "cell_type": "code",
   "execution_count": 3,
   "metadata": {},
   "outputs": [],
   "source": [
    "class Corpus():\n",
    "    \"\"\"\n",
    "    For a bit of order and structure, let's make this dummy class,\n",
    "    which may be extended later if necessary.\n",
    "    \"\"\"\n",
    "    pass"
   ]
  },
  {
   "cell_type": "code",
   "execution_count": 4,
   "metadata": {},
   "outputs": [],
   "source": [
    "websites = Corpus()"
   ]
  },
  {
   "cell_type": "markdown",
   "metadata": {},
   "source": [
    "# Freq\n",
    "_Computed with `FoLia-stats`, but in this case they were already provided._"
   ]
  },
  {
   "cell_type": "code",
   "execution_count": 5,
   "metadata": {},
   "outputs": [],
   "source": [
    "websites.freq = pd.read_csv('sonar_ticcl/WR-P-E-I_web_sites.wordfreqlist.tsv', sep='\\t', names=['word', 'number', 'other_number', 'decimal_number'])"
   ]
  },
  {
   "cell_type": "code",
   "execution_count": 6,
   "metadata": {},
   "outputs": [],
   "source": [
    "# websites.freq"
   ]
  },
  {
   "cell_type": "markdown",
   "metadata": {},
   "source": [
    "What are the columns really? Perhaps the decimal number is the (cumulative) percentage of that word in the total corpus?"
   ]
  },
  {
   "cell_type": "code",
   "execution_count": 7,
   "metadata": {},
   "outputs": [],
   "source": [
    "# (websites.freq.number/websites.freq.number.sum()).cumsum()"
   ]
  },
  {
   "cell_type": "markdown",
   "metadata": {},
   "source": [
    "No, that doesn't really fit at all... The third column may be a running sum of the first one..."
   ]
  },
  {
   "cell_type": "code",
   "execution_count": 8,
   "metadata": {},
   "outputs": [],
   "source": [
    "# websites.freq.number.cumsum() == websites.freq.other_number"
   ]
  },
  {
   "cell_type": "markdown",
   "metadata": {},
   "source": [
    "Ok, that seems to be close...\n",
    "\n",
    "# Clean\n",
    "\n",
    "_Computed with `TICCL-unk`_\n",
    "\n",
    "Anyway, it doesn't seem to be used by TICCL. In the clean files, we only see the first column being used as frequency/count, but with the added artifrq added to it in case of words in the lexicon:"
   ]
  },
  {
   "cell_type": "code",
   "execution_count": 9,
   "metadata": {},
   "outputs": [],
   "source": [
    "websites.clean = pd.read_csv('sonar_ticcl/WR-P-E-I_web_sites.wordfreqlist.tsv.clean', sep='\\t', names=['word', 'counts'])"
   ]
  },
  {
   "cell_type": "code",
   "execution_count": 10,
   "metadata": {},
   "outputs": [
    {
     "data": {
      "text/plain": [
       "1099151"
      ]
     },
     "execution_count": 10,
     "metadata": {},
     "output_type": "execute_result"
    }
   ],
   "source": [
    "# websites.clean\n",
    "len(websites.clean)"
   ]
  },
  {
   "cell_type": "markdown",
   "metadata": {},
   "source": [
    "So this list is a LOT longer than the original one. I guess a lot of lexicon words were added. Those should have count exactly 1000000000..."
   ]
  },
  {
   "cell_type": "code",
   "execution_count": 11,
   "metadata": {},
   "outputs": [
    {
     "data": {
      "text/plain": [
       "(1015180, 11811)"
      ]
     },
     "execution_count": 11,
     "metadata": {},
     "output_type": "execute_result"
    }
   ],
   "source": [
    "sum(websites.clean.counts == 100000000), len(websites.clean) - (sum(websites.clean.counts == 100000000) + len(websites.freq))"
   ]
  },
  {
   "cell_type": "markdown",
   "metadata": {},
   "source": [
    "Right, so 11811 \"words\" out of 72160 were filtered out by clean and 1015180 were added from the lexicon.\n",
    "\n",
    "The punct file should contain punctuation \"corrected\" words and the unk file should contain \"unknown\" words. Not sure what that meant anymore..."
   ]
  },
  {
   "cell_type": "markdown",
   "metadata": {},
   "source": [
    "NO, THERE'S ALSO OVERLAP"
   ]
  },
  {
   "cell_type": "code",
   "execution_count": 12,
   "metadata": {},
   "outputs": [],
   "source": [
    "websites.punct = pd.read_csv('sonar_ticcl/WR-P-E-I_web_sites.wordfreqlist.tsv.punct', sep='\\t', names=['word', 'correction'])"
   ]
  },
  {
   "cell_type": "code",
   "execution_count": 13,
   "metadata": {},
   "outputs": [
    {
     "data": {
      "text/plain": [
       "791"
      ]
     },
     "execution_count": 13,
     "metadata": {},
     "output_type": "execute_result"
    }
   ],
   "source": [
    "len(websites.punct)"
   ]
  },
  {
   "cell_type": "code",
   "execution_count": 14,
   "metadata": {},
   "outputs": [],
   "source": [
    "# websites.punct"
   ]
  },
  {
   "cell_type": "code",
   "execution_count": 15,
   "metadata": {},
   "outputs": [],
   "source": [
    "websites.unk = pd.read_csv('sonar_ticcl/WR-P-E-I_web_sites.wordfreqlist.tsv.unk', sep='\\t', names=['word', 'counts'])"
   ]
  },
  {
   "cell_type": "code",
   "execution_count": 16,
   "metadata": {},
   "outputs": [
    {
     "data": {
      "text/plain": [
       "35"
      ]
     },
     "execution_count": 16,
     "metadata": {},
     "output_type": "execute_result"
    }
   ],
   "source": [
    "len(websites.unk)"
   ]
  },
  {
   "cell_type": "code",
   "execution_count": 17,
   "metadata": {},
   "outputs": [],
   "source": [
    "# websites.unk"
   ]
  },
  {
   "cell_type": "markdown",
   "metadata": {},
   "source": [
    "Most filtered out words are not saved anywhere, it seems."
   ]
  },
  {
   "cell_type": "code",
   "execution_count": 18,
   "metadata": {},
   "outputs": [
    {
     "data": {
      "text/plain": [
       "False"
      ]
     },
     "execution_count": 18,
     "metadata": {},
     "output_type": "execute_result"
    }
   ],
   "source": [
    "\"Nino')Vieira\" in websites.clean.word"
   ]
  },
  {
   "cell_type": "markdown",
   "metadata": {},
   "source": [
    "So what words does punct contain then? The ones that even after trimming punctuation were not found to be clean? Even adding those we still have about 11k words unaccounted for, so indeed most cleaned-out words are gone.\n",
    "\n",
    "Anyway...\n",
    "## Nice plot time"
   ]
  },
  {
   "cell_type": "code",
   "execution_count": 19,
   "metadata": {},
   "outputs": [
    {
     "data": {
      "text/plain": [
       "<matplotlib.axes._subplots.AxesSubplot at 0x1a1692b6d8>"
      ]
     },
     "execution_count": 19,
     "metadata": {},
     "output_type": "execute_result"
    },
    {
     "data": {
      "image/png": "[encoded data removed]",
      "text/plain": [
       "<Figure size 432x288 with 1 Axes>"
      ]
     },
     "metadata": {},
     "output_type": "display_data"
    }
   ],
   "source": [
    "websites.clean.plot(logy=True)"
   ]
  },
  {
   "cell_type": "markdown",
   "metadata": {},
   "source": [
    "Right, that doesn't work because of artifrq. Let's correct for that:"
   ]
  },
  {
   "cell_type": "code",
   "execution_count": 20,
   "metadata": {},
   "outputs": [
    {
     "name": "stderr",
     "output_type": "stream",
     "text": [
      "/Users/pbos/sw/miniconda3/envs/ticclat/lib/python3.6/site-packages/ipykernel_launcher.py:1: FutureWarning: The broadcast argument is deprecated and will be removed in a future version. You can specify result_type='broadcast' to broadcast the result to the original dimensions\n",
      "  \"\"\"Entry point for launching an IPython kernel.\n"
     ]
    },
    {
     "data": {
      "text/html": [
       "<div>\n",
       "<style scoped>\n",
       "    .dataframe tbody tr th:only-of-type {\n",
       "        vertical-align: middle;\n",
       "    }\n",
       "\n",
       "    .dataframe tbody tr th {\n",
       "        vertical-align: top;\n",
       "    }\n",
       "\n",
       "    .dataframe thead th {\n",
       "        text-align: right;\n",
       "    }\n",
       "</style>\n",
       "<table border=\"1\" class=\"dataframe\">\n",
       "  <thead>\n",
       "    <tr style=\"text-align: right;\">\n",
       "      <th></th>\n",
       "      <th>word</th>\n",
       "      <th>counts</th>\n",
       "    </tr>\n",
       "  </thead>\n",
       "  <tbody>\n",
       "    <tr>\n",
       "      <th>0</th>\n",
       "      <td>de</td>\n",
       "      <td>100168251</td>\n",
       "    </tr>\n",
       "    <tr>\n",
       "      <th>1</th>\n",
       "      <td>van</td>\n",
       "      <td>100115806</td>\n",
       "    </tr>\n",
       "    <tr>\n",
       "      <th>2</th>\n",
       "      <td>het</td>\n",
       "      <td>100075171</td>\n",
       "    </tr>\n",
       "    <tr>\n",
       "      <th>3</th>\n",
       "      <td>en</td>\n",
       "      <td>100074895</td>\n",
       "    </tr>\n",
       "    <tr>\n",
       "      <th>4</th>\n",
       "      <td>een</td>\n",
       "      <td>100064640</td>\n",
       "    </tr>\n",
       "    <tr>\n",
       "      <th>5</th>\n",
       "      <td>in</td>\n",
       "      <td>100061126</td>\n",
       "    </tr>\n",
       "    <tr>\n",
       "      <th>6</th>\n",
       "      <td>op</td>\n",
       "      <td>100030138</td>\n",
       "    </tr>\n",
       "    <tr>\n",
       "      <th>7</th>\n",
       "      <td>is</td>\n",
       "      <td>100030067</td>\n",
       "    </tr>\n",
       "    <tr>\n",
       "      <th>8</th>\n",
       "      <td>met</td>\n",
       "      <td>100029293</td>\n",
       "    </tr>\n",
       "    <tr>\n",
       "      <th>9</th>\n",
       "      <td>voor</td>\n",
       "      <td>100028476</td>\n",
       "    </tr>\n",
       "  </tbody>\n",
       "</table>\n",
       "</div>"
      ],
      "text/plain": [
       "   word     counts\n",
       "0    de  100168251\n",
       "1   van  100115806\n",
       "2   het  100075171\n",
       "3    en  100074895\n",
       "4   een  100064640\n",
       "5    in  100061126\n",
       "6    op  100030138\n",
       "7    is  100030067\n",
       "8   met  100029293\n",
       "9  voor  100028476"
      ]
     },
     "execution_count": 20,
     "metadata": {},
     "output_type": "execute_result"
    }
   ],
   "source": [
    "websites.clean[:10].apply(lambda x: (x['word'], x.counts), axis=1, broadcast=True)"
   ]
  },
  {
   "cell_type": "code",
   "execution_count": 21,
   "metadata": {},
   "outputs": [],
   "source": [
    "# THIS IS SOOOO SLOOOOW!\n",
    "# websites.clean_no_artifrq = websites.clean.apply(lambda x: (x['word'], x['counts']-100000000 if x['counts']>=100000000 else x['counts']), axis=1, broadcast=True)\n",
    "# better:\n",
    "websites.clean_no_artifrq = websites.clean[['word', 'counts']].copy()\n",
    "websites.clean_no_artifrq.loc[websites.clean_no_artifrq['counts'] >= 100000000, 'counts'] -= 100000000"
   ]
  },
  {
   "cell_type": "code",
   "execution_count": 22,
   "metadata": {},
   "outputs": [
    {
     "data": {
      "text/plain": [
       "<matplotlib.axes._subplots.AxesSubplot at 0x1a17c6ce80>"
      ]
     },
     "execution_count": 22,
     "metadata": {},
     "output_type": "execute_result"
    },
    {
     "data": {
      "image/png": "[encoded data removed]",
      "text/plain": [
       "<Figure size 432x288 with 1 Axes>"
      ]
     },
     "metadata": {},
     "output_type": "display_data"
    }
   ],
   "source": [
    "websites.clean_no_artifrq.plot(logx=True, logy=True)"
   ]
  },
  {
   "cell_type": "markdown",
   "metadata": {},
   "source": [
    "Let's see if we can compare that / fit to a Zipf curve."
   ]
  },
  {
   "cell_type": "code",
   "execution_count": 23,
   "metadata": {},
   "outputs": [],
   "source": [
    "@functools.lru_cache(maxsize=10)\n",
    "def zipf_normalization(N, s):\n",
    "    return sum(1 / np.arange(1, N + 1)**s)\n",
    "\n",
    "\n",
    "def zipf_from_ranks(ranks, *, s=1):\n",
    "    return 1/ranks**s / zipf_normalization(len(ranks), s)\n",
    "\n",
    "\n",
    "def zipf(N, *, s=1):\n",
    "    ranks = np.arange(1, N + 1)\n",
    "    return zipf_from_ranks(ranks, s=s)\n",
    "\n",
    "\n",
    "def zipf_mandelbrot(N, *, q=0, s=1):\n",
    "    ranks_plus_q = np.arange(1, N + 1) + q\n",
    "    return zipf_from_ranks(ranks_plus_q, s=s)"
   ]
  },
  {
   "cell_type": "markdown",
   "metadata": {},
   "source": [
    "Remarkably good fit with no parameter tweaking at all!\n",
    "\n",
    "Actually, it makes sense to have an index starting from 1 here, to make plotting in log-log nicer."
   ]
  },
  {
   "cell_type": "code",
   "execution_count": 24,
   "metadata": {},
   "outputs": [],
   "source": [
    "websites.clean_no_artifrq.index += 1"
   ]
  },
  {
   "cell_type": "code",
   "execution_count": 25,
   "metadata": {},
   "outputs": [
    {
     "data": {
      "text/plain": [
       "<matplotlib.legend.Legend at 0x1a17053a20>"
      ]
     },
     "execution_count": 25,
     "metadata": {},
     "output_type": "execute_result"
    },
    {
     "data": {
      "image/png": "[encoded data removed]",
      "text/plain": [
       "<Figure size 432x288 with 1 Axes>"
      ]
     },
     "metadata": {},
     "output_type": "display_data"
    }
   ],
   "source": [
    "fig, ax = plt.subplots(1, 1)\n",
    "websites.clean_no_artifrq.plot(logx=True, logy=True, ax=ax, legend=False)\n",
    "N = len(websites.clean_no_artifrq)\n",
    "ax.plot(np.arange(1, N + 1), websites.clean_no_artifrq.counts.sum() * zipf_mandelbrot(N),\n",
    "       label='zipf-mandelbrot')\n",
    "ax.legend()"
   ]
  },
  {
   "cell_type": "markdown",
   "metadata": {},
   "source": [
    "What about the fraction?"
   ]
  },
  {
   "cell_type": "code",
   "execution_count": 26,
   "metadata": {},
   "outputs": [
    {
     "data": {
      "text/plain": [
       "(-1, 1)"
      ]
     },
     "execution_count": 26,
     "metadata": {},
     "output_type": "execute_result"
    },
    {
     "data": {
      "image/png": "[encoded data removed]",
      "text/plain": [
       "<Figure size 432x288 with 1 Axes>"
      ]
     },
     "metadata": {},
     "output_type": "display_data"
    }
   ],
   "source": [
    "plt.semilogx(1 - websites.clean_no_artifrq.counts/(websites.clean_no_artifrq.counts.sum() * zipf_mandelbrot(N)))\n",
    "plt.ylim(-1, 1)"
   ]
  },
  {
   "cell_type": "markdown",
   "metadata": {},
   "source": [
    "And the KL-divergence (in **bits**, i.e. using `log2`) of the data compared to the theoretical Zipf-curve?"
   ]
  },
  {
   "cell_type": "code",
   "execution_count": 27,
   "metadata": {},
   "outputs": [],
   "source": [
    "def KLdiv(data, model):\n",
    "    data_masked = np.ma.masked_array(data, mask=data <= 0)\n",
    "    return -np.sum((data_masked * np.log2(model / data_masked)))"
   ]
  },
  {
   "cell_type": "code",
   "execution_count": 28,
   "metadata": {},
   "outputs": [
    {
     "data": {
      "text/plain": [
       "0.5616274651006208"
      ]
     },
     "execution_count": 28,
     "metadata": {},
     "output_type": "execute_result"
    }
   ],
   "source": [
    "KLdiv(websites.clean_no_artifrq.counts/websites.clean_no_artifrq.counts.sum(), zipf_mandelbrot(N))"
   ]
  },
  {
   "cell_type": "markdown",
   "metadata": {},
   "source": [
    "0.5 bits, is that good? Should compare to the entropy of the data:"
   ]
  },
  {
   "cell_type": "code",
   "execution_count": 29,
   "metadata": {},
   "outputs": [],
   "source": [
    "def entropy(p):\n",
    "    return -np.sum(p * np.log2(p))"
   ]
  },
  {
   "cell_type": "code",
   "execution_count": 30,
   "metadata": {},
   "outputs": [
    {
     "name": "stderr",
     "output_type": "stream",
     "text": [
      "/Users/pbos/sw/miniconda3/envs/ticclat/lib/python3.6/site-packages/ipykernel_launcher.py:2: RuntimeWarning: divide by zero encountered in log2\n",
      "  \n"
     ]
    },
    {
     "data": {
      "text/plain": [
       "10.738007343684355"
      ]
     },
     "execution_count": 30,
     "metadata": {},
     "output_type": "execute_result"
    }
   ],
   "source": [
    "entropy(websites.clean_no_artifrq.counts/websites.clean_no_artifrq.counts.sum())"
   ]
  },
  {
   "cell_type": "markdown",
   "metadata": {},
   "source": [
    "So, only 5% information is lost in the Zipf-approximation of the data, i.e. you need about 5% more bits to encode the \"true\" distribution (the observed data, the counts) compared to an optimal encoding based on a Zipf-curve. This seems pretty good to me.\n",
    "\n",
    "In principle, you could try to fit the parameters on a minimum KLdiv. Let's try, why not."
   ]
  },
  {
   "cell_type": "code",
   "execution_count": 31,
   "metadata": {},
   "outputs": [
    {
     "data": {
      "text/plain": [
       "      fun: 0.4652068612319095\n",
       " hess_inv: <2x2 LbfgsInvHessProduct with dtype=float64>\n",
       "      jac: array([ 1.96376176e-01, -7.00550729e-06])\n",
       "  message: b'CONVERGENCE: NORM_OF_PROJECTED_GRADIENT_<=_PGTOL'\n",
       "     nfev: 21\n",
       "      nit: 5\n",
       "   status: 0\n",
       "  success: True\n",
       "        x: array([0.        , 1.08957528])"
      ]
     },
     "execution_count": 31,
     "metadata": {},
     "output_type": "execute_result"
    }
   ],
   "source": [
    "scop.minimize(lambda parameter_array: KLdiv(websites.clean_no_artifrq.counts/websites.clean_no_artifrq.counts.sum(), zipf_mandelbrot(N, q=parameter_array[0], s=parameter_array[1])),\n",
    "              x0=[0, 1], bounds=[(0, None), (0, None)])"
   ]
  },
  {
   "cell_type": "markdown",
   "metadata": {},
   "source": [
    "Ok, nice, `q` indeed stays at zero, `s` is only a bit higher than 1 and the KL-divergence is only very slightly lower. So indeed, the \"default\" Zipf curve with power 1 is a very good fit already."
   ]
  },
  {
   "cell_type": "code",
   "execution_count": 32,
   "metadata": {},
   "outputs": [
    {
     "data": {
      "text/plain": [
       "<matplotlib.legend.Legend at 0x1a1ae2b2b0>"
      ]
     },
     "execution_count": 32,
     "metadata": {},
     "output_type": "execute_result"
    },
    {
     "data": {
      "image/png": "[encoded data removed]",
      "text/plain": [
       "<Figure size 432x288 with 1 Axes>"
      ]
     },
     "metadata": {},
     "output_type": "display_data"
    }
   ],
   "source": [
    "fig, ax = plt.subplots(1, 1)\n",
    "websites.clean_no_artifrq.plot(logx=True, logy=True, ax=ax, legend=False)\n",
    "N = len(websites.clean_no_artifrq)\n",
    "ax.plot(np.arange(1, N + 1), websites.clean_no_artifrq.counts.sum() * zipf_mandelbrot(N, q=0, s=1.08957528),\n",
    "       label='zipf-mandelbrot')\n",
    "ax.legend()"
   ]
  },
  {
   "cell_type": "markdown",
   "metadata": {},
   "source": [
    "Yeah, that looks slightly better by eye, but nothing amazing."
   ]
  },
  {
   "cell_type": "markdown",
   "metadata": {},
   "source": [
    "# Back to data loading\n",
    "\n",
    "Still have a few things to load: anahash, confuslist.index, short.ldcalc, ldcalc.ambi, ldcalc and ldcalc.ranked for the non-NT run and also corpusfoci (part of anahash) for the NT run.\n",
    "\n",
    "## Anahash"
   ]
  },
  {
   "cell_type": "code",
   "execution_count": 33,
   "metadata": {},
   "outputs": [
    {
     "data": {
      "text/html": [
       "<div>\n",
       "<style scoped>\n",
       "    .dataframe tbody tr th:only-of-type {\n",
       "        vertical-align: middle;\n",
       "    }\n",
       "\n",
       "    .dataframe tbody tr th {\n",
       "        vertical-align: top;\n",
       "    }\n",
       "\n",
       "    .dataframe thead th {\n",
       "        text-align: right;\n",
       "    }\n",
       "</style>\n",
       "<table border=\"1\" class=\"dataframe\">\n",
       "  <thead>\n",
       "    <tr style=\"text-align: right;\">\n",
       "      <th></th>\n",
       "      <th>words</th>\n",
       "    </tr>\n",
       "    <tr>\n",
       "      <th>anahash</th>\n",
       "      <th></th>\n",
       "    </tr>\n",
       "  </thead>\n",
       "  <tbody>\n",
       "    <tr>\n",
       "      <th>10510100501</th>\n",
       "      <td>à#ú</td>\n",
       "    </tr>\n",
       "    <tr>\n",
       "      <th>11040808032</th>\n",
       "      <td>E#e</td>\n",
       "    </tr>\n",
       "    <tr>\n",
       "      <th>11592740743</th>\n",
       "      <td>N#n</td>\n",
       "    </tr>\n",
       "    <tr>\n",
       "      <th>12166529024</th>\n",
       "      <td>R#r</td>\n",
       "    </tr>\n",
       "    <tr>\n",
       "      <th>12762815625</th>\n",
       "      <td>T#t</td>\n",
       "    </tr>\n",
       "  </tbody>\n",
       "</table>\n",
       "</div>"
      ],
      "text/plain": [
       "            words\n",
       "anahash          \n",
       "10510100501   à#ú\n",
       "11040808032   E#e\n",
       "11592740743   N#n\n",
       "12166529024   R#r\n",
       "12762815625   T#t"
      ]
     },
     "execution_count": 33,
     "metadata": {},
     "output_type": "execute_result"
    }
   ],
   "source": [
    "websites.anahash = pd.read_csv('sonar_ticcl/WR-P-E-I_web_sites.wordfreqlist.tsv.clean.anahash', sep='~',\n",
    "                               index_col=0, names=['anahash', 'words'])\n",
    "websites.anahash.head()"
   ]
  },
  {
   "cell_type": "markdown",
   "metadata": {},
   "source": [
    "Hmm, how do we load such a data file into Pandas efficiently? Asked data SIG. In the meantime, let's try this (https://stackoverflow.com/questions/17116814/pandas-how-do-i-split-text-in-a-column-into-multiple-rows):"
   ]
  },
  {
   "cell_type": "code",
   "execution_count": 34,
   "metadata": {},
   "outputs": [],
   "source": [
    "def load_anahash_first_try():\n",
    "    anahash = pd.read_csv('sonar_ticcl/WR-P-E-I_web_sites.wordfreqlist.tsv.clean.anahash', sep='~',\n",
    "                                   index_col=0, names=['anahash', 'words'],\n",
    "                                   converters={'words': lambda w: tuple(w.split('#'))})\n",
    "    anahash['words'][:20].apply(pd.Series, 1).stack()\n",
    "    anahash['words'][:20]\n",
    "    return anahash"
   ]
  },
  {
   "cell_type": "code",
   "execution_count": 35,
   "metadata": {},
   "outputs": [],
   "source": [
    "# websites.anahash = load_anahash()"
   ]
  },
  {
   "cell_type": "markdown",
   "metadata": {},
   "source": [
    "Really weird, some `\\n`s aren't read as newlines! Sublime Text has no problem with them... What's up? Wrong encoding?"
   ]
  },
  {
   "cell_type": "code",
   "execution_count": 36,
   "metadata": {},
   "outputs": [],
   "source": [
    "# websites.anahash = pd.read_csv('sonar_ticcl/WR-P-E-I_web_sites.wordfreqlist.tsv.clean.anahash',\n",
    "#                                sep='~', quoting=csv.QUOTE_NONE,\n",
    "#                                index_col=0, names=['anahash', 'words'],\n",
    "#                                converters={'words': lambda w: tuple(w.split('#'))}, encoding='utf-8')\n",
    "# websites.anahash.head(20)"
   ]
  },
  {
   "cell_type": "markdown",
   "metadata": {},
   "source": [
    "That's better. Try again:"
   ]
  },
  {
   "cell_type": "code",
   "execution_count": 37,
   "metadata": {},
   "outputs": [],
   "source": [
    "# websites.anahash[:20]['words'].apply(pd.Series, 1).stack()"
   ]
  },
  {
   "cell_type": "markdown",
   "metadata": {},
   "source": [
    "Awesome. Now in one go?"
   ]
  },
  {
   "cell_type": "code",
   "execution_count": 38,
   "metadata": {},
   "outputs": [],
   "source": [
    "# websites.anahash = pd.read_csv('sonar_ticcl/WR-P-E-I_web_sites.wordfreqlist.tsv.clean.anahash',\n",
    "#                                sep='~', quoting=csv.QUOTE_NONE,\n",
    "#                                index_col=0, names=['anahash', 'words'],\n",
    "#                                converters={'words': lambda w: pd.Series(w.split('#'))}, encoding='utf-8')\n",
    "# websites.anahash.head(20)"
   ]
  },
  {
   "cell_type": "markdown",
   "metadata": {},
   "source": [
    "Ok that doesn't work. Let's stick to two (or actually four) steps then."
   ]
  },
  {
   "cell_type": "code",
   "execution_count": 39,
   "metadata": {},
   "outputs": [],
   "source": [
    "def load_anahash():\n",
    "    anahash_tuples_df = pd.read_csv('sonar_ticcl/WR-P-E-I_web_sites.wordfreqlist.tsv.clean.anahash',\n",
    "                                    sep='~', quoting=csv.QUOTE_NONE,\n",
    "                                    index_col=0, names=['anahash', 'words'],\n",
    "                                    converters={'words': lambda w: tuple(w.split('#'))}, encoding='utf-8')\n",
    "    anahash = anahash_tuples_df['words'].apply(pd.Series, 1).stack().to_frame()\n",
    "    anahash.index.rename([\"anahash\", \"variant_id\"], inplace=True)\n",
    "    anahash.rename({0: 'word'}, axis='columns', inplace=True)"
   ]
  },
  {
   "cell_type": "code",
   "execution_count": 40,
   "metadata": {},
   "outputs": [],
   "source": [
    "# websites.anahash = load_anahash()"
   ]
  },
  {
   "cell_type": "code",
   "execution_count": 39,
   "metadata": {},
   "outputs": [
    {
     "name": "stdout",
     "output_type": "stream",
     "text": [
      "CPU times: user 3min 10s, sys: 6.91 s, total: 3min 17s\n",
      "Wall time: 3min 21s\n"
     ]
    }
   ],
   "source": [
    "%time load_anahash()"
   ]
  },
  {
   "cell_type": "markdown",
   "metadata": {},
   "source": [
    "This takes some time to load, so let's save the result."
   ]
  },
  {
   "cell_type": "code",
   "execution_count": 43,
   "metadata": {},
   "outputs": [],
   "source": [
    "# websites.anahash.to_msgpack('sonar_ticcl/WR-P-E-I_web_sites.wordfreqlist.tsv.clean.anahash.msgpack')"
   ]
  },
  {
   "cell_type": "code",
   "execution_count": 40,
   "metadata": {},
   "outputs": [],
   "source": [
    "websites.anahash = pd.read_msgpack('sonar_ticcl/WR-P-E-I_web_sites.wordfreqlist.tsv.clean.anahash.msgpack')"
   ]
  },
  {
   "cell_type": "code",
   "execution_count": 41,
   "metadata": {},
   "outputs": [
    {
     "data": {
      "text/html": [
       "<div>\n",
       "<style scoped>\n",
       "    .dataframe tbody tr th:only-of-type {\n",
       "        vertical-align: middle;\n",
       "    }\n",
       "\n",
       "    .dataframe tbody tr th {\n",
       "        vertical-align: top;\n",
       "    }\n",
       "\n",
       "    .dataframe thead th {\n",
       "        text-align: right;\n",
       "    }\n",
       "</style>\n",
       "<table border=\"1\" class=\"dataframe\">\n",
       "  <thead>\n",
       "    <tr style=\"text-align: right;\">\n",
       "      <th></th>\n",
       "      <th></th>\n",
       "      <th>word</th>\n",
       "    </tr>\n",
       "    <tr>\n",
       "      <th>anahash</th>\n",
       "      <th>variant_id</th>\n",
       "      <th></th>\n",
       "    </tr>\n",
       "  </thead>\n",
       "  <tbody>\n",
       "    <tr>\n",
       "      <th rowspan=\"2\" valign=\"top\">10510100501</th>\n",
       "      <th>0</th>\n",
       "      <td>à</td>\n",
       "    </tr>\n",
       "    <tr>\n",
       "      <th>1</th>\n",
       "      <td>ú</td>\n",
       "    </tr>\n",
       "    <tr>\n",
       "      <th rowspan=\"2\" valign=\"top\">11040808032</th>\n",
       "      <th>0</th>\n",
       "      <td>E</td>\n",
       "    </tr>\n",
       "    <tr>\n",
       "      <th>1</th>\n",
       "      <td>e</td>\n",
       "    </tr>\n",
       "    <tr>\n",
       "      <th>11592740743</th>\n",
       "      <th>0</th>\n",
       "      <td>N</td>\n",
       "    </tr>\n",
       "  </tbody>\n",
       "</table>\n",
       "</div>"
      ],
      "text/plain": [
       "                       word\n",
       "anahash     variant_id     \n",
       "10510100501 0             à\n",
       "            1             ú\n",
       "11040808032 0             E\n",
       "            1             e\n",
       "11592740743 0             N"
      ]
     },
     "execution_count": 41,
     "metadata": {},
     "output_type": "execute_result"
    }
   ],
   "source": [
    "websites.anahash.head()"
   ]
  },
  {
   "cell_type": "markdown",
   "metadata": {},
   "source": [
    "Ok, great. Let's see what's in there."
   ]
  },
  {
   "cell_type": "code",
   "execution_count": 42,
   "metadata": {},
   "outputs": [
    {
     "data": {
      "text/plain": [
       "1099153"
      ]
     },
     "execution_count": 42,
     "metadata": {},
     "output_type": "execute_result"
    }
   ],
   "source": [
    "len(websites.anahash)"
   ]
  },
  {
   "cell_type": "markdown",
   "metadata": {},
   "source": [
    "Odd, that's two more words than the original clean list..."
   ]
  },
  {
   "cell_type": "code",
   "execution_count": 43,
   "metadata": {},
   "outputs": [
    {
     "data": {
      "text/plain": [
       "1099151"
      ]
     },
     "execution_count": 43,
     "metadata": {},
     "output_type": "execute_result"
    }
   ],
   "source": [
    "len(websites.clean)"
   ]
  },
  {
   "cell_type": "markdown",
   "metadata": {},
   "source": [
    "Ok, must be some empty line or some wrong handling of a comma or newline... anyway..."
   ]
  },
  {
   "cell_type": "code",
   "execution_count": 44,
   "metadata": {},
   "outputs": [
    {
     "data": {
      "text/html": [
       "<div>\n",
       "<style scoped>\n",
       "    .dataframe tbody tr th:only-of-type {\n",
       "        vertical-align: middle;\n",
       "    }\n",
       "\n",
       "    .dataframe tbody tr th {\n",
       "        vertical-align: top;\n",
       "    }\n",
       "\n",
       "    .dataframe thead th {\n",
       "        text-align: right;\n",
       "    }\n",
       "</style>\n",
       "<table border=\"1\" class=\"dataframe\">\n",
       "  <thead>\n",
       "    <tr style=\"text-align: right;\">\n",
       "      <th></th>\n",
       "      <th>word</th>\n",
       "    </tr>\n",
       "    <tr>\n",
       "      <th>anahash</th>\n",
       "      <th></th>\n",
       "    </tr>\n",
       "  </thead>\n",
       "  <tbody>\n",
       "    <tr>\n",
       "      <th>10510100501</th>\n",
       "      <td>2</td>\n",
       "    </tr>\n",
       "    <tr>\n",
       "      <th>11040808032</th>\n",
       "      <td>2</td>\n",
       "    </tr>\n",
       "    <tr>\n",
       "      <th>11592740743</th>\n",
       "      <td>2</td>\n",
       "    </tr>\n",
       "    <tr>\n",
       "      <th>12166529024</th>\n",
       "      <td>2</td>\n",
       "    </tr>\n",
       "    <tr>\n",
       "      <th>12762815625</th>\n",
       "      <td>2</td>\n",
       "    </tr>\n",
       "    <tr>\n",
       "      <th>14025517307</th>\n",
       "      <td>2</td>\n",
       "    </tr>\n",
       "    <tr>\n",
       "      <th>14693280768</th>\n",
       "      <td>2</td>\n",
       "    </tr>\n",
       "    <tr>\n",
       "      <th>15386239549</th>\n",
       "      <td>2</td>\n",
       "    </tr>\n",
       "    <tr>\n",
       "      <th>16105100000</th>\n",
       "      <td>2</td>\n",
       "    </tr>\n",
       "    <tr>\n",
       "      <th>16850581551</th>\n",
       "      <td>2</td>\n",
       "    </tr>\n",
       "    <tr>\n",
       "      <th>17623416832</th>\n",
       "      <td>2</td>\n",
       "    </tr>\n",
       "    <tr>\n",
       "      <th>18424351793</th>\n",
       "      <td>2</td>\n",
       "    </tr>\n",
       "    <tr>\n",
       "      <th>19254145824</th>\n",
       "      <td>2</td>\n",
       "    </tr>\n",
       "    <tr>\n",
       "      <th>20113571875</th>\n",
       "      <td>2</td>\n",
       "    </tr>\n",
       "    <tr>\n",
       "      <th>20510100501</th>\n",
       "      <td>2</td>\n",
       "    </tr>\n",
       "    <tr>\n",
       "      <th>21003416576</th>\n",
       "      <td>2</td>\n",
       "    </tr>\n",
       "    <tr>\n",
       "      <th>21040808032</th>\n",
       "      <td>4</td>\n",
       "    </tr>\n",
       "    <tr>\n",
       "      <th>21550908533</th>\n",
       "      <td>7</td>\n",
       "    </tr>\n",
       "    <tr>\n",
       "      <th>21592740743</th>\n",
       "      <td>5</td>\n",
       "    </tr>\n",
       "    <tr>\n",
       "      <th>21924480357</th>\n",
       "      <td>2</td>\n",
       "    </tr>\n",
       "    <tr>\n",
       "      <th>22081616064</th>\n",
       "      <td>2</td>\n",
       "    </tr>\n",
       "    <tr>\n",
       "      <th>22102841244</th>\n",
       "      <td>7</td>\n",
       "    </tr>\n",
       "    <tr>\n",
       "      <th>22166529024</th>\n",
       "      <td>2</td>\n",
       "    </tr>\n",
       "    <tr>\n",
       "      <th>22633548775</th>\n",
       "      <td>6</td>\n",
       "    </tr>\n",
       "    <tr>\n",
       "      <th>22676629525</th>\n",
       "      <td>2</td>\n",
       "    </tr>\n",
       "    <tr>\n",
       "      <th>22762815625</th>\n",
       "      <td>9</td>\n",
       "    </tr>\n",
       "    <tr>\n",
       "      <th>22877577568</th>\n",
       "      <td>2</td>\n",
       "    </tr>\n",
       "    <tr>\n",
       "      <th>23207337056</th>\n",
       "      <td>4</td>\n",
       "    </tr>\n",
       "    <tr>\n",
       "      <th>23272916126</th>\n",
       "      <td>2</td>\n",
       "    </tr>\n",
       "    <tr>\n",
       "      <th>23759269767</th>\n",
       "      <td>1</td>\n",
       "    </tr>\n",
       "    <tr>\n",
       "      <th>...</th>\n",
       "      <td>...</td>\n",
       "    </tr>\n",
       "    <tr>\n",
       "      <th>638130202638</th>\n",
       "      <td>1</td>\n",
       "    </tr>\n",
       "    <tr>\n",
       "      <th>644563367834</th>\n",
       "      <td>1</td>\n",
       "    </tr>\n",
       "    <tr>\n",
       "      <th>647256575422</th>\n",
       "      <td>1</td>\n",
       "    </tr>\n",
       "    <tr>\n",
       "      <th>650948826750</th>\n",
       "      <td>1</td>\n",
       "    </tr>\n",
       "    <tr>\n",
       "      <th>654327652773</th>\n",
       "      <td>1</td>\n",
       "    </tr>\n",
       "    <tr>\n",
       "      <th>655340528421</th>\n",
       "      <td>1</td>\n",
       "    </tr>\n",
       "    <tr>\n",
       "      <th>656204900822</th>\n",
       "      <td>1</td>\n",
       "    </tr>\n",
       "    <tr>\n",
       "      <th>657224656975</th>\n",
       "      <td>1</td>\n",
       "    </tr>\n",
       "    <tr>\n",
       "      <th>669896458667</th>\n",
       "      <td>1</td>\n",
       "    </tr>\n",
       "    <tr>\n",
       "      <th>674303429125</th>\n",
       "      <td>1</td>\n",
       "    </tr>\n",
       "    <tr>\n",
       "      <th>676377282059</th>\n",
       "      <td>1</td>\n",
       "    </tr>\n",
       "    <tr>\n",
       "      <th>677339252630</th>\n",
       "      <td>1</td>\n",
       "    </tr>\n",
       "    <tr>\n",
       "      <th>677352559035</th>\n",
       "      <td>1</td>\n",
       "    </tr>\n",
       "    <tr>\n",
       "      <th>688158919916</th>\n",
       "      <td>1</td>\n",
       "    </tr>\n",
       "    <tr>\n",
       "      <th>691514591193</th>\n",
       "      <td>1</td>\n",
       "    </tr>\n",
       "    <tr>\n",
       "      <th>696766951384</th>\n",
       "      <td>1</td>\n",
       "    </tr>\n",
       "    <tr>\n",
       "      <th>699400487664</th>\n",
       "      <td>1</td>\n",
       "    </tr>\n",
       "    <tr>\n",
       "      <th>715164416475</th>\n",
       "      <td>1</td>\n",
       "    </tr>\n",
       "    <tr>\n",
       "      <th>741210751553</th>\n",
       "      <td>1</td>\n",
       "    </tr>\n",
       "    <tr>\n",
       "      <th>742831172539</th>\n",
       "      <td>1</td>\n",
       "    </tr>\n",
       "    <tr>\n",
       "      <th>776227567523</th>\n",
       "      <td>1</td>\n",
       "    </tr>\n",
       "    <tr>\n",
       "      <th>790358254416</th>\n",
       "      <td>1</td>\n",
       "    </tr>\n",
       "    <tr>\n",
       "      <th>796379764115</th>\n",
       "      <td>1</td>\n",
       "    </tr>\n",
       "    <tr>\n",
       "      <th>796625621443</th>\n",
       "      <td>1</td>\n",
       "    </tr>\n",
       "    <tr>\n",
       "      <th>798390672914</th>\n",
       "      <td>1</td>\n",
       "    </tr>\n",
       "    <tr>\n",
       "      <th>815899442051</th>\n",
       "      <td>1</td>\n",
       "    </tr>\n",
       "    <tr>\n",
       "      <th>859189981861</th>\n",
       "      <td>1</td>\n",
       "    </tr>\n",
       "    <tr>\n",
       "      <th>1016302226143</th>\n",
       "      <td>1</td>\n",
       "    </tr>\n",
       "    <tr>\n",
       "      <th>1080983341967</th>\n",
       "      <td>1</td>\n",
       "    </tr>\n",
       "    <tr>\n",
       "      <th>1614639414648</th>\n",
       "      <td>1</td>\n",
       "    </tr>\n",
       "  </tbody>\n",
       "</table>\n",
       "<p>895008 rows × 1 columns</p>\n",
       "</div>"
      ],
      "text/plain": [
       "               word\n",
       "anahash            \n",
       "10510100501       2\n",
       "11040808032       2\n",
       "11592740743       2\n",
       "12166529024       2\n",
       "12762815625       2\n",
       "14025517307       2\n",
       "14693280768       2\n",
       "15386239549       2\n",
       "16105100000       2\n",
       "16850581551       2\n",
       "17623416832       2\n",
       "18424351793       2\n",
       "19254145824       2\n",
       "20113571875       2\n",
       "20510100501       2\n",
       "21003416576       2\n",
       "21040808032       4\n",
       "21550908533       7\n",
       "21592740743       5\n",
       "21924480357       2\n",
       "22081616064       2\n",
       "22102841244       7\n",
       "22166529024       2\n",
       "22633548775       6\n",
       "22676629525       2\n",
       "22762815625       9\n",
       "22877577568       2\n",
       "23207337056       4\n",
       "23272916126       2\n",
       "23759269767       1\n",
       "...             ...\n",
       "638130202638      1\n",
       "644563367834      1\n",
       "647256575422      1\n",
       "650948826750      1\n",
       "654327652773      1\n",
       "655340528421      1\n",
       "656204900822      1\n",
       "657224656975      1\n",
       "669896458667      1\n",
       "674303429125      1\n",
       "676377282059      1\n",
       "677339252630      1\n",
       "677352559035      1\n",
       "688158919916      1\n",
       "691514591193      1\n",
       "696766951384      1\n",
       "699400487664      1\n",
       "715164416475      1\n",
       "741210751553      1\n",
       "742831172539      1\n",
       "776227567523      1\n",
       "790358254416      1\n",
       "796379764115      1\n",
       "796625621443      1\n",
       "798390672914      1\n",
       "815899442051      1\n",
       "859189981861      1\n",
       "1016302226143     1\n",
       "1080983341967     1\n",
       "1614639414648     1\n",
       "\n",
       "[895008 rows x 1 columns]"
      ]
     },
     "execution_count": 44,
     "metadata": {},
     "output_type": "execute_result"
    }
   ],
   "source": [
    "websites.anahash.groupby('anahash').count()"
   ]
  },
  {
   "cell_type": "code",
   "execution_count": 45,
   "metadata": {},
   "outputs": [
    {
     "data": {
      "text/plain": [
       "word    1.228093\n",
       "dtype: float64"
      ]
     },
     "execution_count": 45,
     "metadata": {},
     "output_type": "execute_result"
    }
   ],
   "source": [
    "websites.anahash.groupby('anahash').count().mean()"
   ]
  },
  {
   "cell_type": "markdown",
   "metadata": {},
   "source": [
    "Yeah, ok, some anagrams have more variants than others, nothing surprising. Let's see some more interesting statistics, like word length vs variants.\n",
    "\n",
    "ACCORDING TO MARTIN IT SHOULD BE ABOUT 1.3 ON AVERAGE.\n",
    "\n",
    "Assuming that all anagrams have an equal number of characters, we can just use the 0 variant_ids to count the string lengths."
   ]
  },
  {
   "cell_type": "code",
   "execution_count": 46,
   "metadata": {},
   "outputs": [],
   "source": [
    "df= websites.anahash\\\n",
    "      .groupby('anahash').count()\\\n",
    "      .rename({'word': 'variant_count'}, axis='columns')\\\n",
    "      .join(websites.anahash\n",
    "            .loc[(slice(None), 0), :]['word']\n",
    "            .str.len()\n",
    "            .reset_index(level='variant_id', drop=True)\n",
    "            .rename('word_length'))"
   ]
  },
  {
   "cell_type": "code",
   "execution_count": 47,
   "metadata": {},
   "outputs": [
    {
     "name": "stderr",
     "output_type": "stream",
     "text": [
      "WARNING:root:Too few points to create valid contours\n"
     ]
    },
    {
     "data": {
      "image/png": "[encoded data removed]",
      "text/plain": [
       "<Figure size 396x396 with 4 Axes>"
      ]
     },
     "metadata": {},
     "output_type": "display_data"
    }
   ],
   "source": [
    "corner.corner(df);"
   ]
  },
  {
   "cell_type": "markdown",
   "metadata": {},
   "source": [
    "Also not surprising: longer words, less variants."
   ]
  },
  {
   "cell_type": "code",
   "execution_count": 48,
   "metadata": {},
   "outputs": [
    {
     "data": {
      "text/html": [
       "<div>\n",
       "<style scoped>\n",
       "    .dataframe tbody tr th:only-of-type {\n",
       "        vertical-align: middle;\n",
       "    }\n",
       "\n",
       "    .dataframe tbody tr th {\n",
       "        vertical-align: top;\n",
       "    }\n",
       "\n",
       "    .dataframe thead th {\n",
       "        text-align: right;\n",
       "    }\n",
       "</style>\n",
       "<table border=\"1\" class=\"dataframe\">\n",
       "  <thead>\n",
       "    <tr style=\"text-align: right;\">\n",
       "      <th></th>\n",
       "      <th>word</th>\n",
       "    </tr>\n",
       "    <tr>\n",
       "      <th>variant_id</th>\n",
       "      <th></th>\n",
       "    </tr>\n",
       "  </thead>\n",
       "  <tbody>\n",
       "    <tr>\n",
       "      <th>0</th>\n",
       "      <td>895008</td>\n",
       "    </tr>\n",
       "    <tr>\n",
       "      <th>1</th>\n",
       "      <td>130346</td>\n",
       "    </tr>\n",
       "    <tr>\n",
       "      <th>2</th>\n",
       "      <td>35616</td>\n",
       "    </tr>\n",
       "    <tr>\n",
       "      <th>3</th>\n",
       "      <td>16213</td>\n",
       "    </tr>\n",
       "    <tr>\n",
       "      <th>4</th>\n",
       "      <td>8418</td>\n",
       "    </tr>\n",
       "    <tr>\n",
       "      <th>5</th>\n",
       "      <td>4861</td>\n",
       "    </tr>\n",
       "    <tr>\n",
       "      <th>6</th>\n",
       "      <td>2977</td>\n",
       "    </tr>\n",
       "    <tr>\n",
       "      <th>7</th>\n",
       "      <td>1889</td>\n",
       "    </tr>\n",
       "    <tr>\n",
       "      <th>8</th>\n",
       "      <td>1203</td>\n",
       "    </tr>\n",
       "    <tr>\n",
       "      <th>9</th>\n",
       "      <td>810</td>\n",
       "    </tr>\n",
       "    <tr>\n",
       "      <th>10</th>\n",
       "      <td>545</td>\n",
       "    </tr>\n",
       "    <tr>\n",
       "      <th>11</th>\n",
       "      <td>394</td>\n",
       "    </tr>\n",
       "    <tr>\n",
       "      <th>12</th>\n",
       "      <td>268</td>\n",
       "    </tr>\n",
       "    <tr>\n",
       "      <th>13</th>\n",
       "      <td>180</td>\n",
       "    </tr>\n",
       "    <tr>\n",
       "      <th>14</th>\n",
       "      <td>127</td>\n",
       "    </tr>\n",
       "    <tr>\n",
       "      <th>15</th>\n",
       "      <td>85</td>\n",
       "    </tr>\n",
       "    <tr>\n",
       "      <th>16</th>\n",
       "      <td>63</td>\n",
       "    </tr>\n",
       "    <tr>\n",
       "      <th>17</th>\n",
       "      <td>45</td>\n",
       "    </tr>\n",
       "    <tr>\n",
       "      <th>18</th>\n",
       "      <td>33</td>\n",
       "    </tr>\n",
       "    <tr>\n",
       "      <th>19</th>\n",
       "      <td>17</td>\n",
       "    </tr>\n",
       "    <tr>\n",
       "      <th>20</th>\n",
       "      <td>11</td>\n",
       "    </tr>\n",
       "    <tr>\n",
       "      <th>21</th>\n",
       "      <td>8</td>\n",
       "    </tr>\n",
       "    <tr>\n",
       "      <th>22</th>\n",
       "      <td>8</td>\n",
       "    </tr>\n",
       "    <tr>\n",
       "      <th>23</th>\n",
       "      <td>7</td>\n",
       "    </tr>\n",
       "    <tr>\n",
       "      <th>24</th>\n",
       "      <td>5</td>\n",
       "    </tr>\n",
       "    <tr>\n",
       "      <th>25</th>\n",
       "      <td>3</td>\n",
       "    </tr>\n",
       "    <tr>\n",
       "      <th>26</th>\n",
       "      <td>2</td>\n",
       "    </tr>\n",
       "    <tr>\n",
       "      <th>27</th>\n",
       "      <td>2</td>\n",
       "    </tr>\n",
       "    <tr>\n",
       "      <th>28</th>\n",
       "      <td>2</td>\n",
       "    </tr>\n",
       "    <tr>\n",
       "      <th>29</th>\n",
       "      <td>2</td>\n",
       "    </tr>\n",
       "    <tr>\n",
       "      <th>30</th>\n",
       "      <td>2</td>\n",
       "    </tr>\n",
       "    <tr>\n",
       "      <th>31</th>\n",
       "      <td>2</td>\n",
       "    </tr>\n",
       "    <tr>\n",
       "      <th>32</th>\n",
       "      <td>1</td>\n",
       "    </tr>\n",
       "  </tbody>\n",
       "</table>\n",
       "</div>"
      ],
      "text/plain": [
       "              word\n",
       "variant_id        \n",
       "0           895008\n",
       "1           130346\n",
       "2            35616\n",
       "3            16213\n",
       "4             8418\n",
       "5             4861\n",
       "6             2977\n",
       "7             1889\n",
       "8             1203\n",
       "9              810\n",
       "10             545\n",
       "11             394\n",
       "12             268\n",
       "13             180\n",
       "14             127\n",
       "15              85\n",
       "16              63\n",
       "17              45\n",
       "18              33\n",
       "19              17\n",
       "20              11\n",
       "21               8\n",
       "22               8\n",
       "23               7\n",
       "24               5\n",
       "25               3\n",
       "26               2\n",
       "27               2\n",
       "28               2\n",
       "29               2\n",
       "30               2\n",
       "31               2\n",
       "32               1"
      ]
     },
     "execution_count": 48,
     "metadata": {},
     "output_type": "execute_result"
    }
   ],
   "source": [
    "websites.anahash.groupby('variant_id').count()"
   ]
  },
  {
   "cell_type": "markdown",
   "metadata": {},
   "source": [
    "# confuslist.index"
   ]
  },
  {
   "cell_type": "markdown",
   "metadata": {},
   "source": [
    "This file is huge, 1.8G, so we need some other sort of handling, pandas will surely crash on anything but a supercomputer."
   ]
  },
  {
   "cell_type": "code",
   "execution_count": 5,
   "metadata": {},
   "outputs": [],
   "source": [
    "websites.confuslist_index = pd.read_csv('sonar_ticcl/WR-P-E-I_web_sites.wordfreqlist.tsv.clean.confuslist.index',\n",
    "                                        memory_map=True, sep='#', nrows=10, index_col=0,\n",
    "                                        names=['confusion', 'word_hashes'])"
   ]
  },
  {
   "cell_type": "code",
   "execution_count": 6,
   "metadata": {},
   "outputs": [
    {
     "data": {
      "text/html": [
       "<div>\n",
       "<style scoped>\n",
       "    .dataframe tbody tr th:only-of-type {\n",
       "        vertical-align: middle;\n",
       "    }\n",
       "\n",
       "    .dataframe tbody tr th {\n",
       "        vertical-align: top;\n",
       "    }\n",
       "\n",
       "    .dataframe thead th {\n",
       "        text-align: right;\n",
       "    }\n",
       "</style>\n",
       "<table border=\"1\" class=\"dataframe\">\n",
       "  <thead>\n",
       "    <tr style=\"text-align: right;\">\n",
       "      <th></th>\n",
       "      <th>word_hashes</th>\n",
       "    </tr>\n",
       "    <tr>\n",
       "      <th>confusion</th>\n",
       "      <th></th>\n",
       "    </tr>\n",
       "  </thead>\n",
       "  <tbody>\n",
       "    <tr>\n",
       "      <th>254219</th>\n",
       "      <td>72867967463,74038042345,75209415207,7576004993...</td>\n",
       "    </tr>\n",
       "    <tr>\n",
       "      <th>393216</th>\n",
       "      <td>132171266578,164996371986,176326190602</td>\n",
       "    </tr>\n",
       "    <tr>\n",
       "      <th>658326</th>\n",
       "      <td>121627899375,121975124181,125180134006,1414074...</td>\n",
       "    </tr>\n",
       "    <tr>\n",
       "      <th>684816</th>\n",
       "      <td>138997537243,149990243935,154141013182,1741099...</td>\n",
       "    </tr>\n",
       "    <tr>\n",
       "      <th>1164418</th>\n",
       "      <td>84636801790,85047784391,86310486073,8697824953...</td>\n",
       "    </tr>\n",
       "    <tr>\n",
       "      <th>1173721</th>\n",
       "      <td>80614024263,80657105013,81187812544,8178409914...</td>\n",
       "    </tr>\n",
       "    <tr>\n",
       "      <th>1190068</th>\n",
       "      <td>67676465299,69442826782,71469964105,7218882455...</td>\n",
       "    </tr>\n",
       "    <tr>\n",
       "      <th>1391727</th>\n",
       "      <td>85478414561,86121676092,86741116243,8862592951...</td>\n",
       "    </tr>\n",
       "    <tr>\n",
       "      <th>1638659</th>\n",
       "      <td>71938173924,72490106635,72511962205,7306389491...</td>\n",
       "    </tr>\n",
       "    <tr>\n",
       "      <th>1806002</th>\n",
       "      <td>105558929611,106429736524,120455253831,1243938...</td>\n",
       "    </tr>\n",
       "  </tbody>\n",
       "</table>\n",
       "</div>"
      ],
      "text/plain": [
       "                                                 word_hashes\n",
       "confusion                                                   \n",
       "254219     72867967463,74038042345,75209415207,7576004993...\n",
       "393216                132171266578,164996371986,176326190602\n",
       "658326     121627899375,121975124181,125180134006,1414074...\n",
       "684816     138997537243,149990243935,154141013182,1741099...\n",
       "1164418    84636801790,85047784391,86310486073,8697824953...\n",
       "1173721    80614024263,80657105013,81187812544,8178409914...\n",
       "1190068    67676465299,69442826782,71469964105,7218882455...\n",
       "1391727    85478414561,86121676092,86741116243,8862592951...\n",
       "1638659    71938173924,72490106635,72511962205,7306389491...\n",
       "1806002    105558929611,106429736524,120455253831,1243938..."
      ]
     },
     "execution_count": 6,
     "metadata": {},
     "output_type": "execute_result"
    }
   ],
   "source": [
    "websites.confuslist_index"
   ]
  },
  {
   "cell_type": "markdown",
   "metadata": {},
   "source": [
    "If we were to load this in similarly to the anahashes, with a MultiIndex, how much memory would that take? It would increase the number of columns to three (even though the second index could be a small int probably), so $3 * 8 = 24$ bytes per word hash. Number of word hashes is number of commas plus number of new lines in the file. This counts commas:\n",
    "```sh\n",
    "tr -cd ',' < WR-P-E-I_web_sites.wordfreqlist.tsv.clean.confuslist.index | wc -c\n",
    "```\n",
    "This counts newlines:\n",
    "```sh\n",
    "wc -l WR-P-E-I_web_sites.wordfreqlist.tsv.clean.confuslist.index\n",
    "```"
   ]
  },
  {
   "cell_type": "code",
   "execution_count": 7,
   "metadata": {},
   "outputs": [
    {
     "data": {
      "text/plain": [
       "(148861420, 3572674080, 2084059880)"
      ]
     },
     "execution_count": 7,
     "metadata": {},
     "output_type": "execute_result"
    }
   ],
   "source": [
    "commas = 148610673\n",
    "newlines = 250747\n",
    "commas + newlines, (commas + newlines) * 24, (commas + newlines) * 14"
   ]
  },
  {
   "cell_type": "markdown",
   "metadata": {},
   "source": [
    "Oi, 3.5G, more than expected from just the text file size... Actually, we can probably just use uint16 for the second index and uint32 for the confusion, only the actual hashes must be uint64, so that would sum to just 14 bytes per line, a total of about 2G then."
   ]
  },
  {
   "cell_type": "code",
   "execution_count": 8,
   "metadata": {},
   "outputs": [
    {
     "data": {
      "text/plain": [
       "592.6717886953782"
      ]
     },
     "execution_count": 8,
     "metadata": {},
     "output_type": "execute_result"
    }
   ],
   "source": [
    "commas/newlines"
   ]
  },
  {
   "cell_type": "markdown",
   "metadata": {},
   "source": [
    "That should be safely less than 65535, so then indeed a uint16 for the second column would be possible."
   ]
  },
  {
   "cell_type": "markdown",
   "metadata": {},
   "source": [
    "Ok, let's try it out then, developed this in about 1.5 hours:"
   ]
  },
  {
   "cell_type": "code",
   "execution_count": 38,
   "metadata": {},
   "outputs": [],
   "source": [
    "import ticcl_output_reader"
   ]
  },
  {
   "cell_type": "code",
   "execution_count": 39,
   "metadata": {},
   "outputs": [
    {
     "name": "stdout",
     "output_type": "stream",
     "text": [
      "4.45 ms ± 123 µs per loop (mean ± std. dev. of 7 runs, 100 loops each)\n"
     ]
    }
   ],
   "source": [
    "%timeit confusion_array, confusion_word_index_array, word_anahash_array = ticcl_output_reader.load_confuslist_index(\"sonar_ticcl/WR-P-E-I_web_sites.wordfreqlist.tsv.clean.confuslist.index.head\")"
   ]
  },
  {
   "cell_type": "code",
   "execution_count": 40,
   "metadata": {},
   "outputs": [],
   "source": [
    "def get_confuslist_index_head():\n",
    "    df_tuples = pd.read_csv('sonar_ticcl/WR-P-E-I_web_sites.wordfreqlist.tsv.clean.confuslist.index.head',\n",
    "                        sep='#', index_col=0, names=['confusion', 'word_hashes'],\n",
    "                        converters={'word_hashes': lambda w: tuple(w.split(','))})\n",
    "    df = df_tuples['word_hashes'].apply(pd.Series, 1).stack().to_frame()\n",
    "    df.index.rename([\"confusion\", \"list_index\"], inplace=True)\n",
    "    df.rename({0: 'word_hash'}, axis='columns', inplace=True)\n",
    "    return df"
   ]
  },
  {
   "cell_type": "code",
   "execution_count": 41,
   "metadata": {},
   "outputs": [
    {
     "name": "stdout",
     "output_type": "stream",
     "text": [
      "377 ms ± 82.6 ms per loop (mean ± std. dev. of 7 runs, 1 loop each)\n"
     ]
    }
   ],
   "source": [
    "%timeit get_confuslist_index_head()"
   ]
  },
  {
   "cell_type": "code",
   "execution_count": 42,
   "metadata": {},
   "outputs": [
    {
     "data": {
      "text/plain": [
       "50.0"
      ]
     },
     "execution_count": 42,
     "metadata": {},
     "output_type": "execute_result"
    }
   ],
   "source": [
    "200/4"
   ]
  },
  {
   "cell_type": "markdown",
   "metadata": {},
   "source": [
    "Yay! Is it correct though?\n",
    "\n",
    "Not immediately, had to fix some bugs."
   ]
  },
  {
   "cell_type": "code",
   "execution_count": 43,
   "metadata": {},
   "outputs": [],
   "source": [
    "cpp_index = ticcl_output_reader.load_confuslist_index(\"sonar_ticcl/WR-P-E-I_web_sites.wordfreqlist.tsv.clean.confuslist.index.head\")"
   ]
  },
  {
   "cell_type": "code",
   "execution_count": 44,
   "metadata": {},
   "outputs": [
    {
     "data": {
      "text/plain": [
       "(array([ 254219,  254219,  254219, ..., 1806002, 1806002, 1806002],\n",
       "       dtype=uint32),\n",
       " array([ 0,  1,  2, ...,  9, 10, 11], dtype=uint16),\n",
       " array([ 72867967463,  74038042345,  75209415207, ..., 188955678071,\n",
       "        200922731816, 257452836091], dtype=uint64))"
      ]
     },
     "execution_count": 44,
     "metadata": {},
     "output_type": "execute_result"
    }
   ],
   "source": [
    "cpp_index"
   ]
  },
  {
   "cell_type": "code",
   "execution_count": 45,
   "metadata": {},
   "outputs": [],
   "source": [
    "cpp_index_df = pd.DataFrame.from_records({\"confusion\": cpp_index[0],\n",
    "                                          \"list_index\": cpp_index[1],\n",
    "                                          \"word_hash\": cpp_index[2]}, index=[\"confusion\", \"list_index\"])"
   ]
  },
  {
   "cell_type": "code",
   "execution_count": 46,
   "metadata": {},
   "outputs": [],
   "source": [
    "pandas_index = get_confuslist_index_head()"
   ]
  },
  {
   "cell_type": "code",
   "execution_count": 47,
   "metadata": {},
   "outputs": [
    {
     "data": {
      "text/plain": [
       "True"
      ]
     },
     "execution_count": 47,
     "metadata": {},
     "output_type": "execute_result"
    }
   ],
   "source": [
    "all(cpp_index_df.index == pandas_index.index)"
   ]
  },
  {
   "cell_type": "code",
   "execution_count": 48,
   "metadata": {},
   "outputs": [
    {
     "data": {
      "text/plain": [
       "array([[False],\n",
       "       [False],\n",
       "       [False],\n",
       "       ...,\n",
       "       [False],\n",
       "       [False],\n",
       "       [False]])"
      ]
     },
     "execution_count": 48,
     "metadata": {},
     "output_type": "execute_result"
    }
   ],
   "source": [
    "cpp_index_df.values == pandas_index.values"
   ]
  },
  {
   "cell_type": "code",
   "execution_count": 49,
   "metadata": {},
   "outputs": [
    {
     "data": {
      "text/html": [
       "<div>\n",
       "<style scoped>\n",
       "    .dataframe tbody tr th:only-of-type {\n",
       "        vertical-align: middle;\n",
       "    }\n",
       "\n",
       "    .dataframe tbody tr th {\n",
       "        vertical-align: top;\n",
       "    }\n",
       "\n",
       "    .dataframe thead th {\n",
       "        text-align: right;\n",
       "    }\n",
       "</style>\n",
       "<table border=\"1\" class=\"dataframe\">\n",
       "  <thead>\n",
       "    <tr style=\"text-align: right;\">\n",
       "      <th></th>\n",
       "      <th></th>\n",
       "      <th>word_hash</th>\n",
       "    </tr>\n",
       "    <tr>\n",
       "      <th>confusion</th>\n",
       "      <th>list_index</th>\n",
       "      <th></th>\n",
       "    </tr>\n",
       "  </thead>\n",
       "  <tbody>\n",
       "    <tr>\n",
       "      <th rowspan=\"5\" valign=\"top\">254219</th>\n",
       "      <th>0</th>\n",
       "      <td>72867967463</td>\n",
       "    </tr>\n",
       "    <tr>\n",
       "      <th>1</th>\n",
       "      <td>74038042345</td>\n",
       "    </tr>\n",
       "    <tr>\n",
       "      <th>2</th>\n",
       "      <td>75209415207</td>\n",
       "    </tr>\n",
       "    <tr>\n",
       "      <th>3</th>\n",
       "      <td>75760049938</td>\n",
       "    </tr>\n",
       "    <tr>\n",
       "      <th>4</th>\n",
       "      <td>75852676738</td>\n",
       "    </tr>\n",
       "  </tbody>\n",
       "</table>\n",
       "</div>"
      ],
      "text/plain": [
       "                        word_hash\n",
       "confusion list_index             \n",
       "254219    0           72867967463\n",
       "          1           74038042345\n",
       "          2           75209415207\n",
       "          3           75760049938\n",
       "          4           75852676738"
      ]
     },
     "execution_count": 49,
     "metadata": {},
     "output_type": "execute_result"
    }
   ],
   "source": [
    "cpp_index_df.head(5)"
   ]
  },
  {
   "cell_type": "code",
   "execution_count": 50,
   "metadata": {},
   "outputs": [
    {
     "data": {
      "text/html": [
       "<div>\n",
       "<style scoped>\n",
       "    .dataframe tbody tr th:only-of-type {\n",
       "        vertical-align: middle;\n",
       "    }\n",
       "\n",
       "    .dataframe tbody tr th {\n",
       "        vertical-align: top;\n",
       "    }\n",
       "\n",
       "    .dataframe thead th {\n",
       "        text-align: right;\n",
       "    }\n",
       "</style>\n",
       "<table border=\"1\" class=\"dataframe\">\n",
       "  <thead>\n",
       "    <tr style=\"text-align: right;\">\n",
       "      <th></th>\n",
       "      <th></th>\n",
       "      <th>word_hash</th>\n",
       "    </tr>\n",
       "    <tr>\n",
       "      <th>confusion</th>\n",
       "      <th>list_index</th>\n",
       "      <th></th>\n",
       "    </tr>\n",
       "  </thead>\n",
       "  <tbody>\n",
       "    <tr>\n",
       "      <th rowspan=\"5\" valign=\"top\">254219</th>\n",
       "      <th>0</th>\n",
       "      <td>72867967463</td>\n",
       "    </tr>\n",
       "    <tr>\n",
       "      <th>1</th>\n",
       "      <td>74038042345</td>\n",
       "    </tr>\n",
       "    <tr>\n",
       "      <th>2</th>\n",
       "      <td>75209415207</td>\n",
       "    </tr>\n",
       "    <tr>\n",
       "      <th>3</th>\n",
       "      <td>75760049938</td>\n",
       "    </tr>\n",
       "    <tr>\n",
       "      <th>4</th>\n",
       "      <td>75852676738</td>\n",
       "    </tr>\n",
       "  </tbody>\n",
       "</table>\n",
       "</div>"
      ],
      "text/plain": [
       "                        word_hash\n",
       "confusion list_index             \n",
       "254219    0           72867967463\n",
       "          1           74038042345\n",
       "          2           75209415207\n",
       "          3           75760049938\n",
       "          4           75852676738"
      ]
     },
     "execution_count": 50,
     "metadata": {},
     "output_type": "execute_result"
    }
   ],
   "source": [
    "pandas_index.head(5)"
   ]
  },
  {
   "cell_type": "markdown",
   "metadata": {},
   "source": [
    "Odd, they seem equal..."
   ]
  },
  {
   "cell_type": "code",
   "execution_count": 51,
   "metadata": {},
   "outputs": [
    {
     "data": {
      "text/plain": [
       "word_hash    uint64\n",
       "dtype: object"
      ]
     },
     "execution_count": 51,
     "metadata": {},
     "output_type": "execute_result"
    }
   ],
   "source": [
    "cpp_index_df.dtypes"
   ]
  },
  {
   "cell_type": "code",
   "execution_count": 52,
   "metadata": {},
   "outputs": [
    {
     "data": {
      "text/plain": [
       "word_hash    object\n",
       "dtype: object"
      ]
     },
     "execution_count": 52,
     "metadata": {},
     "output_type": "execute_result"
    }
   ],
   "source": [
    "pandas_index.dtypes"
   ]
  },
  {
   "cell_type": "markdown",
   "metadata": {},
   "source": [
    "Ahhh, yeah ok. That may also explain the slowness..."
   ]
  },
  {
   "cell_type": "code",
   "execution_count": 53,
   "metadata": {},
   "outputs": [],
   "source": [
    "def get_confuslist_index_head2():\n",
    "    df_tuples = pd.read_csv('sonar_ticcl/WR-P-E-I_web_sites.wordfreqlist.tsv.clean.confuslist.index.head',\n",
    "                        sep='#', index_col=0, names=['confusion', 'word_hashes'],\n",
    "                        converters={'word_hashes': lambda w: tuple(w.split(','))})\n",
    "    df = df_tuples['word_hashes'].apply(pd.Series, 1).stack().astype('uint64').to_frame()\n",
    "    df.index.rename([\"confusion\", \"list_index\"], inplace=True)\n",
    "    df.rename({0: 'word_hash'}, axis='columns', inplace=True)\n",
    "    return df"
   ]
  },
  {
   "cell_type": "code",
   "execution_count": 54,
   "metadata": {},
   "outputs": [],
   "source": [
    "pandas_index = get_confuslist_index_head2()"
   ]
  },
  {
   "cell_type": "code",
   "execution_count": 55,
   "metadata": {},
   "outputs": [
    {
     "data": {
      "text/plain": [
       "True"
      ]
     },
     "execution_count": 55,
     "metadata": {},
     "output_type": "execute_result"
    }
   ],
   "source": [
    "pandas_index.equals(cpp_index_df)"
   ]
  },
  {
   "cell_type": "markdown",
   "metadata": {},
   "source": [
    "Whoohoo!\n",
    "\n",
    "And timing on this?"
   ]
  },
  {
   "cell_type": "code",
   "execution_count": 153,
   "metadata": {},
   "outputs": [
    {
     "name": "stdout",
     "output_type": "stream",
     "text": [
      "424 ms ± 42.1 ms per loop (mean ± std. dev. of 7 runs, 1 loop each)\n"
     ]
    }
   ],
   "source": [
    "%timeit get_confuslist_index_head2()"
   ]
  },
  {
   "cell_type": "markdown",
   "metadata": {},
   "source": [
    "Same, good."
   ]
  },
  {
   "cell_type": "markdown",
   "metadata": {},
   "source": [
    "A Redditor came up with the suggestion to do it in pure Python, let's try that:"
   ]
  },
  {
   "cell_type": "code",
   "execution_count": 141,
   "metadata": {},
   "outputs": [],
   "source": [
    "def get_confuslist_index_head_pure_python():\n",
    "    with open('sonar_ticcl/WR-P-E-I_web_sites.wordfreqlist.tsv.clean.confuslist.index.head') as f:\n",
    "        dc = {}\n",
    "        for line in f:\n",
    "            if not line:\n",
    "                continue\n",
    "            key, _, value = line.partition(\"#\")\n",
    "            values = value.rstrip(\"\\n\").split(\",\")\n",
    "            dc[int(key)] = values\n",
    "    return dc"
   ]
  },
  {
   "cell_type": "code",
   "execution_count": 22,
   "metadata": {},
   "outputs": [
    {
     "name": "stdout",
     "output_type": "stream",
     "text": [
      "827 µs ± 85.7 µs per loop (mean ± std. dev. of 7 runs, 1000 loops each)\n"
     ]
    }
   ],
   "source": [
    "%timeit get_confuslist_index_head_pure_python()"
   ]
  },
  {
   "cell_type": "markdown",
   "metadata": {},
   "source": [
    "Holy crap, but what does it look like?"
   ]
  },
  {
   "cell_type": "code",
   "execution_count": 142,
   "metadata": {},
   "outputs": [],
   "source": [
    "pure_py = get_confuslist_index_head_pure_python()"
   ]
  },
  {
   "cell_type": "code",
   "execution_count": 24,
   "metadata": {},
   "outputs": [],
   "source": [
    "# pure_py"
   ]
  },
  {
   "cell_type": "markdown",
   "metadata": {},
   "source": [
    "Right, so I'll need to still convert to three columns here as well:"
   ]
  },
  {
   "cell_type": "code",
   "execution_count": 146,
   "metadata": {},
   "outputs": [],
   "source": [
    "def df_confuslist_index_head_pure_python():\n",
    "    with open('sonar_ticcl/WR-P-E-I_web_sites.wordfreqlist.tsv.clean.confuslist.index.head') as f:\n",
    "        dc = {}\n",
    "        for line in f:\n",
    "            if not line:\n",
    "                continue\n",
    "            key, _, value = line.partition(\"#\")\n",
    "            values = value.rstrip(\"\\n\").split(\",\")\n",
    "            dc[int(key)] = values\n",
    "    df = pd.DataFrame.from_dict(dc, orient='index').stack().astype('uint64').to_frame()\n",
    "    df.index.rename([\"confusion\", \"list_index\"], inplace=True)\n",
    "    df.rename({0: 'word_hash'}, axis='columns', inplace=True)\n",
    "    return df"
   ]
  },
  {
   "cell_type": "code",
   "execution_count": 147,
   "metadata": {},
   "outputs": [],
   "source": [
    "pure_py_df = df_confuslist_index_head_pure_python()"
   ]
  },
  {
   "cell_type": "code",
   "execution_count": 150,
   "metadata": {},
   "outputs": [
    {
     "data": {
      "text/plain": [
       "True"
      ]
     },
     "execution_count": 150,
     "metadata": {},
     "output_type": "execute_result"
    }
   ],
   "source": [
    "pandas_index.equals(pure_py_df)"
   ]
  },
  {
   "cell_type": "markdown",
   "metadata": {},
   "source": [
    "Ok, then we time that..."
   ]
  },
  {
   "cell_type": "code",
   "execution_count": 154,
   "metadata": {},
   "outputs": [
    {
     "name": "stdout",
     "output_type": "stream",
     "text": [
      "418 ms ± 128 ms per loop (mean ± std. dev. of 7 runs, 1 loop each)\n"
     ]
    }
   ],
   "source": [
    "%timeit df_confuslist_index_head_pure_python()"
   ]
  },
  {
   "cell_type": "markdown",
   "metadata": {},
   "source": [
    "# short.ldcalc"
   ]
  },
  {
   "cell_type": "code",
   "execution_count": null,
   "metadata": {},
   "outputs": [],
   "source": []
  },
  {
   "cell_type": "markdown",
   "metadata": {},
   "source": [
    "# ldcalc.ambi"
   ]
  },
  {
   "cell_type": "code",
   "execution_count": null,
   "metadata": {},
   "outputs": [],
   "source": []
  },
  {
   "cell_type": "markdown",
   "metadata": {},
   "source": [
    "# ldcalc"
   ]
  },
  {
   "cell_type": "code",
   "execution_count": null,
   "metadata": {},
   "outputs": [],
   "source": []
  },
  {
   "cell_type": "markdown",
   "metadata": {},
   "source": [
    "# ldcalc.ranked"
   ]
  },
  {
   "cell_type": "code",
   "execution_count": null,
   "metadata": {},
   "outputs": [],
   "source": []
  }
 ],
 "metadata": {
  "kernelspec": {
   "display_name": "Python 3",
   "language": "python",
   "name": "python3"
  },
  "language_info": {
   "codemirror_mode": {
    "name": "ipython",
    "version": 3
   },
   "file_extension": ".py",
   "mimetype": "text/x-python",
   "name": "python",
   "nbconvert_exporter": "python",
   "pygments_lexer": "ipython3",
   "version": "3.6.6"
  }
 },
 "nbformat": 4,
 "nbformat_minor": 2
}
