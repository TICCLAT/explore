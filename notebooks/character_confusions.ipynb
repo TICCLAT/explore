{
 "cells": [
  {
   "cell_type": "code",
   "execution_count": null,
   "metadata": {},
   "outputs": [],
   "source": [
    "%load_ext autoreload\n",
    "%autoreload 2"
   ]
  },
  {
   "cell_type": "code",
   "execution_count": null,
   "metadata": {},
   "outputs": [],
   "source": [
    "from tqdm import tqdm_notebook as tqdm\n",
    "\n",
    "in_file = '/Users/jvdzwaan/data/ticclat/ALPH/nld.aspell.dict.clip20.lc.LD3.charconfus.clip20.ld3.charconfus'\n",
    "\n",
    "max_val = 0\n",
    "\n",
    "with open(in_file) as f:\n",
    "    for line in tqdm(f.readlines()):\n",
    "        parts = line.split('#')\n",
    "\n",
    "        if len(parts) == 2:\n",
    "            v = int(parts[0])\n",
    "            if v > max_val:\n",
    "                max_val = v"
   ]
  },
  {
   "cell_type": "code",
   "execution_count": null,
   "metadata": {},
   "outputs": [],
   "source": [
    "max_val"
   ]
  }
 ],
 "metadata": {
  "language_info": {
   "name": "python",
   "pygments_lexer": "ipython3"
  }
 },
 "nbformat": 4,
 "nbformat_minor": 2
}
