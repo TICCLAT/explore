{
 "cells": [
  {
   "cell_type": "code",
   "execution_count": null,
   "metadata": {},
   "outputs": [],
   "source": [
    "%load_ext autoreload\n",
    "%autoreload 2"
   ]
  },
  {
   "cell_type": "code",
   "execution_count": null,
   "metadata": {},
   "outputs": [],
   "source": [
    "import logging\n",
    "\n",
    "logging.basicConfig(format=\"%(asctime)s [%(process)d] %(levelname)-8s \"\n",
    "                    \"%(name)s,%(lineno)s\\t%(message)s\")\n",
    "logging.getLogger().setLevel('INFO')"
   ]
  },
  {
   "cell_type": "code",
   "execution_count": null,
   "metadata": {},
   "outputs": [],
   "source": [
    "%matplotlib inline\n",
    "\n",
    "import numpy as np\n",
    "import pandas as pd\n",
    "import matplotlib.pyplot as plt\n",
    "\n",
    "\n",
    "from tqdm import tqdm_notebook as tqdm"
   ]
  },
  {
   "cell_type": "code",
   "execution_count": null,
   "metadata": {},
   "outputs": [],
   "source": [
    "# Read information to connect to the database and put it in environment variables\n",
    "import os\n",
    "with open('ENVVARS.txt') as f:\n",
    "    for line in f:\n",
    "        parts = line.split('=')\n",
    "        if len(parts) == 2:\n",
    "            os.environ[parts[0]] = parts[1].strip()"
   ]
  },
  {
   "cell_type": "code",
   "execution_count": null,
   "metadata": {},
   "outputs": [],
   "source": [
    "db_name = 'ticclat_test'\n",
    "#db_name = 'ticclat_wikipedia'\n",
    "os.environ['dbname'] = db_name"
   ]
  },
  {
   "cell_type": "code",
   "execution_count": null,
   "metadata": {},
   "outputs": [],
   "source": [
    "from ticclat.ticclat_schema import Lexicon, Wordform, Anahash, Document, Corpus, WordformLink, WordformLinkSource, lexical_source_wordform\n",
    "\n",
    "from ticclat.dbutils import get_session, session_scope\n",
    "\n",
    "Session = get_session(os.environ['user'], os.environ['password'], os.environ['dbname'])"
   ]
  },
  {
   "cell_type": "code",
   "execution_count": null,
   "metadata": {},
   "outputs": [],
   "source": [
    "%%time\n",
    "from sqlalchemy import select\n",
    "from sqlalchemy import text\n",
    "from sqlalchemy.sql import func, desc\n",
    "\n",
    "num_wordforms = 5\n",
    "\n",
    "vocabulary = {}\n",
    "\n",
    "# select random wordforms\n",
    "with session_scope(Session) as session:\n",
    "    q = select([Wordform]).order_by(func.random()).limit(num_wordforms)\n",
    "    \n",
    "    r = session.execute(q)\n",
    "    for row in r.fetchall():\n",
    "        vocabulary[row['wordform']] = row['wordform_id'] \n",
    "print(len(vocabulary))"
   ]
  },
  {
   "cell_type": "code",
   "execution_count": null,
   "metadata": {},
   "outputs": [],
   "source": [
    "from faker import Faker\n",
    "fake = Faker()\n",
    "\n",
    "num_corpora = np.random.randint(3, 10)\n",
    "print('num corpora', num_corpora)\n",
    "\n",
    "for c in range(num_corpora):\n",
    "    corpus_name = 'Corpus {}'.format(i)\n",
    "    num_documents = np.random.randint(10, 100)\n",
    "    print('Corpus {}, {} documents'.format(c, num_documents))\n",
    "    for d in range(num_documents):\n",
    "        num_tokens = np.random.randint(100, 1000)\n",
    "        print('Document {}, {} tokens'.format(d, num_tokens))\n",
    "        \n",
    "        print(fake.words(nb=num_tokens, ext_word_list=vocabulary, unique=False))        \n",
    "        break\n",
    "            \n",
    "        "
   ]
  }
 ],
 "metadata": {
  "language_info": {
   "name": "python",
   "pygments_lexer": "ipython3"
  }
 },
 "nbformat": 4,
 "nbformat_minor": 2
}
