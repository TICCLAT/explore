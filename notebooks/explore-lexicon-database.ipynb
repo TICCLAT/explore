{
 "cells": [
  {
   "cell_type": "code",
   "execution_count": null,
   "metadata": {},
   "outputs": [],
   "source": [
    "%load_ext autoreload\n",
    "%autoreload 2"
   ]
  },
  {
   "cell_type": "markdown",
   "metadata": {},
   "source": [
    "To be able to query the database, make a file ``ENVVARS.txt`` in the notebooks directory, and add the following contents (fill in the blanks):\n",
    "\n",
    "```\n",
    "user=...\n",
    "password=...\n",
    "dbname=...\n",
    "\n",
    "```"
   ]
  },
  {
   "cell_type": "code",
   "execution_count": null,
   "metadata": {},
   "outputs": [],
   "source": [
    "# Read information to connect to the database and put it in environment variables\n",
    "import os\n",
    "with open('ENVVARS.txt') as f:\n",
    "    for line in f:\n",
    "        parts = line.split('=')\n",
    "        if len(parts) == 2:\n",
    "            os.environ[parts[0]] = parts[1].strip()"
   ]
  },
  {
   "cell_type": "code",
   "execution_count": null,
   "metadata": {},
   "outputs": [],
   "source": [
    "import MySQLdb\n",
    "import textwrap\n",
    "\n",
    "import pandas as pd\n",
    "\n",
    "\n",
    "def do_query(query):\n",
    "    cn = MySQLdb.connect(host='localhost', \n",
    "                         port=3306,\n",
    "                         user=os.environ.get('user'), \n",
    "                         passwd=os.environ.get('password'),\n",
    "                         db=os.environ.get('dbname'))\n",
    "    df_mysql = pd.read_sql(query, con=cn)    \n",
    "    cn.close()\n",
    "    # deduplicate columns\n",
    "    df_mysql = df_mysql.loc[:,~df_mysql.columns.duplicated()]\n",
    "    return df_mysql\n",
    "\n",
    "tables = do_query('SHOW TABLES;')\n",
    "tables"
   ]
  },
  {
   "cell_type": "code",
   "execution_count": null,
   "metadata": {},
   "outputs": [],
   "source": [
    "do_query('SELECT COUNT(*) FROM analyzed_wordforms;')"
   ]
  },
  {
   "cell_type": "code",
   "execution_count": null,
   "metadata": {},
   "outputs": [],
   "source": [
    "do_query('SELECT COUNT(*) FROM wordforms;')"
   ]
  },
  {
   "cell_type": "code",
   "execution_count": null,
   "metadata": {},
   "outputs": [],
   "source": [
    "do_query('SELECT COUNT(*) from documents;')"
   ]
  },
  {
   "cell_type": "code",
   "execution_count": null,
   "metadata": {},
   "outputs": [],
   "source": [
    "do_query('SELECT * from corpora;')"
   ]
  },
  {
   "cell_type": "markdown",
   "metadata": {},
   "source": [
    "There are more documents in the database than wordforms/analyzed wordforms? That is strange..."
   ]
  },
  {
   "cell_type": "code",
   "execution_count": null,
   "metadata": {},
   "outputs": [],
   "source": [
    "do_query('SELECT * FROM wordforms ORDER BY RAND() LIMIT 10;')"
   ]
  },
  {
   "cell_type": "code",
   "execution_count": null,
   "metadata": {},
   "outputs": [],
   "source": [
    "do_query('SELECT * FROM wordforms WHERE has_analysis != null LIMIT 10;')"
   ]
  },
  {
   "cell_type": "code",
   "execution_count": null,
   "metadata": {},
   "outputs": [],
   "source": [
    "do_query('SELECT * FROM analyzed_wordforms ORDER BY RAND() LIMIT 10;')"
   ]
  },
  {
   "cell_type": "code",
   "execution_count": null,
   "metadata": {},
   "outputs": [],
   "source": [
    "do_query('SELECT * FROM analyzed_wordforms WHERE verified_by IS NULL;')"
   ]
  },
  {
   "cell_type": "code",
   "execution_count": null,
   "metadata": {},
   "outputs": [],
   "source": [
    "do_query('SELECT * FROM wordforms WHERE has_analysis IS NOT NULL LIMIT 10;')"
   ]
  },
  {
   "cell_type": "code",
   "execution_count": null,
   "metadata": {},
   "outputs": [],
   "source": [
    "do_query('SELECT * FROM documents ORDER BY RAND() LIMIT 10;')"
   ]
  },
  {
   "cell_type": "code",
   "execution_count": null,
   "metadata": {},
   "outputs": [],
   "source": [
    "do_query('SELECT * FROM documents WHERE pub_year IS NOT NULL LIMIT 10;')"
   ]
  },
  {
   "cell_type": "code",
   "execution_count": null,
   "metadata": {},
   "outputs": [],
   "source": [
    "do_query('SELECT * FROM documents WHERE word_count IS NOT NULL LIMIT 10;')"
   ]
  },
  {
   "cell_type": "code",
   "execution_count": null,
   "metadata": {},
   "outputs": [],
   "source": [
    "query = \"\"\"\n",
    "SELECT * \n",
    "FROM analyzed_wordforms\n",
    "INNER JOIN wordforms ON analyzed_wordforms.wordform_id = wordforms.wordform_id\n",
    "\"\"\"\n",
    "do_query(query)"
   ]
  },
  {
   "cell_type": "code",
   "execution_count": null,
   "metadata": {},
   "outputs": [],
   "source": [
    "do_query('SELECT COUNT(*) FROM token_attestations;')"
   ]
  },
  {
   "cell_type": "code",
   "execution_count": null,
   "metadata": {},
   "outputs": [],
   "source": [
    "do_query('SELECT COUNT(*) FROM token_attestation_verifications;')"
   ]
  },
  {
   "cell_type": "code",
   "execution_count": null,
   "metadata": {},
   "outputs": [],
   "source": [
    "%%time\n",
    "# Which words occur in which documents?\n",
    "\n",
    "query = \"\"\"\n",
    "SELECT * \n",
    "FROM wordforms\n",
    "LEFT JOIN analyzed_wordforms ON analyzed_wordforms.wordform_id = wordforms.wordform_id\n",
    "LEFT JOIN token_attestations ON token_attestations.analyzed_wordform_id = analyzed_wordforms.analyzed_wordform_id\n",
    "LEFT JOIN documents ON documents.document_id = token_attestations.document_id\n",
    "\"\"\"\n",
    "tokens_in_documents = do_query(query)"
   ]
  },
  {
   "cell_type": "code",
   "execution_count": null,
   "metadata": {},
   "outputs": [],
   "source": [
    "tokens_in_documents[['wordform', 'analyzed_wordform_id', 'document_id']]"
   ]
  },
  {
   "cell_type": "code",
   "execution_count": null,
   "metadata": {},
   "outputs": [],
   "source": [
    "tokens_in_documents = tokens_in_documents.loc[:,~tokens_in_documents.columns.duplicated()]"
   ]
  },
  {
   "cell_type": "code",
   "execution_count": null,
   "metadata": {},
   "outputs": [],
   "source": [
    "tokens_in_documents.columns"
   ]
  },
  {
   "cell_type": "code",
   "execution_count": null,
   "metadata": {},
   "outputs": [],
   "source": [
    "token_counts = tokens_in_documents.groupby('document_id').count()"
   ]
  },
  {
   "cell_type": "code",
   "execution_count": null,
   "metadata": {},
   "outputs": [],
   "source": [
    "token_counts.sort_values('wordform')"
   ]
  },
  {
   "cell_type": "markdown",
   "metadata": {},
   "source": [
    "The lexicon seems to contain very short documents only (up to 16 words)."
   ]
  },
  {
   "cell_type": "markdown",
   "metadata": {},
   "source": [
    "## Paradigmatic expansions"
   ]
  },
  {
   "cell_type": "code",
   "execution_count": null,
   "metadata": {},
   "outputs": [],
   "source": [
    "wfs = do_query('SELECT * FROM analyzed_wordforms')"
   ]
  },
  {
   "cell_type": "code",
   "execution_count": null,
   "metadata": {},
   "outputs": [],
   "source": [
    "pos = wfs.groupby('part_of_speech').count()"
   ]
  },
  {
   "cell_type": "code",
   "execution_count": null,
   "metadata": {},
   "outputs": [],
   "source": [
    "pos.loc['CLITIC']"
   ]
  },
  {
   "cell_type": "code",
   "execution_count": null,
   "metadata": {},
   "outputs": [],
   "source": [
    "pos_tags = list(pos.index)\n",
    "pos_tags.sort()\n",
    "print(pos_tags)"
   ]
  },
  {
   "cell_type": "markdown",
   "metadata": {},
   "source": [
    "The database does not seem to follow documentation on using pos tag CLITIC for wordforms that consist of multiple words (e.g., 'kzag)."
   ]
  },
  {
   "cell_type": "code",
   "execution_count": null,
   "metadata": {},
   "outputs": [],
   "source": [
    "do_query('SELECT * FROM analyzed_wordforms WHERE lemma_id is NULL;')"
   ]
  },
  {
   "cell_type": "code",
   "execution_count": null,
   "metadata": {},
   "outputs": [],
   "source": [
    "do_query('SELECT * FROM analyzed_wordforms WHERE multiple_lemmata_analysis_id IS NOT NULL;')"
   ]
  },
  {
   "cell_type": "code",
   "execution_count": null,
   "metadata": {},
   "outputs": [],
   "source": [
    "do_query('SELECT * FROM analyzed_wordforms WHERE multiple_lemmata_analysis_id != 0;')"
   ]
  },
  {
   "cell_type": "markdown",
   "metadata": {},
   "source": [
    "Hypothesis: if `multiple_lemmata_analysis_id` is 0 (instead of `NULL`), the wordform does not have clitics."
   ]
  },
  {
   "cell_type": "code",
   "execution_count": null,
   "metadata": {},
   "outputs": [],
   "source": [
    "%%time\n",
    "# Find all forms of a lemma (ignore wordforms that consist of multiple lemmas)\n",
    "\n",
    "query = \"\"\"\n",
    "SELECT * \n",
    "FROM wordforms\n",
    "LEFT JOIN analyzed_wordforms ON analyzed_wordforms.wordform_id = wordforms.wordform_id\n",
    "LEFT JOIN lemmata ON analyzed_wordforms.lemma_id = lemmata.lemma_id\n",
    "\"\"\"\n",
    "lemmaforms = do_query(query)"
   ]
  },
  {
   "cell_type": "code",
   "execution_count": null,
   "metadata": {},
   "outputs": [],
   "source": [
    "lemmaforms"
   ]
  },
  {
   "cell_type": "code",
   "execution_count": null,
   "metadata": {},
   "outputs": [],
   "source": [
    "lemmaforms.query('lemma_id == 243876')"
   ]
  },
  {
   "cell_type": "markdown",
   "metadata": {},
   "source": [
    "Issue: when you expand a lemma, you get a lot of wordforms that are only a part of a word. For example, the lemma *aankijken* (id: 219562) contains words like *aan* and *kijken*. The pos tag specifies whether it is a `prefixPart` \n",
    "or a `mainPart`. This is strange, why put this in the pos tag field?\n",
    "\n",
    "The lemma also has a pos tag field that specifies that it is a verb (in this case).\n",
    "\n",
    "Is it possible to determine which parts belong together? I don't think so... It also doesn't seem relevant, because we are mainly interested in token-level things (the parts are treated as different tokens from the perspective of ticcl)."
   ]
  },
  {
   "cell_type": "code",
   "execution_count": null,
   "metadata": {},
   "outputs": [],
   "source": [
    "lemma_ids = set(lemmaforms['lemma_id'])"
   ]
  },
  {
   "cell_type": "code",
   "execution_count": null,
   "metadata": {},
   "outputs": [],
   "source": [
    "print(len(lemma_ids))"
   ]
  },
  {
   "cell_type": "code",
   "execution_count": null,
   "metadata": {},
   "outputs": [],
   "source": [
    "%%time\n",
    "# which lemmas are associated with a wordform?\n",
    "lemmaforms.groupby('wordform_id').count()"
   ]
  },
  {
   "cell_type": "code",
   "execution_count": null,
   "metadata": {},
   "outputs": [],
   "source": [
    "lemmaforms.query('wordform_id == 528978')"
   ]
  },
  {
   "cell_type": "code",
   "execution_count": null,
   "metadata": {},
   "outputs": [],
   "source": [
    "%%time\n",
    "# remove parts from lemmaforms\n",
    "def is_part(row):\n",
    "    if row['part_of_speech'] is not None:\n",
    "        return row['part_of_speech'].isupper() and not row['part_of_speech'].endswith('_CONTRACT')\n",
    "    return False\n",
    "\n",
    "complete_lemmaforms = lemmaforms[lemmaforms.apply(lambda row: is_part(row), axis=1)]"
   ]
  },
  {
   "cell_type": "code",
   "execution_count": null,
   "metadata": {},
   "outputs": [],
   "source": [
    "complete_lemmaforms"
   ]
  },
  {
   "cell_type": "markdown",
   "metadata": {},
   "source": [
    "## Morphological analysis\n",
    "\n",
    "The lexicon does not seem to contain morphological analyses or rules for automatically expanding words/inflections."
   ]
  },
  {
   "cell_type": "code",
   "execution_count": null,
   "metadata": {},
   "outputs": [],
   "source": [
    "query = \"\"\"\n",
    "SELECT * FROM morphological_operations\n",
    "\"\"\"\n",
    "do_query(query)"
   ]
  },
  {
   "cell_type": "code",
   "execution_count": null,
   "metadata": {},
   "outputs": [],
   "source": [
    "query = \"\"\"\n",
    "SELECT * FROM morphological_analyses\n",
    "\"\"\"\n",
    "do_query(query)"
   ]
  },
  {
   "cell_type": "code",
   "execution_count": null,
   "metadata": {},
   "outputs": [],
   "source": [
    "query = \"\"\"\n",
    "SELECT * FROM part_morphological_analysis\n",
    "\"\"\"\n",
    "do_query(query)"
   ]
  },
  {
   "cell_type": "markdown",
   "metadata": {},
   "source": [
    "## Morphosintactic conversion \n",
    "\n",
    "Morphosyntactic conversion: transcategorization"
   ]
  },
  {
   "cell_type": "code",
   "execution_count": null,
   "metadata": {},
   "outputs": [],
   "source": [
    "query = \"\"\"\n",
    "SELECT * FROM conversion_rules\n",
    "\"\"\"\n",
    "do_query(query)"
   ]
  },
  {
   "cell_type": "code",
   "execution_count": null,
   "metadata": {},
   "outputs": [],
   "source": [
    "query = \"\"\"\n",
    "SELECT * FROM transcategorizations\n",
    "\"\"\"\n",
    "do_query(query)"
   ]
  },
  {
   "cell_type": "code",
   "execution_count": null,
   "metadata": {},
   "outputs": [],
   "source": [
    "query = \"\"\"\n",
    "SELECT * FROM transformsets\n",
    "\"\"\"\n",
    "do_query(query)"
   ]
  },
  {
   "cell_type": "markdown",
   "metadata": {},
   "source": [
    "## Orthographic information\n",
    "\n",
    "From wikipedia: An orthography is a set of conventions for writing a language. It includes norms of spelling, hyphenation, capitalization, word breaks, emphasis, and punctuation. (https://en.wikipedia.org/wiki/Orthography)\n",
    "\n",
    "Also not present in the lexicon."
   ]
  },
  {
   "cell_type": "code",
   "execution_count": null,
   "metadata": {},
   "outputs": [],
   "source": [
    "query = \"\"\"\n",
    "SELECT * FROM derivations\n",
    "\"\"\"\n",
    "do_query(query)"
   ]
  },
  {
   "cell_type": "code",
   "execution_count": null,
   "metadata": {},
   "outputs": [],
   "source": [
    "query = \"\"\"\n",
    "SELECT * FROM pattern_applications\n",
    "\"\"\"\n",
    "do_query(query)"
   ]
  },
  {
   "cell_type": "code",
   "execution_count": null,
   "metadata": {},
   "outputs": [],
   "source": [
    "query = \"\"\"\n",
    "SELECT * FROM patterns\n",
    "\"\"\"\n",
    "do_query(query)"
   ]
  }
 ],
 "metadata": {
  "language_info": {
   "name": "python",
   "pygments_lexer": "ipython3"
  }
 },
 "nbformat": 4,
 "nbformat_minor": 2
}
