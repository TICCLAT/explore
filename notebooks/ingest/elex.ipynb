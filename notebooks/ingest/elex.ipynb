{
 "cells": [
  {
   "cell_type": "code",
   "execution_count": null,
   "metadata": {},
   "outputs": [],
   "source": [
    "%load_ext autoreload\n",
    "%autoreload 2"
   ]
  },
  {
   "cell_type": "code",
   "execution_count": null,
   "metadata": {},
   "outputs": [],
   "source": [
    "import logging\n",
    "\n",
    "logging.basicConfig(format=\"%(asctime)s [%(process)d] %(levelname)-8s \"\n",
    "                    \"%(name)s,%(lineno)s\\t%(message)s\")\n",
    "logging.getLogger().setLevel('INFO')"
   ]
  },
  {
   "cell_type": "code",
   "execution_count": null,
   "metadata": {},
   "outputs": [],
   "source": [
    "%matplotlib inline\n",
    "\n",
    "import numpy as np\n",
    "import pandas as pd\n",
    "import matplotlib.pyplot as plt\n",
    "\n",
    "\n",
    "from tqdm import tqdm_notebook as tqdm"
   ]
  },
  {
   "cell_type": "code",
   "execution_count": null,
   "metadata": {},
   "outputs": [],
   "source": [
    "# Read information to connect to the database and put it in environment variables\n",
    "import os\n",
    "with open('../ENVVARS.txt') as f:\n",
    "    for line in f:\n",
    "        parts = line.split('=')\n",
    "        if len(parts) == 2:\n",
    "            os.environ[parts[0]] = parts[1].strip()"
   ]
  },
  {
   "cell_type": "code",
   "execution_count": null,
   "metadata": {},
   "outputs": [],
   "source": [
    "db_name = 'ticclat'\n",
    "os.environ['dbname'] = db_name"
   ]
  },
  {
   "cell_type": "code",
   "execution_count": null,
   "metadata": {},
   "outputs": [],
   "source": [
    "import os\n",
    "from ticclat.dbutils import create_ticclat_database\n",
    "\n",
    "create_ticclat_database(dbname=os.environ['dbname'], user=os.environ['user'], passwd=os.environ['password'])"
   ]
  },
  {
   "cell_type": "code",
   "execution_count": null,
   "metadata": {},
   "outputs": [],
   "source": [
    "from ticclat.ticclat_schema import Lexicon, Wordform, Anahash, Document, Corpus, WordformLink, WordformLinkSource\n",
    "\n",
    "from ticclat.dbutils import get_session, session_scope\n",
    "\n",
    "Session = get_session(os.environ['user'], os.environ['password'], os.environ['dbname'])"
   ]
  },
  {
   "cell_type": "code",
   "execution_count": null,
   "metadata": {},
   "outputs": [],
   "source": [
    "elex_words_file = '/home/jvdzwaan/data/ticclat/TICCLAT/elex/e-Lex-1.1.uniq.utf8.txt'\n",
    "elex_lemma_file = '/home/jvdzwaan/data/ticclat/TICCLAT/elex/e-Lex-1.1.lemma_wordform.utf8.nonumbers.tsv'\n",
    "\n",
    "l_wf_pairs = pd.read_csv(elex_lemma_file, sep='\\t', header=None)\n",
    "l_wf_pairs.columns = ['lemma', 'variant']\n",
    "print(l_wf_pairs.shape)\n",
    "l_wf_pairs.head()"
   ]
  },
  {
   "cell_type": "code",
   "execution_count": null,
   "metadata": {},
   "outputs": [],
   "source": [
    "%%time\n",
    "from ticclat.dbutils import add_lexicon_with_links\n",
    "\n",
    "with session_scope(Session) as session:\n",
    "    name = 'e-Lex-1.1.lemma_wordform.utf8.nonumbers'\n",
    "    vocabulary = True\n",
    "    from_column = 'lemma'\n",
    "    from_correct = True\n",
    "    to_column = 'variant'\n",
    "    to_correct = True\n",
    "    \n",
    "    add_lexicon_with_links(session, name, vocabulary, l_wf_pairs, from_column, to_column, from_correct, to_correct)"
   ]
  }
 ],
 "metadata": {
  "language_info": {
   "name": "python",
   "pygments_lexer": "ipython3"
  }
 },
 "nbformat": 4,
 "nbformat_minor": 2
}
