{
 "cells": [
  {
   "cell_type": "code",
   "execution_count": 1,
   "metadata": {},
   "outputs": [],
   "source": [
    "%load_ext autoreload\n",
    "%autoreload 2"
   ]
  },
  {
   "cell_type": "code",
   "execution_count": 2,
   "metadata": {},
   "outputs": [],
   "source": [
    "import logging\n",
    "\n",
    "logging.basicConfig(format=\"%(asctime)s [%(process)d] %(levelname)-8s \"\n",
    "                    \"%(name)s,%(lineno)s\\t%(message)s\")\n",
    "logging.getLogger().setLevel('INFO')"
   ]
  },
  {
   "cell_type": "code",
   "execution_count": 3,
   "metadata": {},
   "outputs": [],
   "source": [
    "#matplotlib inline\n",
    "\n",
    "import numpy as np\n",
    "import pandas as pd\n",
    "#import matplotlib.pyplot as plt\n",
    "\n",
    "from tqdm import tqdm_notebook as tqdm"
   ]
  },
  {
   "cell_type": "code",
   "execution_count": 4,
   "metadata": {},
   "outputs": [],
   "source": [
    "# Read information to connect to the database and put it in environment variables\n",
    "import os\n",
    "with open('../ENVVARS.txt') as f:\n",
    "    for line in f:\n",
    "        parts = line.split('=')\n",
    "        if len(parts) == 2:\n",
    "            os.environ[parts[0]] = parts[1].strip()"
   ]
  },
  {
   "cell_type": "code",
   "execution_count": 5,
   "metadata": {},
   "outputs": [],
   "source": [
    "from ticclat.ticclat_schema import Lexicon, Wordform, Anahash\n",
    "\n",
    "from ticclat.dbutils import get_session, session_scope\n",
    "\n",
    "Session = get_session(os.environ['user'], os.environ['password'], os.environ['dbname'])"
   ]
  },
  {
   "cell_type": "code",
   "execution_count": 12,
   "metadata": {},
   "outputs": [],
   "source": [
    "import json\n",
    "\n",
    "data_file = '/Users/jvdzwaan/Downloads/ticclat_morph_data_v2.json'\n",
    "\n",
    "with open(data_file) as f:\n",
    "    data = json.load(f)"
   ]
  },
  {
   "cell_type": "code",
   "execution_count": 19,
   "metadata": {},
   "outputs": [
    {
     "data": {
      "text/plain": [
       "559827"
      ]
     },
     "execution_count": 19,
     "metadata": {},
     "output_type": "execute_result"
    }
   ],
   "source": [
    "len(data.keys())"
   ]
  },
  {
   "cell_type": "code",
   "execution_count": 55,
   "metadata": {},
   "outputs": [
    {
     "data": {
      "text/plain": [
       "{'morph_par': {'Z0001Y0001X0023W00000004V0001_HDU003': {'Z': '0001',\n",
       "   'Y': '0001',\n",
       "   'X': '0023',\n",
       "   'W': '00000004',\n",
       "   'V': '0001',\n",
       "   'h': 'HDU',\n",
       "   't': '003'},\n",
       "  'Z0001Y0001X0022W00000101V0013_HDU011': {'Z': '0001',\n",
       "   'Y': '0001',\n",
       "   'X': '0022',\n",
       "   'W': '00000101',\n",
       "   'V': '0013',\n",
       "   'h': 'HDU',\n",
       "   't': '011'}},\n",
       " 'dict_ids': ['MNW_08286_s',\n",
       "  'MNW_08282_s',\n",
       "  'MNW_08283_s',\n",
       "  'MNW_08284_s',\n",
       "  'MNW_08287_s',\n",
       "  'WNT_M015579_s'],\n",
       " 'pos': ['NUM', 'ART', 'PRN', 'ADJ', 'NOU-C'],\n",
       " 'int_ids': ['INT_252671', 'INT_28854', 'INT_321512']}"
      ]
     },
     "execution_count": 55,
     "metadata": {},
     "output_type": "execute_result"
    }
   ],
   "source": [
    "data['1']"
   ]
  },
  {
   "cell_type": "code",
   "execution_count": 6,
   "metadata": {},
   "outputs": [
    {
     "data": {
      "text/html": [
       "<div>\n",
       "<style scoped>\n",
       "    .dataframe tbody tr th:only-of-type {\n",
       "        vertical-align: middle;\n",
       "    }\n",
       "\n",
       "    .dataframe tbody tr th {\n",
       "        vertical-align: top;\n",
       "    }\n",
       "\n",
       "    .dataframe thead th {\n",
       "        text-align: right;\n",
       "    }\n",
       "</style>\n",
       "<table border=\"1\" class=\"dataframe\">\n",
       "  <thead>\n",
       "    <tr style=\"text-align: right;\">\n",
       "      <th></th>\n",
       "      <th>wordform</th>\n",
       "      <th>corpus_freq</th>\n",
       "      <th>component_codes</th>\n",
       "      <th>ignore_human_readable_component_code</th>\n",
       "      <th>igore_first_year</th>\n",
       "      <th>ignore_last_year</th>\n",
       "      <th>dict_ids</th>\n",
       "      <th>pos_tags</th>\n",
       "      <th>int_ids</th>\n",
       "    </tr>\n",
       "  </thead>\n",
       "  <tbody>\n",
       "    <tr>\n",
       "      <th>1</th>\n",
       "      <td>%</td>\n",
       "      <td>NaN</td>\n",
       "      <td>Z0001Y0007X2124W00006579V0001_HDU002</td>\n",
       "      <td>Z1Y7X2124W6579V1_HDU2</td>\n",
       "      <td>1872</td>\n",
       "      <td>1872</td>\n",
       "      <td>WNT_M052997_m#WNT_M052997_s</td>\n",
       "      <td>NOU-C</td>\n",
       "      <td>INT_360068</td>\n",
       "    </tr>\n",
       "    <tr>\n",
       "      <th>2</th>\n",
       "      <td>%%%windstreek</td>\n",
       "      <td>NaN</td>\n",
       "      <td>Z0001Y0003X2578W00054310V0001_HDU001</td>\n",
       "      <td>Z1Y3X2578W54310V1_HDU1</td>\n",
       "      <td>1808</td>\n",
       "      <td>1808</td>\n",
       "      <td>WNT_M086612_s</td>\n",
       "      <td>NOU-C</td>\n",
       "      <td>INT_319930</td>\n",
       "    </tr>\n",
       "    <tr>\n",
       "      <th>3</th>\n",
       "      <td>&amp;ldquor</td>\n",
       "      <td>NaN</td>\n",
       "      <td>Z0001Y0007X1400W00000286V0001_HDU059#Z0001Y000...</td>\n",
       "      <td>Z1Y7X1400W286V1_HDU59#Z1Y1X694W4560V6_HDU</td>\n",
       "      <td>1541</td>\n",
       "      <td>1541</td>\n",
       "      <td>MNW_70757_s#MNW_70680_s#WNT_M084040_s</td>\n",
       "      <td>NOU-C</td>\n",
       "      <td>INT_17349#INT_368858</td>\n",
       "    </tr>\n",
       "    <tr>\n",
       "      <th>4</th>\n",
       "      <td>'j</td>\n",
       "      <td>0.0</td>\n",
       "      <td>Z0001Y0015X1874W00000031V0003_HCM</td>\n",
       "      <td>Z1Y15X1874W31V3_HCM</td>\n",
       "      <td>NaN</td>\n",
       "      <td>NaN</td>\n",
       "      <td>NaN</td>\n",
       "      <td>NaN</td>\n",
       "      <td>NaN</td>\n",
       "    </tr>\n",
       "    <tr>\n",
       "      <th>5</th>\n",
       "      <td>'k</td>\n",
       "      <td>16860.0</td>\n",
       "      <td>Z0001Y0009X0925W00000016V0006_HCM</td>\n",
       "      <td>Z1Y9X925W16V6_HCM</td>\n",
       "      <td>NaN</td>\n",
       "      <td>NaN</td>\n",
       "      <td>NaN</td>\n",
       "      <td>NaN</td>\n",
       "      <td>NaN</td>\n",
       "    </tr>\n",
       "  </tbody>\n",
       "</table>\n",
       "</div>"
      ],
      "text/plain": [
       "        wordform  corpus_freq  \\\n",
       "1              %          NaN   \n",
       "2  %%%windstreek          NaN   \n",
       "3        &ldquor          NaN   \n",
       "4             'j          0.0   \n",
       "5             'k      16860.0   \n",
       "\n",
       "                                     component_codes  \\\n",
       "1               Z0001Y0007X2124W00006579V0001_HDU002   \n",
       "2               Z0001Y0003X2578W00054310V0001_HDU001   \n",
       "3  Z0001Y0007X1400W00000286V0001_HDU059#Z0001Y000...   \n",
       "4                  Z0001Y0015X1874W00000031V0003_HCM   \n",
       "5                  Z0001Y0009X0925W00000016V0006_HCM   \n",
       "\n",
       "        ignore_human_readable_component_code igore_first_year  \\\n",
       "1                      Z1Y7X2124W6579V1_HDU2             1872   \n",
       "2                     Z1Y3X2578W54310V1_HDU1             1808   \n",
       "3  Z1Y7X1400W286V1_HDU59#Z1Y1X694W4560V6_HDU             1541   \n",
       "4                        Z1Y15X1874W31V3_HCM              NaN   \n",
       "5                          Z1Y9X925W16V6_HCM              NaN   \n",
       "\n",
       "  ignore_last_year                               dict_ids pos_tags  \\\n",
       "1             1872            WNT_M052997_m#WNT_M052997_s    NOU-C   \n",
       "2             1808                          WNT_M086612_s    NOU-C   \n",
       "3             1541  MNW_70757_s#MNW_70680_s#WNT_M084040_s    NOU-C   \n",
       "4              NaN                                    NaN      NaN   \n",
       "5              NaN                                    NaN      NaN   \n",
       "\n",
       "                int_ids  \n",
       "1            INT_360068  \n",
       "2            INT_319930  \n",
       "3  INT_17349#INT_368858  \n",
       "4                   NaN  \n",
       "5                   NaN  "
      ]
     },
     "execution_count": 6,
     "metadata": {},
     "output_type": "execute_result"
    }
   ],
   "source": [
    "data_file = '/Users/jvdzwaan/Downloads/CombilexTypolistINThistlex.TICCLATingest.DeriveParadigms265.tsv'\n",
    "\n",
    "data = pd.read_csv(data_file, sep='\\t', names=['wordform', \n",
    "                                                'corpus_freq', \n",
    "                                                'component_codes', \n",
    "                                                'ignore_human_readable_component_code', \n",
    "                                                'igore_first_year',\n",
    "                                                'ignore_last_year',\n",
    "                                                'dict_ids',\n",
    "                                                'pos_tags',\n",
    "                                                'int_ids'])\n",
    "data = data.drop([0]) # drop first row (contains empty wordform)\n",
    "data.head()"
   ]
  },
  {
   "cell_type": "code",
   "execution_count": 95,
   "metadata": {},
   "outputs": [],
   "source": [
    "data = data.head(100)"
   ]
  },
  {
   "cell_type": "code",
   "execution_count": 11,
   "metadata": {},
   "outputs": [
    {
     "data": {
      "text/html": [
       "<div>\n",
       "<style scoped>\n",
       "    .dataframe tbody tr th:only-of-type {\n",
       "        vertical-align: middle;\n",
       "    }\n",
       "\n",
       "    .dataframe tbody tr th {\n",
       "        vertical-align: top;\n",
       "    }\n",
       "\n",
       "    .dataframe thead th {\n",
       "        text-align: right;\n",
       "    }\n",
       "</style>\n",
       "<table border=\"1\" class=\"dataframe\">\n",
       "  <thead>\n",
       "    <tr style=\"text-align: right;\">\n",
       "      <th></th>\n",
       "      <th>wordform</th>\n",
       "    </tr>\n",
       "  </thead>\n",
       "  <tbody>\n",
       "    <tr>\n",
       "      <th>1</th>\n",
       "      <td>%</td>\n",
       "    </tr>\n",
       "    <tr>\n",
       "      <th>2</th>\n",
       "      <td>%%%windstreek</td>\n",
       "    </tr>\n",
       "    <tr>\n",
       "      <th>3</th>\n",
       "      <td>&amp;ldquor</td>\n",
       "    </tr>\n",
       "    <tr>\n",
       "      <th>4</th>\n",
       "      <td>'j</td>\n",
       "    </tr>\n",
       "    <tr>\n",
       "      <th>5</th>\n",
       "      <td>'k</td>\n",
       "    </tr>\n",
       "  </tbody>\n",
       "</table>\n",
       "</div>"
      ],
      "text/plain": [
       "        wordform\n",
       "1              %\n",
       "2  %%%windstreek\n",
       "3        &ldquor\n",
       "4             'j\n",
       "5             'k"
      ]
     },
     "execution_count": 11,
     "metadata": {},
     "output_type": "execute_result"
    }
   ],
   "source": [
    "wfs = data[['wordform']]\n",
    "wfs.head()"
   ]
  },
  {
   "cell_type": "code",
   "execution_count": 7,
   "metadata": {},
   "outputs": [
    {
     "name": "stdout",
     "output_type": "stream",
     "text": [
      "{'Z': 1, 'Y': 7, 'X': 2124, 'W': 6579, 'V': 1, 'word_type_code': 'HDU002', 'wordform': 'test'}\n",
      "None\n"
     ]
    }
   ],
   "source": [
    "import re\n",
    "\n",
    "def split_component_code(code, wf):\n",
    "    #regex=r'Z\\d{4}Y\\d{4}X\\d{4}W\\d{7}V\\d{4}_.+'\n",
    "    regex=r'Z(?P<Z>\\d{4})Y(?P<Y>\\d{4})X(?P<X>\\d{4})W(?P<W>\\d{8})V(?P<V>\\d{4})_(?P<wt_code>.+)'\n",
    "    #print(code)\n",
    "    m = re.search(regex, code)\n",
    "    if m:\n",
    "        #print(m)\n",
    "        #print(m.group('wt_code'))\n",
    "        return {'Z': int(m.group('Z')), \n",
    "                'Y': int(m.group('Y')), \n",
    "                'X': int(m.group('X')), \n",
    "                'W': int(m.group('W')), \n",
    "                'V': int(m.group('V')), \n",
    "                'word_type_code': m.group('wt_code'), \n",
    "                'wordform': wf}\n",
    "    else:\n",
    "        #print(wf, code)\n",
    "        return None\n",
    "\n",
    "print(split_component_code('Z0001Y0007X2124W00006579V0001_HDU002', 'test'))\n",
    "print(split_component_code('W00071259V0002_HCM', \"'m\"))\n"
   ]
  },
  {
   "cell_type": "code",
   "execution_count": 49,
   "metadata": {},
   "outputs": [
    {
     "name": "stdout",
     "output_type": "stream",
     "text": [
      "CPU times: user 50.3 s, sys: 261 ms, total: 50.5 s\n",
      "Wall time: 50.6 s\n"
     ]
    }
   ],
   "source": [
    "%%time\n",
    "from collections import defaultdict\n",
    "\n",
    "result = defaultdict(list)\n",
    "for row in data.iterrows():\n",
    "    codes = row[1]['component_codes'].split('#')\n",
    "    wf = row[1]['wordform']\n",
    "    for code in codes:\n",
    "        result[wf].append(split_component_code(code, wf))"
   ]
  },
  {
   "cell_type": "code",
   "execution_count": 9,
   "metadata": {},
   "outputs": [
    {
     "data": {
      "text/plain": [
       "[{'Z': 1,\n",
       "  'Y': 1,\n",
       "  'X': 23,\n",
       "  'W': 4,\n",
       "  'V': 1,\n",
       "  'word_type_code': 'HDU003',\n",
       "  'wordform': '1'},\n",
       " {'Z': 1,\n",
       "  'Y': 1,\n",
       "  'X': 22,\n",
       "  'W': 101,\n",
       "  'V': 13,\n",
       "  'word_type_code': 'HDU011',\n",
       "  'wordform': '1'}]"
      ]
     },
     "execution_count": 9,
     "metadata": {},
     "output_type": "execute_result"
    }
   ],
   "source": [
    "result['1']"
   ]
  },
  {
   "cell_type": "code",
   "execution_count": 23,
   "metadata": {},
   "outputs": [
    {
     "name": "stderr",
     "output_type": "stream",
     "text": [
      "2019-06-26 15:58:12,636 [16161] INFO     ticclat.dbutils,80\tBulk adding wordforms.\n"
     ]
    },
    {
     "name": "stdout",
     "output_type": "stream",
     "text": [
      "                    wordform\n",
      "393629            sijd-ganck\n",
      "490449        vertwijfeldste\n",
      "495002             vetranden\n",
      "260398        magnetiseerder\n",
      "477869            vergrendel\n",
      "437716        toebereydinghe\n",
      "44101                 asemde\n",
      "438023         toegankelijke\n",
      "171510  godsdienstsociologen\n",
      "297997         ondersneeuwen\n"
     ]
    },
    {
     "name": "stderr",
     "output_type": "stream",
     "text": [
      "\n",
      "  0%|          | 0/559827 [00:00<?, ?it/s]\u001b[A\n",
      "\n",
      "0it [00:00, ?it/s]\u001b[A\u001b[A\n",
      "\n",
      "10179it [00:00, 32003.69it/s]\u001b[A\u001b[A\n",
      "  2%|▏         | 10000/559827 [00:01<01:28, 6239.72it/s]\u001b[A\n",
      "\n",
      "0it [00:00, ?it/s]\u001b[A\u001b[A\n",
      "\n",
      "10179it [00:00, 32752.01it/s]\u001b[A\u001b[A\n",
      "  4%|▎         | 20000/559827 [00:03<01:23, 6452.34it/s]\u001b[A\n",
      "\n",
      "0it [00:00, ?it/s]\u001b[A\u001b[A\n",
      "\n",
      "10179it [00:00, 33944.95it/s]\u001b[A\u001b[A\n",
      "  5%|▌         | 30000/559827 [00:04<01:19, 6676.87it/s]\u001b[A\n",
      "\n",
      "0it [00:00, ?it/s]\u001b[A\u001b[A\n",
      "\n",
      "10179it [00:00, 32071.75it/s]\u001b[A\u001b[A\n",
      "  7%|▋         | 40000/559827 [00:05<01:16, 6804.93it/s]\u001b[A\n",
      "\n",
      "0it [00:00, ?it/s]\u001b[A\u001b[A\n",
      "\n",
      "10179it [00:00, 31479.31it/s]\u001b[A\u001b[A\n",
      "  9%|▉         | 50000/559827 [00:07<01:13, 6903.03it/s]\u001b[A\n",
      "\n",
      "0it [00:00, ?it/s]\u001b[A\u001b[A\n",
      "\n",
      "10179it [00:00, 31687.96it/s]\u001b[A\u001b[A\n",
      " 11%|█         | 60000/559827 [00:08<01:11, 6969.16it/s]\u001b[A\n",
      "\n",
      "0it [00:00, ?it/s]\u001b[A\u001b[A\n",
      "\n",
      "10179it [00:00, 31635.60it/s]\u001b[A\u001b[A\n",
      " 13%|█▎        | 70000/559827 [00:10<01:09, 7003.16it/s]\u001b[A\n",
      "\n",
      "0it [00:00, ?it/s]\u001b[A\u001b[A\n",
      "\n",
      "10179it [00:00, 32055.19it/s]\u001b[A\u001b[A\n",
      " 14%|█▍        | 80000/559827 [00:11<01:08, 7036.02it/s]\u001b[A\n",
      "\n",
      "0it [00:00, ?it/s]\u001b[A\u001b[A\n",
      "\n",
      "10179it [00:00, 30086.18it/s]\u001b[A\u001b[A\n",
      " 16%|█▌        | 90000/559827 [00:12<01:08, 6853.60it/s]\u001b[A\n",
      "\n",
      "0it [00:00, ?it/s]\u001b[A\u001b[A\n",
      "\n",
      "10179it [00:00, 31776.99it/s]\u001b[A\u001b[A\n",
      " 18%|█▊        | 100000/559827 [00:14<01:07, 6825.76it/s]\u001b[A\n",
      "\n",
      "0it [00:00, ?it/s]\u001b[A\u001b[A\n",
      "\n",
      "10179it [00:00, 30782.59it/s]\u001b[A\u001b[A\n",
      " 20%|█▉        | 110000/559827 [00:15<01:05, 6869.50it/s]\u001b[A\n",
      "\n",
      "0it [00:00, ?it/s]\u001b[A\u001b[A\n",
      "\n",
      "10179it [00:00, 28463.72it/s]\u001b[A\u001b[A\n",
      " 21%|██▏       | 120000/559827 [00:17<01:05, 6725.03it/s]\u001b[A\n",
      "\n",
      "0it [00:00, ?it/s]\u001b[A\u001b[A\n",
      "\n",
      "10179it [00:00, 30583.65it/s]\u001b[A\u001b[A\n",
      " 23%|██▎       | 130000/559827 [00:18<01:04, 6705.06it/s]\u001b[A\n",
      "\n",
      "0it [00:00, ?it/s]\u001b[A\u001b[A\n",
      "\n",
      "10179it [00:00, 30976.81it/s]\u001b[A\u001b[A\n",
      " 25%|██▌       | 140000/559827 [00:20<01:02, 6745.92it/s]\u001b[A\n",
      "\n",
      "0it [00:00, ?it/s]\u001b[A\u001b[A\n",
      "\n",
      "10179it [00:00, 29558.58it/s]\u001b[A\u001b[A\n",
      " 27%|██▋       | 150000/559827 [00:21<01:01, 6685.48it/s]\u001b[A\n",
      "\n",
      "0it [00:00, ?it/s]\u001b[A\u001b[A\n",
      "\n",
      "10179it [00:00, 31923.72it/s]\u001b[A\u001b[A\n",
      " 29%|██▊       | 160000/559827 [00:23<00:59, 6764.22it/s]\u001b[A\n",
      "\n",
      "0it [00:00, ?it/s]\u001b[A\u001b[A\n",
      "\n",
      "10179it [00:00, 32650.12it/s]\u001b[A\u001b[A\n",
      " 30%|███       | 170000/559827 [00:24<00:57, 6832.16it/s]\u001b[A\n",
      "\n",
      "0it [00:00, ?it/s]\u001b[A\u001b[A\n",
      "\n",
      "10179it [00:00, 32922.57it/s]\u001b[A\u001b[A\n",
      " 32%|███▏      | 180000/559827 [00:26<01:03, 5979.33it/s]\u001b[A\n",
      "\n",
      "0it [00:00, ?it/s]\u001b[A\u001b[A\n",
      "\n",
      "10179it [00:00, 31408.43it/s]\u001b[A\u001b[A\n",
      " 34%|███▍      | 190000/559827 [00:28<00:59, 6239.50it/s]\u001b[A\n",
      "\n",
      "0it [00:00, ?it/s]\u001b[A\u001b[A\n",
      "\n",
      "10179it [00:00, 31272.83it/s]\u001b[A\u001b[A\n",
      " 36%|███▌      | 200000/559827 [00:29<00:55, 6442.17it/s]\u001b[A\n",
      "\n",
      "0it [00:00, ?it/s]\u001b[A\u001b[A\n",
      "\n",
      "10179it [00:00, 31737.57it/s]\u001b[A\u001b[A\n",
      " 38%|███▊      | 210000/559827 [00:31<00:53, 6552.33it/s]\u001b[A\n",
      "\n",
      "0it [00:00, ?it/s]\u001b[A\u001b[A\n",
      "\n",
      "10179it [00:00, 31583.18it/s]\u001b[A\u001b[A\n",
      " 39%|███▉      | 220000/559827 [00:32<00:50, 6669.24it/s]\u001b[A\n",
      "\n",
      "0it [00:00, ?it/s]\u001b[A\u001b[A\n",
      "\n",
      "10179it [00:00, 32812.53it/s]\u001b[A\u001b[A\n",
      " 41%|████      | 230000/559827 [00:34<00:48, 6765.26it/s]\u001b[A\n",
      "\n",
      "0it [00:00, ?it/s]\u001b[A\u001b[A\n",
      "\n",
      "10179it [00:00, 30240.83it/s]\u001b[A\u001b[A\n",
      " 43%|████▎     | 240000/559827 [00:35<00:47, 6726.38it/s]\u001b[A\n",
      "\n",
      "0it [00:00, ?it/s]\u001b[A\u001b[A\n",
      "\n",
      "10179it [00:00, 32929.91it/s]\u001b[A\u001b[A\n",
      " 45%|████▍     | 250000/559827 [00:37<00:45, 6767.29it/s]\u001b[A\n",
      "\n",
      "0it [00:00, ?it/s]\u001b[A\u001b[A\n",
      "\n",
      "10179it [00:00, 31408.73it/s]\u001b[A\u001b[A\n",
      " 46%|████▋     | 260000/559827 [00:38<00:44, 6766.19it/s]\u001b[A\n",
      "\n",
      "0it [00:00, ?it/s]\u001b[A\u001b[A\n",
      "\n",
      "10179it [00:00, 31197.14it/s]\u001b[A\u001b[A\n",
      " 48%|████▊     | 270000/559827 [00:40<00:42, 6760.89it/s]\u001b[A\n",
      "\n",
      "0it [00:00, ?it/s]\u001b[A\u001b[A\n",
      "\n",
      "10179it [00:00, 29854.98it/s]\u001b[A\u001b[A\n",
      " 50%|█████     | 280000/559827 [00:41<00:42, 6620.41it/s]\u001b[A\n",
      "\n",
      "0it [00:00, ?it/s]\u001b[A\u001b[A\n",
      "\n",
      "10179it [00:00, 29284.67it/s]\u001b[A\u001b[A\n",
      " 52%|█████▏    | 290000/559827 [00:43<00:41, 6535.28it/s]\u001b[A\n",
      "\n",
      "0it [00:00, ?it/s]\u001b[A\u001b[A\n",
      "\n",
      "10179it [00:00, 32591.18it/s]\u001b[A\u001b[A\n",
      " 54%|█████▎    | 300000/559827 [00:44<00:39, 6578.74it/s]\u001b[A\n",
      "\n",
      "0it [00:00, ?it/s]\u001b[A\u001b[A\n",
      "\n",
      "10179it [00:00, 33201.02it/s]\u001b[A\u001b[A\n",
      " 55%|█████▌    | 310000/559827 [00:46<00:37, 6656.38it/s]\u001b[A\n",
      "\n",
      "0it [00:00, ?it/s]\u001b[A\u001b[A\n",
      "\n",
      "10179it [00:00, 32673.91it/s]\u001b[A\u001b[A\n",
      " 57%|█████▋    | 320000/559827 [00:47<00:36, 6640.87it/s]\u001b[A\n",
      "\n",
      "0it [00:00, ?it/s]\u001b[A\u001b[A\n",
      "\n",
      "10179it [00:00, 32231.51it/s]\u001b[A\u001b[A\n",
      " 59%|█████▉    | 330000/559827 [00:49<00:34, 6648.90it/s]\u001b[A\n",
      "\n",
      "0it [00:00, ?it/s]\u001b[A\u001b[A\n",
      "\n",
      "10179it [00:00, 32151.07it/s]\u001b[A\u001b[A\n",
      " 61%|██████    | 340000/559827 [00:50<00:33, 6593.13it/s]\u001b[A\n",
      "\n",
      "0it [00:00, ?it/s]\u001b[A\u001b[A\n",
      "\n",
      "10179it [00:00, 32180.08it/s]\u001b[A\u001b[A\n",
      " 63%|██████▎   | 350000/559827 [00:52<00:31, 6614.95it/s]\u001b[A\n",
      "\n",
      "0it [00:00, ?it/s]\u001b[A\u001b[A\n",
      "\n",
      "10179it [00:00, 31486.56it/s]\u001b[A\u001b[A\n",
      " 64%|██████▍   | 360000/559827 [00:53<00:30, 6632.86it/s]\u001b[A\n",
      "\n",
      "0it [00:00, ?it/s]\u001b[A\u001b[A\n",
      "\n",
      "10179it [00:00, 31786.72it/s]\u001b[A\u001b[A\n",
      " 66%|██████▌   | 370000/559827 [00:56<00:32, 5765.86it/s]\u001b[A\n",
      "\n",
      "0it [00:00, ?it/s]\u001b[A\u001b[A\n",
      "\n",
      "10178it [00:00, 31319.51it/s]\u001b[A\u001b[A\n",
      " 68%|██████▊   | 380000/559827 [00:57<00:30, 5992.54it/s]\u001b[A\n",
      "\n",
      "0it [00:00, ?it/s]\u001b[A\u001b[A\n",
      "\n",
      "10178it [00:00, 28871.40it/s]\u001b[A\u001b[A\n",
      " 70%|██████▉   | 390000/559827 [00:59<00:28, 6047.50it/s]\u001b[A\n",
      "\n",
      "0it [00:00, ?it/s]\u001b[A\u001b[A\n",
      "\n",
      "10178it [00:00, 30533.66it/s]\u001b[A\u001b[A\n",
      " 71%|███████▏  | 400000/559827 [01:00<00:25, 6185.09it/s]\u001b[A\n",
      "\n",
      "0it [00:00, ?it/s]\u001b[A\u001b[A\n",
      "\n",
      "10178it [00:00, 31336.39it/s]\u001b[A\u001b[A\n",
      " 73%|███████▎  | 410000/559827 [01:02<00:24, 6228.33it/s]\u001b[A\n",
      "\n",
      "0it [00:00, ?it/s]\u001b[A\u001b[A\n",
      "\n",
      "10178it [00:00, 31611.15it/s]\u001b[A\u001b[A\n",
      " 75%|███████▌  | 420000/559827 [01:03<00:22, 6331.11it/s]\u001b[A\n",
      "\n",
      "0it [00:00, ?it/s]\u001b[A\u001b[A\n",
      "\n",
      "10178it [00:00, 33439.47it/s]\u001b[A\u001b[A\n",
      " 77%|███████▋  | 430000/559827 [01:05<00:20, 6404.99it/s]\u001b[A\n",
      "\n",
      "0it [00:00, ?it/s]\u001b[A\u001b[A\n",
      "\n",
      "10178it [00:00, 30835.30it/s]\u001b[A\u001b[A\n",
      " 79%|███████▊  | 440000/559827 [01:06<00:18, 6437.99it/s]\u001b[A\n",
      "\n",
      "0it [00:00, ?it/s]\u001b[A\u001b[A\n",
      "\n",
      "10178it [00:00, 30633.94it/s]\u001b[A\u001b[A\n",
      " 80%|████████  | 450000/559827 [01:08<00:17, 6400.92it/s]\u001b[A\n",
      "\n",
      "0it [00:00, ?it/s]\u001b[A\u001b[A\n",
      "\n",
      "10178it [00:00, 30779.17it/s]\u001b[A\u001b[A\n",
      " 82%|████████▏ | 460000/559827 [01:10<00:15, 6387.61it/s]\u001b[A\n",
      "\n",
      "0it [00:00, ?it/s]\u001b[A\u001b[A\n",
      "\n",
      "10178it [00:00, 33610.31it/s]\u001b[A\u001b[A\n",
      " 84%|████████▍ | 470000/559827 [01:11<00:14, 6393.15it/s]\u001b[A\n",
      "\n",
      "0it [00:00, ?it/s]\u001b[A\u001b[A\n",
      "\n",
      "10178it [00:00, 31328.98it/s]\u001b[A\u001b[A\n",
      " 86%|████████▌ | 480000/559827 [01:13<00:12, 6421.89it/s]\u001b[A\n",
      "\n",
      "0it [00:00, ?it/s]\u001b[A\u001b[A\n",
      "\n",
      "10178it [00:00, 32623.26it/s]\u001b[A\u001b[A\n",
      " 88%|████████▊ | 490000/559827 [01:14<00:10, 6457.27it/s]\u001b[A\n",
      "\n",
      "0it [00:00, ?it/s]\u001b[A\u001b[A\n",
      "\n",
      "10178it [00:00, 33521.92it/s]\u001b[A\u001b[A\n",
      " 89%|████████▉ | 500000/559827 [01:16<00:09, 6401.50it/s]\u001b[A\n",
      "\n",
      "0it [00:00, ?it/s]\u001b[A\u001b[A\n",
      "\n",
      "10178it [00:00, 32255.91it/s]\u001b[A\u001b[A\n",
      " 91%|█████████ | 510000/559827 [01:17<00:07, 6409.35it/s]\u001b[A\n",
      "\n",
      "0it [00:00, ?it/s]\u001b[A\u001b[A\n",
      "\n",
      "10178it [00:00, 32628.20it/s]\u001b[A\u001b[A\n",
      " 93%|█████████▎| 520000/559827 [01:19<00:06, 6335.38it/s]\u001b[A\n",
      "\n",
      "0it [00:00, ?it/s]\u001b[A\u001b[A\n",
      "\n",
      "10178it [00:00, 32030.99it/s]\u001b[A\u001b[A\n",
      " 95%|█████████▍| 530000/559827 [01:20<00:04, 6354.31it/s]\u001b[A\n",
      "\n",
      "0it [00:00, ?it/s]\u001b[A\u001b[A\n",
      "\n",
      "10178it [00:00, 32484.37it/s]\u001b[A\u001b[A\n",
      " 96%|█████████▋| 540000/559827 [01:22<00:03, 6374.31it/s]\u001b[A\n",
      "\n",
      "0it [00:00, ?it/s]\u001b[A\u001b[A\n",
      "\n",
      "10178it [00:00, 30600.06it/s]\u001b[A\u001b[A\n",
      " 98%|█████████▊| 550000/559827 [01:24<00:01, 6375.20it/s]\u001b[A2019-06-26 15:59:37,353 [16161] INFO     ticclat.dbutils,122\t559827 wordforms have been added.\n"
     ]
    }
   ],
   "source": [
    "from ticclat.dbutils import bulk_add_wordforms\n",
    "\n",
    "# put wordforms in a dataframe\n",
    "wfs = pd.DataFrame(data.keys(), columns=['wordform'])\n",
    "print(wfs.sample(10))\n",
    "\n",
    "# bulk add wordforms\n",
    "with session_scope(Session) as session:\n",
    "    bulk_add_wordforms(session, wfs)"
   ]
  },
  {
   "cell_type": "code",
   "execution_count": 12,
   "metadata": {},
   "outputs": [
    {
     "name": "stdout",
     "output_type": "stream",
     "text": [
      "CPU times: user 9.79 s, sys: 237 ms, total: 10 s\n",
      "Wall time: 13 s\n"
     ]
    }
   ],
   "source": [
    "%%time\n",
    "from sqlalchemy import select\n",
    "from ticclat.utils import chunk_df, anahash_df, write_json_lines, \\\n",
    "    read_json_lines, get_temp_file, json_line\n",
    "\n",
    "# lookup ids\n",
    "with session_scope(Session) as session:\n",
    "    s = select([Wordform]).where(Wordform.wordform.in_(wfs['wordform']))\n",
    "    mapping = session.execute(s).fetchall()"
   ]
  },
  {
   "cell_type": "code",
   "execution_count": 28,
   "metadata": {},
   "outputs": [
    {
     "data": {
      "text/plain": [
       "('1', 338053)"
      ]
     },
     "execution_count": 28,
     "metadata": {},
     "output_type": "execute_result"
    }
   ],
   "source": [
    "mapping[0].wordform, mapping[0].wordform_id"
   ]
  },
  {
   "cell_type": "code",
   "execution_count": 77,
   "metadata": {},
   "outputs": [],
   "source": [
    "def result_iterator_json(result):\n",
    "    for wf in result:\n",
    "        mp = {'wordform_id': wf.wordform_id}\n",
    "        for key, components in data[wf.wordform]['morph_par'].items():\n",
    "            try:\n",
    "                yield {'wordform_id': wf.wordform_id, \n",
    "                       'Z': int(components['Z']), \n",
    "                       'Y': int(components['Y']), \n",
    "                       'X': int(components['X']), \n",
    "                       'W': int(components['W']), \n",
    "                       'V': int(components['V']), \n",
    "                       'word_type_code': components['h'],\n",
    "                       'key': key}\n",
    "            except Exception as e:\n",
    "                print(e)\n",
    "                print(data[wf.wordform]['morph_par'].keys())\n",
    "                print(key)\n",
    "                print(components)\n",
    "                print()"
   ]
  },
  {
   "cell_type": "code",
   "execution_count": 50,
   "metadata": {},
   "outputs": [],
   "source": [
    "import copy\n",
    "\n",
    "def result_iterator(result, mapping):\n",
    "    for wf in mapping:\n",
    "        for code in result[wf['wordform']]:\n",
    "            if code is not None: # ignore incomplete codes for now\n",
    "                c = copy.copy(code)\n",
    "                \n",
    "                c['wordform_id'] = wf['wordform_id']\n",
    "                \n",
    "                # we don't need the wordform\n",
    "                del c['wordform']\n",
    "                yield(c)"
   ]
  },
  {
   "cell_type": "code",
   "execution_count": 51,
   "metadata": {},
   "outputs": [
    {
     "name": "stdout",
     "output_type": "stream",
     "text": [
      "{'Z': 1, 'Y': 1, 'X': 23, 'W': 4, 'V': 1, 'word_type_code': 'HDU003', 'wordform_id': 338053}\n",
      "{'Z': 1, 'Y': 1, 'X': 22, 'W': 101, 'V': 13, 'word_type_code': 'HDU011', 'wordform_id': 338053}\n",
      "{'Z': 1, 'Y': 3, 'X': 384, 'W': 181, 'V': 10, 'word_type_code': 'HDU061', 'wordform_id': 338054}\n",
      "{'Z': 1, 'Y': 3, 'X': 555, 'W': 209, 'V': 1, 'word_type_code': 'HDU011', 'wordform_id': 338054}\n",
      "{'Z': 1, 'Y': 1, 'X': 993, 'W': 275, 'V': 8, 'word_type_code': 'HDU035', 'wordform_id': 338054}\n",
      "{'Z': 1, 'Y': 3, 'X': 1016, 'W': 267, 'V': 1, 'word_type_code': 'HDU011', 'wordform_id': 338055}\n",
      "{'Z': 1, 'Y': 3, 'X': 1016, 'W': 267, 'V': 5, 'word_type_code': 'HDU026', 'wordform_id': 338055}\n",
      "{'Z': 1, 'Y': 3, 'X': 2433, 'W': 1475, 'V': 1, 'word_type_code': 'HDU011', 'wordform_id': 338055}\n",
      "{'Z': 1, 'Y': 3, 'X': 906, 'W': 439, 'V': 7, 'word_type_code': 'HDU047', 'wordform_id': 338056}\n",
      "{'Z': 1, 'Y': 1, 'X': 29, 'W': 470, 'V': 1, 'word_type_code': 'HDU016', 'wordform_id': 338056}\n"
     ]
    }
   ],
   "source": [
    "for i, obj in enumerate(result_iterator(result, mapping)):\n",
    "    if i != 0 and i % 10 == 0:\n",
    "        break\n",
    "    print(obj)"
   ]
  },
  {
   "cell_type": "code",
   "execution_count": 58,
   "metadata": {},
   "outputs": [
    {
     "name": "stderr",
     "output_type": "stream",
     "text": [
      "0it [00:00, ?it/s]"
     ]
    },
    {
     "name": "stdout",
     "output_type": "stream",
     "text": [
      "Wrote 359319 morphological variants.\n"
     ]
    },
    {
     "name": "stderr",
     "output_type": "stream",
     "text": [
      "359319it [00:15, 22817.53it/s]\n"
     ]
    }
   ],
   "source": [
    "# insert the contents of the file with the json lines\n",
    "from collections import defaultdict\n",
    "\n",
    "from ticclat.ticclat_schema import MorphologicalParadigm\n",
    "from ticclat.sacoreutils import sql_insert_batches\n",
    "\n",
    "filtered = defaultdict(dict)\n",
    "\n",
    "with session_scope(Session) as session:\n",
    "    with get_temp_file() as mp_file:\n",
    "        for paradigm in result_iterator(result, mapping):\n",
    "            filtered['{}-{}-{}-{}-{}'.format(paradigm['Z'],\n",
    "                                                   paradigm['Y'],\n",
    "                                                   paradigm['X'],\n",
    "                                                   paradigm['W'],\n",
    "                                                   paradigm['V'])] = paradigm\n",
    "        \n",
    "        t = write_json_lines(mp_file, filtered.values())\n",
    "        print(f'Wrote {t} morphological variants.')\n",
    "        sql_insert_batches(session, MorphologicalParadigm, read_json_lines(mp_file), batch_size=50000)"
   ]
  },
  {
   "cell_type": "code",
   "execution_count": null,
   "metadata": {},
   "outputs": [],
   "source": [
    "\n",
    "    "
   ]
  }
 ],
 "metadata": {
  "kernelspec": {
   "display_name": "Python 3",
   "language": "python",
   "name": "python3"
  },
  "language_info": {
   "codemirror_mode": {
    "name": "ipython",
    "version": 3
   },
   "file_extension": ".py",
   "mimetype": "text/x-python",
   "name": "python",
   "nbconvert_exporter": "python",
   "pygments_lexer": "ipython3",
   "version": "3.7.3"
  }
 },
 "nbformat": 4,
 "nbformat_minor": 2
}
