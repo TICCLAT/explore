{
 "cells": [
  {
   "cell_type": "code",
   "execution_count": null,
   "metadata": {},
   "outputs": [],
   "source": [
    "%load_ext autoreload\n",
    "%autoreload 2"
   ]
  },
  {
   "cell_type": "code",
   "execution_count": null,
   "metadata": {},
   "outputs": [],
   "source": [
    "%matplotlib inline\n",
    "\n",
    "import numpy as np\n",
    "import pandas as pd\n",
    "import matplotlib.pyplot as plt\n",
    "\n",
    "from tqdm import tqdm_notebook as tqdm"
   ]
  },
  {
   "cell_type": "code",
   "execution_count": null,
   "metadata": {},
   "outputs": [],
   "source": [
    "import logging\n",
    "\n",
    "logging.basicConfig(format=\"%(asctime)s [%(process)d] %(levelname)-8s \"\n",
    "                    \"%(name)s,%(lineno)s\\t%(message)s\")\n",
    "logging.getLogger().setLevel('INFO')"
   ]
  },
  {
   "cell_type": "code",
   "execution_count": null,
   "metadata": {},
   "outputs": [],
   "source": [
    "# Read information to connect to the database and put it in environment variables\n",
    "import os\n",
    "with open('../ENVVARS.txt') as f:\n",
    "    for line in f:\n",
    "        parts = line.split('=')\n",
    "        if len(parts) == 2:\n",
    "            os.environ[parts[0]] = parts[1].strip()\n",
    "            \n",
    "os.environ['lexicon_name'] = os.environ['dbname']"
   ]
  },
  {
   "cell_type": "code",
   "execution_count": null,
   "metadata": {},
   "outputs": [],
   "source": [
    "db_name = 'ticclat'\n",
    "os.environ['dbname'] = db_name"
   ]
  },
  {
   "cell_type": "code",
   "execution_count": null,
   "metadata": {},
   "outputs": [],
   "source": [
    "from ticclat.ticclat_schema import Lexicon, Wordform, Anahash\n",
    "\n",
    "from ticclat.dbutils import get_session, session_scope\n",
    "\n",
    "Session = get_session(os.environ['user'], os.environ['password'], os.environ['dbname'])"
   ]
  },
  {
   "cell_type": "code",
   "execution_count": null,
   "metadata": {},
   "outputs": [],
   "source": [
    "%%time\n",
    "# Ingest Sonar-500 corpus\n",
    "from ticclat.tokenize import terms_documents_matrix_ticcl_frequency\n",
    "from ticclat.sacoreutils import add_corpus_core\n",
    "\n",
    "from nlppln.utils import get_files\n",
    "\n",
    "in_dir = '/home/jvdzwaan/data/ticclat/TICCLAT/SONAR500/'\n",
    "in_files = get_files(in_dir)\n",
    "#in_files = in_files[:2]\n",
    "\n",
    "corpus_matrix, vectorizer = terms_documents_matrix_ticcl_frequency(in_files)\n",
    "\n",
    "document_metadata = pd.DataFrame()\n",
    "document_metadata['title'] = [os.path.basename(f).split('.', 1)[0] for f in in_files]\n",
    "document_metadata['language'] = 'nl'\n",
    "# More metadata?\n",
    "\n",
    "with session_scope(Session) as session:\n",
    "    add_corpus_core(session, corpus_matrix, vectorizer, 'SoNaR-500', document_metadata)\n"
   ]
  },
  {
   "cell_type": "code",
   "execution_count": null,
   "metadata": {},
   "outputs": [],
   "source": [
    "import bz2\n",
    "\n",
    "freq_file = '/home/jvdzwaan/data/ticclat/TICCLAT/SGD/SGD.PolMash.unifrq.1814.clean'\n",
    "\n",
    "try:\n",
    "    file_open = bz2.open(freq_file, 'rt')\n",
    "    with file_open as f:\n",
    "        for line in f:\n",
    "            word, freq = line.split()\n",
    "except Exception as e:\n",
    "    raise(e)"
   ]
  },
  {
   "cell_type": "code",
   "execution_count": null,
   "metadata": {},
   "outputs": [],
   "source": [
    "from ticclat.tokenize import ticcl_frequency_bz2\n",
    "\n",
    "file2 = '/home/jvdzwaan/data/ticclat/TICCLAT/SONAR500/WR-P-E-A_discussion_lists.wordfreqlist.clean.tsv.bz2'\n",
    "\n",
    "for s in ticcl_frequency_bz2([freq_file, file2]):\n",
    "    print('hop')"
   ]
  },
  {
   "cell_type": "code",
   "execution_count": null,
   "metadata": {},
   "outputs": [],
   "source": [
    "%%time\n",
    "from ticclat.ingest.sdg import ingest\n",
    "\n",
    "ingest(Session, base_dir='/home/jvdzwaan/data/ticclat/TICCLAT/')"
   ]
  },
  {
   "cell_type": "code",
   "execution_count": null,
   "metadata": {},
   "outputs": [],
   "source": [
    "%%time\n",
    "from ticclat.ingest.edbo import ingest\n",
    "\n",
    "ingest(Session, base_dir='/home/jvdzwaan/data/ticclat/TICCLAT/')"
   ]
  }
 ],
 "metadata": {
  "language_info": {
   "name": "python",
   "pygments_lexer": "ipython3"
  }
 },
 "nbformat": 4,
 "nbformat_minor": 2
}
