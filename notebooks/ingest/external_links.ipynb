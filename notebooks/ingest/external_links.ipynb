{
 "cells": [
  {
   "cell_type": "code",
   "execution_count": null,
   "metadata": {},
   "outputs": [],
   "source": [
    "%load_ext autoreload\n",
    "%autoreload 2"
   ]
  },
  {
   "cell_type": "code",
   "execution_count": null,
   "metadata": {},
   "outputs": [],
   "source": [
    "import logging\n",
    "\n",
    "logging.basicConfig(format=\"%(asctime)s [%(process)d] %(levelname)-8s \"\n",
    "                    \"%(name)s,%(lineno)s\\t%(message)s\")\n",
    "logging.getLogger().setLevel('INFO')"
   ]
  },
  {
   "cell_type": "code",
   "execution_count": null,
   "metadata": {},
   "outputs": [],
   "source": [
    "#matplotlib inline\n",
    "\n",
    "import numpy as np\n",
    "import pandas as pd\n",
    "#import matplotlib.pyplot as plt\n",
    "\n",
    "from tqdm import tqdm_notebook as tqdm"
   ]
  },
  {
   "cell_type": "code",
   "execution_count": null,
   "metadata": {},
   "outputs": [],
   "source": [
    "# Read information to connect to the database and put it in environment variables\n",
    "import os\n",
    "with open('../ENVVARS.txt') as f:\n",
    "    for line in f:\n",
    "        parts = line.split('=')\n",
    "        if len(parts) == 2:\n",
    "            os.environ[parts[0]] = parts[1].strip()"
   ]
  },
  {
   "cell_type": "code",
   "execution_count": null,
   "metadata": {},
   "outputs": [],
   "source": [
    "from ticclat.ticclat_schema import Lexicon, Wordform, Anahash\n",
    "\n",
    "from ticclat.dbutils import get_session, session_scope\n",
    "\n",
    "Session = get_session(os.environ['user'], os.environ['password'], os.environ['dbname'])"
   ]
  },
  {
   "cell_type": "code",
   "execution_count": null,
   "metadata": {},
   "outputs": [],
   "source": [
    "in_file = '/Users/jvdzwaan/data/ticclat/morph/CombilexTypolistINThistlex.TICCLATingest.DeriveParadigms267.TYPOLIST6.tsv'\n",
    "\n",
    "data = pd.read_csv(in_file, sep='\\t', names=['wordform',\n",
    "                                                 'corpus_freq',\n",
    "                                                 'component_codes',\n",
    "                                                 'human_readable_c_code',\n",
    "                                                 'first_year',\n",
    "                                                 'last_year',\n",
    "                                                 'dict_ids',\n",
    "                                                 'pos_tags',\n",
    "                                                 'int_ids'])\n",
    "# drop first row (contains empty wordform)\n",
    "data = data.drop([0])"
   ]
  },
  {
   "cell_type": "code",
   "execution_count": null,
   "metadata": {},
   "outputs": [],
   "source": [
    "data.head()"
   ]
  },
  {
   "cell_type": "code",
   "execution_count": null,
   "metadata": {},
   "outputs": [],
   "source": [
    "# get the external link ids from the dataframe\n",
    "import re\n",
    "from collections import defaultdict, Counter\n",
    "\n",
    "\n",
    "result = defaultdict(list)\n",
    "prefixes = Counter()\n",
    "midd = Counter()\n",
    "suffixes = Counter()\n",
    "for row in data.iterrows():\n",
    "    if isinstance(row[1]['dict_ids'], str):\n",
    "        codes = re.split(r'#|@', row[1]['dict_ids'])\n",
    "        wf = row[1]['wordform']\n",
    "        for code in codes:\n",
    "            if code != '':\n",
    "                parts = code.split('_')\n",
    "                if parts[0] == 'WNT':\n",
    "                    print(code)\n",
    "                    #if len(parts) == 3:\n",
    "                    #    suffixes[parts[2]] += 1\n",
    "                    #else:\n",
    "                    #    midd[parts[2]] += 1\n",
    "                    #    suffixes[parts[3]] += 1\n",
    "                        \n",
    "                #if len(parts) == 3:\n",
    "                #    pass\n",
    "                    #if parts[0] == 'MNW':\n",
    "                        #print(code)\n",
    "                    #prefixes[parts[0]] += 1\n",
    "                 #       suffixes[parts[2]] += 1\n",
    "                 #       if not parts[1].isdigit():\n",
    "                 #           print(code)\n",
    "                #else:\n",
    "                #    pass\n",
    "                #    prefixes[parts[0]] += 1\n",
    "                    #print(code)\n",
    "    #if isinstance(row[1]['int_ids'], str):\n",
    "    #    codes = re.split(r'#|@', row[1]['int_ids'])\n",
    "    #    for code in codes:\n",
    "    #        if code != '':\n",
    "    #            parts = code.split('_')\n",
    "    #            if len(parts) != 2:\n",
    "    #                print(code)"
   ]
  },
  {
   "cell_type": "code",
   "execution_count": null,
   "metadata": {},
   "outputs": [],
   "source": [
    "prefixes"
   ]
  },
  {
   "cell_type": "code",
   "execution_count": null,
   "metadata": {},
   "outputs": [],
   "source": [
    "suffixes"
   ]
  },
  {
   "cell_type": "code",
   "execution_count": null,
   "metadata": {},
   "outputs": [],
   "source": [
    "midd"
   ]
  }
 ],
 "metadata": {
  "language_info": {
   "name": "python",
   "pygments_lexer": "ipython3"
  }
 },
 "nbformat": 4,
 "nbformat_minor": 2
}
