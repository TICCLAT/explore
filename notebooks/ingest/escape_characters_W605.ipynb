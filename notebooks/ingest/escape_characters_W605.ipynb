{
 "cells": [
  {
   "cell_type": "markdown",
   "metadata": {},
   "source": [
    "Apparently, https://lintlyci.github.io/Flake8Rules/rules/W605.html says that `\\+` and `\\^` are invalid escape characters. Let's see if the replacement stuff still works without it."
   ]
  },
  {
   "cell_type": "code",
   "execution_count": null,
   "metadata": {},
   "outputs": [],
   "source": [
    "# note that these are regex formatted, i.e. with special characters escaped\n",
    "diacritic_markers = {r'@`': '\\u0300',    # accent grave\n",
    "                     r\"@\\'\": '\\u0301',  # accent aigu\n",
    "                     r'@\\\\': '\\u0308', # trema\n",
    "                     r'@\\+': '\\u0327',   # cedilla\n",
    "                     r'@\\^': '\\u0302',   # accent circumflex\n",
    "                     r'@=': '\\u0303',    # tilde\n",
    "                     r'@@': \"'\",         # apostrophe (not actually a diacritic)\n",
    "                     r'@2': '\\u2082',    # subscript 2\n",
    "                     r'@n': '\\u0308n'    # trema followed by n\n",
    "                    }"
   ]
  },
  {
   "cell_type": "code",
   "execution_count": null,
   "metadata": {},
   "outputs": [],
   "source": [
    "import pandas as pd"
   ]
  },
  {
   "cell_type": "code",
   "execution_count": null,
   "metadata": {},
   "outputs": [],
   "source": [
    "df = pd.DataFrame({'word': ['he@`', 'fac@+ade', \"bru@^le@'e\", \"ree@\\\\en\", 'sen@=ora@@s', 'H@2O', 'bacterie@n']})"
   ]
  },
  {
   "cell_type": "code",
   "execution_count": null,
   "metadata": {},
   "outputs": [],
   "source": [
    "df"
   ]
  },
  {
   "cell_type": "code",
   "execution_count": null,
   "metadata": {},
   "outputs": [],
   "source": [
    "clean_words = df['word'].copy()\n",
    "for marker, umarker in diacritic_markers.items():\n",
    "    clean_words = clean_words.str.replace(marker, umarker)"
   ]
  },
  {
   "cell_type": "code",
   "execution_count": null,
   "metadata": {},
   "outputs": [],
   "source": [
    "clean_words"
   ]
  },
  {
   "cell_type": "code",
   "execution_count": null,
   "metadata": {},
   "outputs": [],
   "source": []
  }
 ],
 "metadata": {
  "language_info": {
   "name": "python",
   "pygments_lexer": "ipython3"
  }
 },
 "nbformat": 4,
 "nbformat_minor": 2
}
