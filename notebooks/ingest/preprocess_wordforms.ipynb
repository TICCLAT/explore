{
 "cells": [
  {
   "cell_type": "code",
   "execution_count": null,
   "metadata": {},
   "outputs": [],
   "source": [
    "%load_ext autoreload\n",
    "%autoreload 2"
   ]
  },
  {
   "cell_type": "code",
   "execution_count": null,
   "metadata": {},
   "outputs": [],
   "source": [
    "%matplotlib inline\n",
    "\n",
    "import numpy as np\n",
    "import pandas as pd\n",
    "import matplotlib.pyplot as plt\n",
    "\n",
    "from tqdm import tqdm_notebook as tqdm"
   ]
  },
  {
   "cell_type": "code",
   "execution_count": null,
   "metadata": {},
   "outputs": [],
   "source": [
    "import logging\n",
    "\n",
    "logging.basicConfig(format=\"%(asctime)s [%(process)d] %(levelname)-8s \"\n",
    "                    \"%(name)s,%(lineno)s\\t%(message)s\")\n",
    "logging.getLogger().setLevel('INFO')"
   ]
  },
  {
   "cell_type": "code",
   "execution_count": null,
   "metadata": {},
   "outputs": [],
   "source": [
    "# Read information to connect to the database and put it in environment variables\n",
    "import os\n",
    "with open('../ENVVARS.txt') as f:\n",
    "    for line in f:\n",
    "        parts = line.split('=')\n",
    "        if len(parts) == 2:\n",
    "            os.environ[parts[0]] = parts[1].strip()\n",
    "            \n",
    "os.environ['lexicon_name'] = os.environ['dbname']"
   ]
  },
  {
   "cell_type": "code",
   "execution_count": null,
   "metadata": {},
   "outputs": [],
   "source": [
    "db_name = 'ticclat'\n",
    "os.environ['dbname'] = db_name"
   ]
  },
  {
   "cell_type": "code",
   "execution_count": null,
   "metadata": {},
   "outputs": [],
   "source": [
    "from ticclat.ticclat_schema import Lexicon, Wordform, Anahash\n",
    "\n",
    "from ticclat.dbutils import get_session, session_scope\n",
    "\n",
    "Session = get_session(os.environ['user'], os.environ['password'], os.environ['dbname'])"
   ]
  },
  {
   "cell_type": "code",
   "execution_count": null,
   "metadata": {},
   "outputs": [],
   "source": [
    "from sqlalchemy import select, text\n",
    "from sqlalchemy.sql import func, distinct, and_, desc\n",
    "\n",
    "from ticclat.ticclat_schema import MorphologicalParadigm, TextAttestation, Document, corpusId_x_documentId, Corpus\n",
    "\n",
    "update_data = []\n",
    "\n",
    "with session_scope(Session) as session:\n",
    "    q = select([Document.document_id]).select_from(corpusId_x_documentId.join(Corpus).join(Document)).where(Corpus.name == 'SoNaR-500')\n",
    "    r = session.execute(q).fetchall()\n",
    "    for row in r:\n",
    "        #print(row)\n",
    "        update_data.append({'doc_id': row[0]})\n",
    "update_data"
   ]
  },
  {
   "cell_type": "code",
   "execution_count": null,
   "metadata": {},
   "outputs": [],
   "source": [
    "from sqlalchemy import update\n",
    "from sqlalchemy.sql.expression import bindparam\n",
    "\n",
    "from ticclat.ticclat_schema import Lexicon, Wordform, Anahash, Document, Corpus\n",
    "\n",
    "with session_scope(Session) as session:\n",
    "    q = update(Document).values(year_from=1950, year_to=2010) \\\n",
    "        .where(Document.document_id.in_(select('*').select_from(select([Document.document_id]) \\\n",
    "                                        .select_from(corpusId_x_documentId.join(Corpus).join(Document)) \\\n",
    "                                        .where(Corpus.name == 'SoNaR-500').alias('test')).as_scalar()))\n",
    "    print(q)\n",
    "    #session.execute(q, update_data)\n",
    "    session.execute(q)"
   ]
  },
  {
   "cell_type": "code",
   "execution_count": null,
   "metadata": {},
   "outputs": [],
   "source": [
    "with session_scope(Session) as session:\n",
    "    q = update(Document).values(year_from=None, year_to=None) \\\n",
    "        .where(Document.document_id.in_(select('*').select_from(select([Document.document_id]) \\\n",
    "                                        .select_from(corpusId_x_documentId.join(Corpus).join(Document)) \\\n",
    "                                        .where(Corpus.name == 'SoNaR-500').alias('test')).as_scalar()))\n",
    "    print(q)\n",
    "    #session.execute(q, update_data)\n",
    "    session.execute(q)"
   ]
  },
  {
   "cell_type": "code",
   "execution_count": null,
   "metadata": {},
   "outputs": [],
   "source": [
    "%%time\n",
    "# replace _ in wordforms with *\n",
    "import MySQLdb\n",
    "\n",
    "with session_scope(Session) as session:\n",
    "    q = select([Wordform]).where(Wordform.wordform.like('%\\_%'))\n",
    "    print(q)\n",
    "    r = session.execute(q).fetchall()\n",
    "    for row in r:\n",
    "        #print(row)\n",
    "        try:\n",
    "            q = update(Wordform).values(wordform=row['wordform'].replace('_', '*'),\n",
    "                                        wordform_lowercase=row['wordform_lowercase'].replace('_', '*')).where(Wordform.wordform_id == row['wordform_id'])\n",
    "            session.execute(q)\n",
    "        except (MySQLdb._exceptions.IntegrityError, IntegrityError):\n",
    "            pass\n",
    "        "
   ]
  },
  {
   "cell_type": "code",
   "execution_count": null,
   "metadata": {},
   "outputs": [],
   "source": [
    "# replace _ in wordforms with *\n",
    "with session_scope(Session) as session:\n",
    "    q = select([Wordform]).where(Wordform.wordform.like('% %')).limit(10)\n",
    "    print(q)\n",
    "    r = session.execute(q).fetchall()\n",
    "    for row in r:\n",
    "        print(row)\n",
    "        q = update(Wordform).values(wordform=row['wordform'].replace(' ', '_'),\n",
    "                                    wordform_lowercase=row['wordform_lowercase'].replace(' ', '_')).where(Wordform.wordform_id == row['wordform_id'])\n",
    "        session.execute(q)"
   ]
  },
  {
   "cell_type": "code",
   "execution_count": null,
   "metadata": {},
   "outputs": [],
   "source": [
    "wfs = ['space bla', 'an other', np.NaN]\n",
    "df = pd.DataFrame(wfs, columns=['wordform'])\n",
    "df"
   ]
  },
  {
   "cell_type": "code",
   "execution_count": null,
   "metadata": {},
   "outputs": [],
   "source": []
  },
  {
   "cell_type": "code",
   "execution_count": null,
   "metadata": {},
   "outputs": [],
   "source": [
    "df['wordform'] = df['wordform'].str.replace(' ', '_')\n",
    "df"
   ]
  },
  {
   "cell_type": "code",
   "execution_count": null,
   "metadata": {},
   "outputs": [],
   "source": [
    "# delete corpus\n"
   ]
  }
 ],
 "metadata": {
  "language_info": {
   "name": "python",
   "pygments_lexer": "ipython3"
  }
 },
 "nbformat": 4,
 "nbformat_minor": 2
}
